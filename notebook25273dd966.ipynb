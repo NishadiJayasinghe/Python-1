{
 "cells": [
  {
   "cell_type": "code",
   "execution_count": 1,
   "id": "0192b9c6",
   "metadata": {
    "_cell_guid": "b1076dfc-b9ad-4769-8c92-a6c4dae69d19",
    "_uuid": "8f2839f25d086af736a60e9eeb907d3b93b6e0e5",
    "execution": {
     "iopub.execute_input": "2023-11-13T00:41:09.717504Z",
     "iopub.status.busy": "2023-11-13T00:41:09.716945Z",
     "iopub.status.idle": "2023-11-13T00:41:10.137748Z",
     "shell.execute_reply": "2023-11-13T00:41:10.136611Z"
    },
    "papermill": {
     "duration": 0.437133,
     "end_time": "2023-11-13T00:41:10.140791",
     "exception": false,
     "start_time": "2023-11-13T00:41:09.703658",
     "status": "completed"
    },
    "tags": []
   },
   "outputs": [],
   "source": [
    "# This Python 3 environment comes with many helpful analytics libraries installed\n",
    "# It is defined by the kaggle/python Docker image: https://github.com/kaggle/docker-python\n",
    "# For example, here's several helpful packages to load\n",
    "\n",
    "import numpy as np # linear algebra\n",
    "import pandas as pd # data processing, CSV file I/O (e.g. pd.read_csv)\n",
    "\n",
    "# Input data files are available in the read-only \"../input/\" directory\n",
    "# For example, running this (by clicking run or pressing Shift+Enter) will list all files under the input directory\n",
    "\n",
    "import os\n",
    "for dirname, _, filenames in os.walk('/kaggle/input'):\n",
    "    for filename in filenames:\n",
    "        print(os.path.join(dirname, filename))\n",
    "\n",
    "# You can write up to 20GB to the current directory (/kaggle/working/) that gets preserved as output when you create a version using \"Save & Run All\" \n",
    "# You can also write temporary files to /kaggle/temp/, but they won't be saved outside of the current session"
   ]
  },
  {
   "cell_type": "markdown",
   "id": "0db0f4d6",
   "metadata": {
    "papermill": {
     "duration": 0.010687,
     "end_time": "2023-11-13T00:41:10.163001",
     "exception": false,
     "start_time": "2023-11-13T00:41:10.152314",
     "status": "completed"
    },
    "tags": []
   },
   "source": [
    "# **Integers**"
   ]
  },
  {
   "cell_type": "code",
   "execution_count": 2,
   "id": "1a55556f",
   "metadata": {
    "execution": {
     "iopub.execute_input": "2023-11-13T00:41:10.186974Z",
     "iopub.status.busy": "2023-11-13T00:41:10.186447Z",
     "iopub.status.idle": "2023-11-13T00:41:10.194295Z",
     "shell.execute_reply": "2023-11-13T00:41:10.193167Z"
    },
    "papermill": {
     "duration": 0.022817,
     "end_time": "2023-11-13T00:41:10.196934",
     "exception": false,
     "start_time": "2023-11-13T00:41:10.174117",
     "status": "completed"
    },
    "tags": []
   },
   "outputs": [
    {
     "data": {
      "text/plain": [
       "int"
      ]
     },
     "execution_count": 2,
     "metadata": {},
     "output_type": "execute_result"
    }
   ],
   "source": [
    "type(12)"
   ]
  },
  {
   "cell_type": "code",
   "execution_count": 3,
   "id": "568a0065",
   "metadata": {
    "execution": {
     "iopub.execute_input": "2023-11-13T00:41:10.221196Z",
     "iopub.status.busy": "2023-11-13T00:41:10.220819Z",
     "iopub.status.idle": "2023-11-13T00:41:10.227782Z",
     "shell.execute_reply": "2023-11-13T00:41:10.226742Z"
    },
    "papermill": {
     "duration": 0.021912,
     "end_time": "2023-11-13T00:41:10.230243",
     "exception": false,
     "start_time": "2023-11-13T00:41:10.208331",
     "status": "completed"
    },
    "tags": []
   },
   "outputs": [
    {
     "data": {
      "text/plain": [
       "True"
      ]
     },
     "execution_count": 3,
     "metadata": {},
     "output_type": "execute_result"
    }
   ],
   "source": [
    "isinstance(12, int)"
   ]
  },
  {
   "cell_type": "code",
   "execution_count": 4,
   "id": "93b9855d",
   "metadata": {
    "execution": {
     "iopub.execute_input": "2023-11-13T00:41:10.254793Z",
     "iopub.status.busy": "2023-11-13T00:41:10.254429Z",
     "iopub.status.idle": "2023-11-13T00:41:10.261099Z",
     "shell.execute_reply": "2023-11-13T00:41:10.260090Z"
    },
    "papermill": {
     "duration": 0.021451,
     "end_time": "2023-11-13T00:41:10.263367",
     "exception": false,
     "start_time": "2023-11-13T00:41:10.241916",
     "status": "completed"
    },
    "tags": []
   },
   "outputs": [
    {
     "data": {
      "text/plain": [
       "0.3333333333333333"
      ]
     },
     "execution_count": 4,
     "metadata": {},
     "output_type": "execute_result"
    }
   ],
   "source": [
    "1/3"
   ]
  },
  {
   "cell_type": "code",
   "execution_count": 5,
   "id": "e1fa6385",
   "metadata": {
    "execution": {
     "iopub.execute_input": "2023-11-13T00:41:10.287831Z",
     "iopub.status.busy": "2023-11-13T00:41:10.287459Z",
     "iopub.status.idle": "2023-11-13T00:41:10.294511Z",
     "shell.execute_reply": "2023-11-13T00:41:10.293387Z"
    },
    "papermill": {
     "duration": 0.022349,
     "end_time": "2023-11-13T00:41:10.297061",
     "exception": false,
     "start_time": "2023-11-13T00:41:10.274712",
     "status": "completed"
    },
    "tags": []
   },
   "outputs": [
    {
     "data": {
      "text/plain": [
       "float"
      ]
     },
     "execution_count": 5,
     "metadata": {},
     "output_type": "execute_result"
    }
   ],
   "source": [
    "type(1/3)"
   ]
  },
  {
   "cell_type": "markdown",
   "id": "4ad33178",
   "metadata": {
    "papermill": {
     "duration": 0.011241,
     "end_time": "2023-11-13T00:41:10.320330",
     "exception": false,
     "start_time": "2023-11-13T00:41:10.309089",
     "status": "completed"
    },
    "tags": []
   },
   "source": [
    "# **Floats**"
   ]
  },
  {
   "cell_type": "code",
   "execution_count": 6,
   "id": "3c686d22",
   "metadata": {
    "execution": {
     "iopub.execute_input": "2023-11-13T00:41:10.346121Z",
     "iopub.status.busy": "2023-11-13T00:41:10.345305Z",
     "iopub.status.idle": "2023-11-13T00:41:10.352230Z",
     "shell.execute_reply": "2023-11-13T00:41:10.351169Z"
    },
    "papermill": {
     "duration": 0.022461,
     "end_time": "2023-11-13T00:41:10.354986",
     "exception": false,
     "start_time": "2023-11-13T00:41:10.332525",
     "status": "completed"
    },
    "tags": []
   },
   "outputs": [
    {
     "data": {
      "text/plain": [
       "float"
      ]
     },
     "execution_count": 6,
     "metadata": {},
     "output_type": "execute_result"
    }
   ],
   "source": [
    "type(1.0)"
   ]
  },
  {
   "cell_type": "code",
   "execution_count": 7,
   "id": "80815016",
   "metadata": {
    "execution": {
     "iopub.execute_input": "2023-11-13T00:41:10.380825Z",
     "iopub.status.busy": "2023-11-13T00:41:10.380407Z",
     "iopub.status.idle": "2023-11-13T00:41:10.387196Z",
     "shell.execute_reply": "2023-11-13T00:41:10.386248Z"
    },
    "papermill": {
     "duration": 0.022772,
     "end_time": "2023-11-13T00:41:10.389822",
     "exception": false,
     "start_time": "2023-11-13T00:41:10.367050",
     "status": "completed"
    },
    "tags": []
   },
   "outputs": [
    {
     "data": {
      "text/plain": [
       "True"
      ]
     },
     "execution_count": 7,
     "metadata": {},
     "output_type": "execute_result"
    }
   ],
   "source": [
    "isinstance (0.33333, float)"
   ]
  },
  {
   "cell_type": "code",
   "execution_count": 8,
   "id": "e4c5ebaf",
   "metadata": {
    "execution": {
     "iopub.execute_input": "2023-11-13T00:41:10.415749Z",
     "iopub.status.busy": "2023-11-13T00:41:10.415388Z",
     "iopub.status.idle": "2023-11-13T00:41:10.422491Z",
     "shell.execute_reply": "2023-11-13T00:41:10.421264Z"
    },
    "papermill": {
     "duration": 0.023031,
     "end_time": "2023-11-13T00:41:10.424803",
     "exception": false,
     "start_time": "2023-11-13T00:41:10.401772",
     "status": "completed"
    },
    "tags": []
   },
   "outputs": [
    {
     "data": {
      "text/plain": [
       "6.0"
      ]
     },
     "execution_count": 8,
     "metadata": {},
     "output_type": "execute_result"
    }
   ],
   "source": [
    "5+1.0"
   ]
  },
  {
   "cell_type": "code",
   "execution_count": 9,
   "id": "8b8feaf8",
   "metadata": {
    "execution": {
     "iopub.execute_input": "2023-11-13T00:41:10.450947Z",
     "iopub.status.busy": "2023-11-13T00:41:10.450449Z",
     "iopub.status.idle": "2023-11-13T00:41:10.457618Z",
     "shell.execute_reply": "2023-11-13T00:41:10.456407Z"
    },
    "papermill": {
     "duration": 0.022757,
     "end_time": "2023-11-13T00:41:10.459807",
     "exception": false,
     "start_time": "2023-11-13T00:41:10.437050",
     "status": "completed"
    },
    "tags": []
   },
   "outputs": [
    {
     "data": {
      "text/plain": [
       "6"
      ]
     },
     "execution_count": 9,
     "metadata": {},
     "output_type": "execute_result"
    }
   ],
   "source": [
    "int(6.0)"
   ]
  },
  {
   "cell_type": "code",
   "execution_count": 10,
   "id": "d44ae801",
   "metadata": {
    "execution": {
     "iopub.execute_input": "2023-11-13T00:41:10.486134Z",
     "iopub.status.busy": "2023-11-13T00:41:10.485762Z",
     "iopub.status.idle": "2023-11-13T00:41:10.492412Z",
     "shell.execute_reply": "2023-11-13T00:41:10.491202Z"
    },
    "papermill": {
     "duration": 0.022822,
     "end_time": "2023-11-13T00:41:10.494814",
     "exception": false,
     "start_time": "2023-11-13T00:41:10.471992",
     "status": "completed"
    },
    "tags": []
   },
   "outputs": [
    {
     "data": {
      "text/plain": [
       "6.0"
      ]
     },
     "execution_count": 10,
     "metadata": {},
     "output_type": "execute_result"
    }
   ],
   "source": [
    "float(6)"
   ]
  },
  {
   "cell_type": "code",
   "execution_count": 11,
   "id": "a3c83ee6",
   "metadata": {
    "execution": {
     "iopub.execute_input": "2023-11-13T00:41:10.521087Z",
     "iopub.status.busy": "2023-11-13T00:41:10.520698Z",
     "iopub.status.idle": "2023-11-13T00:41:10.528622Z",
     "shell.execute_reply": "2023-11-13T00:41:10.527404Z"
    },
    "papermill": {
     "duration": 0.023715,
     "end_time": "2023-11-13T00:41:10.530863",
     "exception": false,
     "start_time": "2023-11-13T00:41:10.507148",
     "status": "completed"
    },
    "tags": []
   },
   "outputs": [
    {
     "data": {
      "text/plain": [
       "float"
      ]
     },
     "execution_count": 11,
     "metadata": {},
     "output_type": "execute_result"
    }
   ],
   "source": [
    "type(float(\"Inf\"))"
   ]
  },
  {
   "cell_type": "code",
   "execution_count": 12,
   "id": "a4432547",
   "metadata": {
    "execution": {
     "iopub.execute_input": "2023-11-13T00:41:10.557839Z",
     "iopub.status.busy": "2023-11-13T00:41:10.557446Z",
     "iopub.status.idle": "2023-11-13T00:41:10.564429Z",
     "shell.execute_reply": "2023-11-13T00:41:10.563270Z"
    },
    "papermill": {
     "duration": 0.023235,
     "end_time": "2023-11-13T00:41:10.566803",
     "exception": false,
     "start_time": "2023-11-13T00:41:10.543568",
     "status": "completed"
    },
    "tags": []
   },
   "outputs": [
    {
     "data": {
      "text/plain": [
       "float"
      ]
     },
     "execution_count": 12,
     "metadata": {},
     "output_type": "execute_result"
    }
   ],
   "source": [
    "type (float (\"NaN\"))"
   ]
  },
  {
   "cell_type": "markdown",
   "id": "83311aaf",
   "metadata": {
    "papermill": {
     "duration": 0.01217,
     "end_time": "2023-11-13T00:41:10.591670",
     "exception": false,
     "start_time": "2023-11-13T00:41:10.579500",
     "status": "completed"
    },
    "tags": []
   },
   "source": [
    "# **Booleans**"
   ]
  },
  {
   "cell_type": "code",
   "execution_count": 13,
   "id": "ec84fb98",
   "metadata": {
    "execution": {
     "iopub.execute_input": "2023-11-13T00:41:10.618335Z",
     "iopub.status.busy": "2023-11-13T00:41:10.617899Z",
     "iopub.status.idle": "2023-11-13T00:41:10.624792Z",
     "shell.execute_reply": "2023-11-13T00:41:10.623720Z"
    },
    "papermill": {
     "duration": 0.023329,
     "end_time": "2023-11-13T00:41:10.627449",
     "exception": false,
     "start_time": "2023-11-13T00:41:10.604120",
     "status": "completed"
    },
    "tags": []
   },
   "outputs": [
    {
     "data": {
      "text/plain": [
       "bool"
      ]
     },
     "execution_count": 13,
     "metadata": {},
     "output_type": "execute_result"
    }
   ],
   "source": [
    "type(True)"
   ]
  },
  {
   "cell_type": "code",
   "execution_count": 14,
   "id": "54cf4e72",
   "metadata": {
    "execution": {
     "iopub.execute_input": "2023-11-13T00:41:10.655257Z",
     "iopub.status.busy": "2023-11-13T00:41:10.654895Z",
     "iopub.status.idle": "2023-11-13T00:41:10.660529Z",
     "shell.execute_reply": "2023-11-13T00:41:10.659778Z"
    },
    "papermill": {
     "duration": 0.022052,
     "end_time": "2023-11-13T00:41:10.662736",
     "exception": false,
     "start_time": "2023-11-13T00:41:10.640684",
     "status": "completed"
    },
    "tags": []
   },
   "outputs": [
    {
     "data": {
      "text/plain": [
       "True"
      ]
     },
     "execution_count": 14,
     "metadata": {},
     "output_type": "execute_result"
    }
   ],
   "source": [
    "isinstance(False, bool)"
   ]
  },
  {
   "cell_type": "code",
   "execution_count": 15,
   "id": "f037d851",
   "metadata": {
    "execution": {
     "iopub.execute_input": "2023-11-13T00:41:10.690033Z",
     "iopub.status.busy": "2023-11-13T00:41:10.689661Z",
     "iopub.status.idle": "2023-11-13T00:41:10.696310Z",
     "shell.execute_reply": "2023-11-13T00:41:10.695207Z"
    },
    "papermill": {
     "duration": 0.023406,
     "end_time": "2023-11-13T00:41:10.698934",
     "exception": false,
     "start_time": "2023-11-13T00:41:10.675528",
     "status": "completed"
    },
    "tags": []
   },
   "outputs": [
    {
     "data": {
      "text/plain": [
       "True"
      ]
     },
     "execution_count": 15,
     "metadata": {},
     "output_type": "execute_result"
    }
   ],
   "source": [
    "20>10"
   ]
  },
  {
   "cell_type": "code",
   "execution_count": 16,
   "id": "66c5ceb7",
   "metadata": {
    "execution": {
     "iopub.execute_input": "2023-11-13T00:41:10.728185Z",
     "iopub.status.busy": "2023-11-13T00:41:10.727807Z",
     "iopub.status.idle": "2023-11-13T00:41:10.734529Z",
     "shell.execute_reply": "2023-11-13T00:41:10.733338Z"
    },
    "papermill": {
     "duration": 0.024286,
     "end_time": "2023-11-13T00:41:10.736879",
     "exception": false,
     "start_time": "2023-11-13T00:41:10.712593",
     "status": "completed"
    },
    "tags": []
   },
   "outputs": [
    {
     "data": {
      "text/plain": [
       "False"
      ]
     },
     "execution_count": 16,
     "metadata": {},
     "output_type": "execute_result"
    }
   ],
   "source": [
    "20<10"
   ]
  },
  {
   "cell_type": "code",
   "execution_count": 17,
   "id": "1dae819e",
   "metadata": {
    "execution": {
     "iopub.execute_input": "2023-11-13T00:41:10.766216Z",
     "iopub.status.busy": "2023-11-13T00:41:10.765812Z",
     "iopub.status.idle": "2023-11-13T00:41:10.772318Z",
     "shell.execute_reply": "2023-11-13T00:41:10.771435Z"
    },
    "papermill": {
     "duration": 0.023688,
     "end_time": "2023-11-13T00:41:10.774562",
     "exception": false,
     "start_time": "2023-11-13T00:41:10.750874",
     "status": "completed"
    },
    "tags": []
   },
   "outputs": [
    {
     "data": {
      "text/plain": [
       "True"
      ]
     },
     "execution_count": 17,
     "metadata": {},
     "output_type": "execute_result"
    }
   ],
   "source": [
    "20>=20"
   ]
  },
  {
   "cell_type": "code",
   "execution_count": 18,
   "id": "fdf002db",
   "metadata": {
    "execution": {
     "iopub.execute_input": "2023-11-13T00:41:10.803532Z",
     "iopub.status.busy": "2023-11-13T00:41:10.803030Z",
     "iopub.status.idle": "2023-11-13T00:41:10.809458Z",
     "shell.execute_reply": "2023-11-13T00:41:10.808394Z"
    },
    "papermill": {
     "duration": 0.023929,
     "end_time": "2023-11-13T00:41:10.811892",
     "exception": false,
     "start_time": "2023-11-13T00:41:10.787963",
     "status": "completed"
    },
    "tags": []
   },
   "outputs": [
    {
     "data": {
      "text/plain": [
       "True"
      ]
     },
     "execution_count": 18,
     "metadata": {},
     "output_type": "execute_result"
    }
   ],
   "source": [
    "10==10"
   ]
  },
  {
   "cell_type": "code",
   "execution_count": 19,
   "id": "344ccc3e",
   "metadata": {
    "execution": {
     "iopub.execute_input": "2023-11-13T00:41:10.840868Z",
     "iopub.status.busy": "2023-11-13T00:41:10.840489Z",
     "iopub.status.idle": "2023-11-13T00:41:10.847057Z",
     "shell.execute_reply": "2023-11-13T00:41:10.845942Z"
    },
    "papermill": {
     "duration": 0.024017,
     "end_time": "2023-11-13T00:41:10.849526",
     "exception": false,
     "start_time": "2023-11-13T00:41:10.825509",
     "status": "completed"
    },
    "tags": []
   },
   "outputs": [
    {
     "data": {
      "text/plain": [
       "True"
      ]
     },
     "execution_count": 19,
     "metadata": {},
     "output_type": "execute_result"
    }
   ],
   "source": [
    "40 == 40.0"
   ]
  },
  {
   "cell_type": "code",
   "execution_count": 20,
   "id": "a2ad0a66",
   "metadata": {
    "execution": {
     "iopub.execute_input": "2023-11-13T00:41:10.879375Z",
     "iopub.status.busy": "2023-11-13T00:41:10.878967Z",
     "iopub.status.idle": "2023-11-13T00:41:10.884947Z",
     "shell.execute_reply": "2023-11-13T00:41:10.884096Z"
    },
    "papermill": {
     "duration": 0.023636,
     "end_time": "2023-11-13T00:41:10.886926",
     "exception": false,
     "start_time": "2023-11-13T00:41:10.863290",
     "status": "completed"
    },
    "tags": []
   },
   "outputs": [
    {
     "data": {
      "text/plain": [
       "True"
      ]
     },
     "execution_count": 20,
     "metadata": {},
     "output_type": "execute_result"
    }
   ],
   "source": [
    "1!=2"
   ]
  },
  {
   "cell_type": "code",
   "execution_count": 21,
   "id": "607e37a8",
   "metadata": {
    "execution": {
     "iopub.execute_input": "2023-11-13T00:41:10.977110Z",
     "iopub.status.busy": "2023-11-13T00:41:10.976730Z",
     "iopub.status.idle": "2023-11-13T00:41:10.983119Z",
     "shell.execute_reply": "2023-11-13T00:41:10.982054Z"
    },
    "papermill": {
     "duration": 0.024437,
     "end_time": "2023-11-13T00:41:10.985684",
     "exception": false,
     "start_time": "2023-11-13T00:41:10.961247",
     "status": "completed"
    },
    "tags": []
   },
   "outputs": [
    {
     "data": {
      "text/plain": [
       "True"
      ]
     },
     "execution_count": 21,
     "metadata": {},
     "output_type": "execute_result"
    }
   ],
   "source": [
    "not False"
   ]
  },
  {
   "cell_type": "code",
   "execution_count": 22,
   "id": "4e901eb1",
   "metadata": {
    "execution": {
     "iopub.execute_input": "2023-11-13T00:41:11.015820Z",
     "iopub.status.busy": "2023-11-13T00:41:11.015379Z",
     "iopub.status.idle": "2023-11-13T00:41:11.021821Z",
     "shell.execute_reply": "2023-11-13T00:41:11.021120Z"
    },
    "papermill": {
     "duration": 0.024324,
     "end_time": "2023-11-13T00:41:11.024235",
     "exception": false,
     "start_time": "2023-11-13T00:41:10.999911",
     "status": "completed"
    },
    "tags": []
   },
   "outputs": [
    {
     "data": {
      "text/plain": [
       "False"
      ]
     },
     "execution_count": 22,
     "metadata": {},
     "output_type": "execute_result"
    }
   ],
   "source": [
    "(2>1) and (10>11)"
   ]
  },
  {
   "cell_type": "code",
   "execution_count": 23,
   "id": "7abd802d",
   "metadata": {
    "execution": {
     "iopub.execute_input": "2023-11-13T00:41:11.055026Z",
     "iopub.status.busy": "2023-11-13T00:41:11.054199Z",
     "iopub.status.idle": "2023-11-13T00:41:11.061512Z",
     "shell.execute_reply": "2023-11-13T00:41:11.060412Z"
    },
    "papermill": {
     "duration": 0.025638,
     "end_time": "2023-11-13T00:41:11.064157",
     "exception": false,
     "start_time": "2023-11-13T00:41:11.038519",
     "status": "completed"
    },
    "tags": []
   },
   "outputs": [
    {
     "data": {
      "text/plain": [
       "True"
      ]
     },
     "execution_count": 23,
     "metadata": {},
     "output_type": "execute_result"
    }
   ],
   "source": [
    "(2>1) or (10>11)"
   ]
  },
  {
   "cell_type": "code",
   "execution_count": 24,
   "id": "e799df99",
   "metadata": {
    "execution": {
     "iopub.execute_input": "2023-11-13T00:41:11.094537Z",
     "iopub.status.busy": "2023-11-13T00:41:11.094115Z",
     "iopub.status.idle": "2023-11-13T00:41:11.101841Z",
     "shell.execute_reply": "2023-11-13T00:41:11.100660Z"
    },
    "papermill": {
     "duration": 0.025672,
     "end_time": "2023-11-13T00:41:11.104131",
     "exception": false,
     "start_time": "2023-11-13T00:41:11.078459",
     "status": "completed"
    },
    "tags": []
   },
   "outputs": [
    {
     "data": {
      "text/plain": [
       "True"
      ]
     },
     "execution_count": 24,
     "metadata": {},
     "output_type": "execute_result"
    }
   ],
   "source": [
    "2>1 or 10<8 and not True"
   ]
  },
  {
   "cell_type": "code",
   "execution_count": 25,
   "id": "21803b78",
   "metadata": {
    "execution": {
     "iopub.execute_input": "2023-11-13T00:41:11.135428Z",
     "iopub.status.busy": "2023-11-13T00:41:11.134687Z",
     "iopub.status.idle": "2023-11-13T00:41:11.142557Z",
     "shell.execute_reply": "2023-11-13T00:41:11.141406Z"
    },
    "papermill": {
     "duration": 0.025893,
     "end_time": "2023-11-13T00:41:11.144781",
     "exception": false,
     "start_time": "2023-11-13T00:41:11.118888",
     "status": "completed"
    },
    "tags": []
   },
   "outputs": [
    {
     "data": {
      "text/plain": [
       "False"
      ]
     },
     "execution_count": 25,
     "metadata": {},
     "output_type": "execute_result"
    }
   ],
   "source": [
    "((2>1) or (10<8)) and (not True)"
   ]
  },
  {
   "cell_type": "code",
   "execution_count": 26,
   "id": "139a4f72",
   "metadata": {
    "execution": {
     "iopub.execute_input": "2023-11-13T00:41:11.176651Z",
     "iopub.status.busy": "2023-11-13T00:41:11.175763Z",
     "iopub.status.idle": "2023-11-13T00:41:11.182991Z",
     "shell.execute_reply": "2023-11-13T00:41:11.181717Z"
    },
    "papermill": {
     "duration": 0.025994,
     "end_time": "2023-11-13T00:41:11.185644",
     "exception": false,
     "start_time": "2023-11-13T00:41:11.159650",
     "status": "completed"
    },
    "tags": []
   },
   "outputs": [
    {
     "data": {
      "text/plain": [
       "True"
      ]
     },
     "execution_count": 26,
     "metadata": {},
     "output_type": "execute_result"
    }
   ],
   "source": [
    "bool(1)"
   ]
  },
  {
   "cell_type": "code",
   "execution_count": 27,
   "id": "77538717",
   "metadata": {
    "execution": {
     "iopub.execute_input": "2023-11-13T00:41:11.217458Z",
     "iopub.status.busy": "2023-11-13T00:41:11.217055Z",
     "iopub.status.idle": "2023-11-13T00:41:11.224634Z",
     "shell.execute_reply": "2023-11-13T00:41:11.223383Z"
    },
    "papermill": {
     "duration": 0.026514,
     "end_time": "2023-11-13T00:41:11.227300",
     "exception": false,
     "start_time": "2023-11-13T00:41:11.200786",
     "status": "completed"
    },
    "tags": []
   },
   "outputs": [
    {
     "data": {
      "text/plain": [
       "False"
      ]
     },
     "execution_count": 27,
     "metadata": {},
     "output_type": "execute_result"
    }
   ],
   "source": [
    "bool(0)"
   ]
  },
  {
   "cell_type": "markdown",
   "id": "e80c323e",
   "metadata": {
    "papermill": {
     "duration": 0.015256,
     "end_time": "2023-11-13T00:41:11.257707",
     "exception": false,
     "start_time": "2023-11-13T00:41:11.242451",
     "status": "completed"
    },
    "tags": []
   },
   "source": [
    "# **Strings**"
   ]
  },
  {
   "cell_type": "code",
   "execution_count": 28,
   "id": "674e3ba6",
   "metadata": {
    "execution": {
     "iopub.execute_input": "2023-11-13T00:41:11.289477Z",
     "iopub.status.busy": "2023-11-13T00:41:11.289020Z",
     "iopub.status.idle": "2023-11-13T00:41:11.295900Z",
     "shell.execute_reply": "2023-11-13T00:41:11.294898Z"
    },
    "papermill": {
     "duration": 0.02541,
     "end_time": "2023-11-13T00:41:11.298302",
     "exception": false,
     "start_time": "2023-11-13T00:41:11.272892",
     "status": "completed"
    },
    "tags": []
   },
   "outputs": [
    {
     "data": {
      "text/plain": [
       "str"
      ]
     },
     "execution_count": 28,
     "metadata": {},
     "output_type": "execute_result"
    }
   ],
   "source": [
    "type(\"cat\")"
   ]
  },
  {
   "cell_type": "code",
   "execution_count": 29,
   "id": "cd81a2f1",
   "metadata": {
    "execution": {
     "iopub.execute_input": "2023-11-13T00:41:11.330659Z",
     "iopub.status.busy": "2023-11-13T00:41:11.330253Z",
     "iopub.status.idle": "2023-11-13T00:41:11.336704Z",
     "shell.execute_reply": "2023-11-13T00:41:11.335606Z"
    },
    "papermill": {
     "duration": 0.025217,
     "end_time": "2023-11-13T00:41:11.338957",
     "exception": false,
     "start_time": "2023-11-13T00:41:11.313740",
     "status": "completed"
    },
    "tags": []
   },
   "outputs": [
    {
     "data": {
      "text/plain": [
       "str"
      ]
     },
     "execution_count": 29,
     "metadata": {},
     "output_type": "execute_result"
    }
   ],
   "source": [
    "type('1')"
   ]
  },
  {
   "cell_type": "markdown",
   "id": "4166d65d",
   "metadata": {
    "papermill": {
     "duration": 0.015573,
     "end_time": "2023-11-13T00:41:11.370092",
     "exception": false,
     "start_time": "2023-11-13T00:41:11.354519",
     "status": "completed"
    },
    "tags": []
   },
   "source": [
    "# **None**"
   ]
  },
  {
   "cell_type": "code",
   "execution_count": 30,
   "id": "85634d04",
   "metadata": {
    "execution": {
     "iopub.execute_input": "2023-11-13T00:41:11.402453Z",
     "iopub.status.busy": "2023-11-13T00:41:11.402022Z",
     "iopub.status.idle": "2023-11-13T00:41:11.408925Z",
     "shell.execute_reply": "2023-11-13T00:41:11.407942Z"
    },
    "papermill": {
     "duration": 0.025919,
     "end_time": "2023-11-13T00:41:11.411231",
     "exception": false,
     "start_time": "2023-11-13T00:41:11.385312",
     "status": "completed"
    },
    "tags": []
   },
   "outputs": [
    {
     "data": {
      "text/plain": [
       "NoneType"
      ]
     },
     "execution_count": 30,
     "metadata": {},
     "output_type": "execute_result"
    }
   ],
   "source": [
    "type(None)"
   ]
  },
  {
   "cell_type": "code",
   "execution_count": 31,
   "id": "adc15f90",
   "metadata": {
    "execution": {
     "iopub.execute_input": "2023-11-13T00:41:11.444568Z",
     "iopub.status.busy": "2023-11-13T00:41:11.444174Z",
     "iopub.status.idle": "2023-11-13T00:41:11.452438Z",
     "shell.execute_reply": "2023-11-13T00:41:11.451231Z"
    },
    "papermill": {
     "duration": 0.028394,
     "end_time": "2023-11-13T00:41:11.455537",
     "exception": false,
     "start_time": "2023-11-13T00:41:11.427143",
     "status": "completed"
    },
    "tags": []
   },
   "outputs": [
    {
     "name": "stdout",
     "output_type": "stream",
     "text": [
      "hello\n"
     ]
    },
    {
     "data": {
      "text/plain": [
       "True"
      ]
     },
     "execution_count": 31,
     "metadata": {},
     "output_type": "execute_result"
    }
   ],
   "source": [
    "def my_function(x):\n",
    "    print(x)\n",
    "my_function(\"hello\") == None"
   ]
  }
 ],
 "metadata": {
  "kernelspec": {
   "display_name": "Python 3",
   "language": "python",
   "name": "python3"
  },
  "language_info": {
   "codemirror_mode": {
    "name": "ipython",
    "version": 3
   },
   "file_extension": ".py",
   "mimetype": "text/x-python",
   "name": "python",
   "nbconvert_exporter": "python",
   "pygments_lexer": "ipython3",
   "version": "3.10.12"
  },
  "papermill": {
   "default_parameters": {},
   "duration": 5.738109,
   "end_time": "2023-11-13T00:41:11.993703",
   "environment_variables": {},
   "exception": null,
   "input_path": "__notebook__.ipynb",
   "output_path": "__notebook__.ipynb",
   "parameters": {},
   "start_time": "2023-11-13T00:41:06.255594",
   "version": "2.4.0"
  }
 },
 "nbformat": 4,
 "nbformat_minor": 5
}

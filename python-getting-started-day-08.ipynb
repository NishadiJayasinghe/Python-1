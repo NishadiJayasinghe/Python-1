{
 "cells": [
  {
   "cell_type": "code",
   "execution_count": 1,
   "id": "8e8bcea4",
   "metadata": {
    "_cell_guid": "b1076dfc-b9ad-4769-8c92-a6c4dae69d19",
    "_uuid": "8f2839f25d086af736a60e9eeb907d3b93b6e0e5",
    "execution": {
     "iopub.execute_input": "2023-11-19T15:44:44.019261Z",
     "iopub.status.busy": "2023-11-19T15:44:44.018582Z",
     "iopub.status.idle": "2023-11-19T15:44:44.463395Z",
     "shell.execute_reply": "2023-11-19T15:44:44.461984Z"
    },
    "papermill": {
     "duration": 0.459815,
     "end_time": "2023-11-19T15:44:44.466784",
     "exception": false,
     "start_time": "2023-11-19T15:44:44.006969",
     "status": "completed"
    },
    "tags": []
   },
   "outputs": [],
   "source": [
    "# This Python 3 environment comes with many helpful analytics libraries installed\n",
    "# It is defined by the kaggle/python Docker image: https://github.com/kaggle/docker-python\n",
    "# For example, here's several helpful packages to load\n",
    "\n",
    "import numpy as np # linear algebra\n",
    "import pandas as pd # data processing, CSV file I/O (e.g. pd.read_csv)\n",
    "\n",
    "# Input data files are available in the read-only \"../input/\" directory\n",
    "# For example, running this (by clicking run or pressing Shift+Enter) will list all files under the input directory\n",
    "\n",
    "import os\n",
    "for dirname, _, filenames in os.walk('/kaggle/input'):\n",
    "    for filename in filenames:\n",
    "        print(os.path.join(dirname, filename))\n",
    "\n",
    "# You can write up to 20GB to the current directory (/kaggle/working/) that gets preserved as output when you create a version using \"Save & Run All\" \n",
    "# You can also write temporary files to /kaggle/temp/, but they won't be saved outside of the current session"
   ]
  },
  {
   "cell_type": "markdown",
   "id": "106a8f58",
   "metadata": {
    "papermill": {
     "duration": 0.006703,
     "end_time": "2023-11-19T15:44:44.482782",
     "exception": false,
     "start_time": "2023-11-19T15:44:44.476079",
     "status": "completed"
    },
    "tags": []
   },
   "source": [
    "# **Numpy Arrays**"
   ]
  },
  {
   "cell_type": "code",
   "execution_count": 2,
   "id": "6660b5e3",
   "metadata": {
    "execution": {
     "iopub.execute_input": "2023-11-19T15:44:44.499645Z",
     "iopub.status.busy": "2023-11-19T15:44:44.499072Z",
     "iopub.status.idle": "2023-11-19T15:44:44.503937Z",
     "shell.execute_reply": "2023-11-19T15:44:44.502866Z"
    },
    "papermill": {
     "duration": 0.015846,
     "end_time": "2023-11-19T15:44:44.506284",
     "exception": false,
     "start_time": "2023-11-19T15:44:44.490438",
     "status": "completed"
    },
    "tags": []
   },
   "outputs": [],
   "source": [
    "import numpy as np"
   ]
  },
  {
   "cell_type": "code",
   "execution_count": 3,
   "id": "e5780ffd",
   "metadata": {
    "execution": {
     "iopub.execute_input": "2023-11-19T15:44:44.523943Z",
     "iopub.status.busy": "2023-11-19T15:44:44.523462Z",
     "iopub.status.idle": "2023-11-19T15:44:44.533063Z",
     "shell.execute_reply": "2023-11-19T15:44:44.531823Z"
    },
    "papermill": {
     "duration": 0.021253,
     "end_time": "2023-11-19T15:44:44.535423",
     "exception": false,
     "start_time": "2023-11-19T15:44:44.514170",
     "status": "completed"
    },
    "tags": []
   },
   "outputs": [
    {
     "data": {
      "text/plain": [
       "numpy.ndarray"
      ]
     },
     "execution_count": 3,
     "metadata": {},
     "output_type": "execute_result"
    }
   ],
   "source": [
    "my_list = [1,2,3,4]   # Define a list\n",
    "my_array = np.array(my_list)   # Pass the list to np.array()\n",
    "type(my_array)     # Check the object's type"
   ]
  },
  {
   "cell_type": "code",
   "execution_count": 4,
   "id": "e6a24dd9",
   "metadata": {
    "execution": {
     "iopub.execute_input": "2023-11-19T15:44:44.551782Z",
     "iopub.status.busy": "2023-11-19T15:44:44.551337Z",
     "iopub.status.idle": "2023-11-19T15:44:44.561994Z",
     "shell.execute_reply": "2023-11-19T15:44:44.560870Z"
    },
    "papermill": {
     "duration": 0.021503,
     "end_time": "2023-11-19T15:44:44.564314",
     "exception": false,
     "start_time": "2023-11-19T15:44:44.542811",
     "status": "completed"
    },
    "tags": []
   },
   "outputs": [
    {
     "name": "stdout",
     "output_type": "stream",
     "text": [
      "[[1 2 3 4]\n",
      " [5 6 7 8]]\n"
     ]
    },
    {
     "data": {
      "text/plain": [
       "numpy.ndarray"
      ]
     },
     "execution_count": 4,
     "metadata": {},
     "output_type": "execute_result"
    }
   ],
   "source": [
    "second_list = [5,6,7,8]\n",
    "two_d_array = np.array([my_list, second_list])\n",
    "print(two_d_array)\n",
    "type(two_d_array)"
   ]
  },
  {
   "cell_type": "code",
   "execution_count": 5,
   "id": "7b1de485",
   "metadata": {
    "execution": {
     "iopub.execute_input": "2023-11-19T15:44:44.581294Z",
     "iopub.status.busy": "2023-11-19T15:44:44.580896Z",
     "iopub.status.idle": "2023-11-19T15:44:44.588259Z",
     "shell.execute_reply": "2023-11-19T15:44:44.587183Z"
    },
    "papermill": {
     "duration": 0.018651,
     "end_time": "2023-11-19T15:44:44.590781",
     "exception": false,
     "start_time": "2023-11-19T15:44:44.572130",
     "status": "completed"
    },
    "tags": []
   },
   "outputs": [
    {
     "data": {
      "text/plain": [
       "(2, 4)"
      ]
     },
     "execution_count": 5,
     "metadata": {},
     "output_type": "execute_result"
    }
   ],
   "source": [
    "two_d_array.shape"
   ]
  },
  {
   "cell_type": "code",
   "execution_count": 6,
   "id": "61823ec3",
   "metadata": {
    "execution": {
     "iopub.execute_input": "2023-11-19T15:44:44.607968Z",
     "iopub.status.busy": "2023-11-19T15:44:44.607567Z",
     "iopub.status.idle": "2023-11-19T15:44:44.614907Z",
     "shell.execute_reply": "2023-11-19T15:44:44.613630Z"
    },
    "papermill": {
     "duration": 0.019081,
     "end_time": "2023-11-19T15:44:44.617352",
     "exception": false,
     "start_time": "2023-11-19T15:44:44.598271",
     "status": "completed"
    },
    "tags": []
   },
   "outputs": [
    {
     "data": {
      "text/plain": [
       "8"
      ]
     },
     "execution_count": 6,
     "metadata": {},
     "output_type": "execute_result"
    }
   ],
   "source": [
    "two_d_array.size"
   ]
  },
  {
   "cell_type": "code",
   "execution_count": 7,
   "id": "ca1ca7da",
   "metadata": {
    "execution": {
     "iopub.execute_input": "2023-11-19T15:44:44.635349Z",
     "iopub.status.busy": "2023-11-19T15:44:44.634940Z",
     "iopub.status.idle": "2023-11-19T15:44:44.642676Z",
     "shell.execute_reply": "2023-11-19T15:44:44.641460Z"
    },
    "papermill": {
     "duration": 0.019407,
     "end_time": "2023-11-19T15:44:44.645204",
     "exception": false,
     "start_time": "2023-11-19T15:44:44.625797",
     "status": "completed"
    },
    "tags": []
   },
   "outputs": [
    {
     "data": {
      "text/plain": [
       "dtype('int64')"
      ]
     },
     "execution_count": 7,
     "metadata": {},
     "output_type": "execute_result"
    }
   ],
   "source": [
    "two_d_array.dtype"
   ]
  },
  {
   "cell_type": "code",
   "execution_count": 8,
   "id": "e13aa88e",
   "metadata": {
    "execution": {
     "iopub.execute_input": "2023-11-19T15:44:44.663272Z",
     "iopub.status.busy": "2023-11-19T15:44:44.662874Z",
     "iopub.status.idle": "2023-11-19T15:44:44.670770Z",
     "shell.execute_reply": "2023-11-19T15:44:44.669602Z"
    },
    "papermill": {
     "duration": 0.020116,
     "end_time": "2023-11-19T15:44:44.673355",
     "exception": false,
     "start_time": "2023-11-19T15:44:44.653239",
     "status": "completed"
    },
    "tags": []
   },
   "outputs": [
    {
     "data": {
      "text/plain": [
       "array([[1., 0., 0., 0., 0.],\n",
       "       [0., 1., 0., 0., 0.],\n",
       "       [0., 0., 1., 0., 0.],\n",
       "       [0., 0., 0., 1., 0.],\n",
       "       [0., 0., 0., 0., 1.]])"
      ]
     },
     "execution_count": 8,
     "metadata": {},
     "output_type": "execute_result"
    }
   ],
   "source": [
    "# np.identity() to create a square 2d array with 1's across the diagonal\n",
    "np.identity(n=5)   # Size of the array"
   ]
  },
  {
   "cell_type": "code",
   "execution_count": 9,
   "id": "ae8e74eb",
   "metadata": {
    "execution": {
     "iopub.execute_input": "2023-11-19T15:44:44.691524Z",
     "iopub.status.busy": "2023-11-19T15:44:44.691128Z",
     "iopub.status.idle": "2023-11-19T15:44:44.699353Z",
     "shell.execute_reply": "2023-11-19T15:44:44.698120Z"
    },
    "papermill": {
     "duration": 0.020232,
     "end_time": "2023-11-19T15:44:44.701900",
     "exception": false,
     "start_time": "2023-11-19T15:44:44.681668",
     "status": "completed"
    },
    "tags": []
   },
   "outputs": [
    {
     "data": {
      "text/plain": [
       "array([[0., 1., 0., 0., 0.],\n",
       "       [0., 0., 1., 0., 0.],\n",
       "       [0., 0., 0., 1., 0.]])"
      ]
     },
     "execution_count": 9,
     "metadata": {},
     "output_type": "execute_result"
    }
   ],
   "source": [
    "# np.eye() to create a 2d array with 1's across a specified diagonal\n",
    "\n",
    "np.eye(N = 3, # Number of rows\n",
    "      M = 5, # Number of columns\n",
    "      k = 1) # Index of the diagonal (main diagonal (0) is default)"
   ]
  },
  {
   "cell_type": "code",
   "execution_count": 10,
   "id": "0fdebb35",
   "metadata": {
    "execution": {
     "iopub.execute_input": "2023-11-19T15:44:44.720663Z",
     "iopub.status.busy": "2023-11-19T15:44:44.720231Z",
     "iopub.status.idle": "2023-11-19T15:44:44.727458Z",
     "shell.execute_reply": "2023-11-19T15:44:44.726615Z"
    },
    "papermill": {
     "duration": 0.019407,
     "end_time": "2023-11-19T15:44:44.729606",
     "exception": false,
     "start_time": "2023-11-19T15:44:44.710199",
     "status": "completed"
    },
    "tags": []
   },
   "outputs": [
    {
     "data": {
      "text/plain": [
       "array([[1., 1., 1., 1.],\n",
       "       [1., 1., 1., 1.]])"
      ]
     },
     "execution_count": 10,
     "metadata": {},
     "output_type": "execute_result"
    }
   ],
   "source": [
    "# np.ones() to create an array filled with ones:\n",
    "np.ones(shape = [2,4])"
   ]
  },
  {
   "cell_type": "code",
   "execution_count": 11,
   "id": "e3f094be",
   "metadata": {
    "execution": {
     "iopub.execute_input": "2023-11-19T15:44:44.748079Z",
     "iopub.status.busy": "2023-11-19T15:44:44.747672Z",
     "iopub.status.idle": "2023-11-19T15:44:44.755498Z",
     "shell.execute_reply": "2023-11-19T15:44:44.754293Z"
    },
    "papermill": {
     "duration": 0.019914,
     "end_time": "2023-11-19T15:44:44.757881",
     "exception": false,
     "start_time": "2023-11-19T15:44:44.737967",
     "status": "completed"
    },
    "tags": []
   },
   "outputs": [
    {
     "data": {
      "text/plain": [
       "array([[0., 0., 0., 0., 0., 0.],\n",
       "       [0., 0., 0., 0., 0., 0.],\n",
       "       [0., 0., 0., 0., 0., 0.],\n",
       "       [0., 0., 0., 0., 0., 0.]])"
      ]
     },
     "execution_count": 11,
     "metadata": {},
     "output_type": "execute_result"
    }
   ],
   "source": [
    "# np.zeros() to create an array filled with zeros :\n",
    "np.zeros(shape = [4,6])"
   ]
  },
  {
   "cell_type": "markdown",
   "id": "2a71bf5e",
   "metadata": {
    "papermill": {
     "duration": 0.008204,
     "end_time": "2023-11-19T15:44:44.774725",
     "exception": false,
     "start_time": "2023-11-19T15:44:44.766521",
     "status": "completed"
    },
    "tags": []
   },
   "source": [
    "# **Array Indexing and Slicing**"
   ]
  },
  {
   "cell_type": "code",
   "execution_count": 12,
   "id": "be1aab28",
   "metadata": {
    "execution": {
     "iopub.execute_input": "2023-11-19T15:44:44.794615Z",
     "iopub.status.busy": "2023-11-19T15:44:44.793823Z",
     "iopub.status.idle": "2023-11-19T15:44:44.801767Z",
     "shell.execute_reply": "2023-11-19T15:44:44.800296Z"
    },
    "papermill": {
     "duration": 0.021382,
     "end_time": "2023-11-19T15:44:44.804618",
     "exception": false,
     "start_time": "2023-11-19T15:44:44.783236",
     "status": "completed"
    },
    "tags": []
   },
   "outputs": [
    {
     "data": {
      "text/plain": [
       "4"
      ]
     },
     "execution_count": 12,
     "metadata": {},
     "output_type": "execute_result"
    }
   ],
   "source": [
    "one_d_array = np.array([1,2,3,4,5,6])\n",
    "one_d_array[3]   # Get the item at index 3"
   ]
  },
  {
   "cell_type": "code",
   "execution_count": 13,
   "id": "3c3b550a",
   "metadata": {
    "execution": {
     "iopub.execute_input": "2023-11-19T15:44:44.824161Z",
     "iopub.status.busy": "2023-11-19T15:44:44.823705Z",
     "iopub.status.idle": "2023-11-19T15:44:44.831326Z",
     "shell.execute_reply": "2023-11-19T15:44:44.830112Z"
    },
    "papermill": {
     "duration": 0.020712,
     "end_time": "2023-11-19T15:44:44.834120",
     "exception": false,
     "start_time": "2023-11-19T15:44:44.813408",
     "status": "completed"
    },
    "tags": []
   },
   "outputs": [
    {
     "data": {
      "text/plain": [
       "array([4, 5, 6])"
      ]
     },
     "execution_count": 13,
     "metadata": {},
     "output_type": "execute_result"
    }
   ],
   "source": [
    "one_d_array[3:]  "
   ]
  },
  {
   "cell_type": "code",
   "execution_count": 14,
   "id": "6d604318",
   "metadata": {
    "execution": {
     "iopub.execute_input": "2023-11-19T15:44:44.853701Z",
     "iopub.status.busy": "2023-11-19T15:44:44.853245Z",
     "iopub.status.idle": "2023-11-19T15:44:44.860427Z",
     "shell.execute_reply": "2023-11-19T15:44:44.859316Z"
    },
    "papermill": {
     "duration": 0.01963,
     "end_time": "2023-11-19T15:44:44.862686",
     "exception": false,
     "start_time": "2023-11-19T15:44:44.843056",
     "status": "completed"
    },
    "tags": []
   },
   "outputs": [
    {
     "data": {
      "text/plain": [
       "array([6, 5, 4, 3, 2, 1])"
      ]
     },
     "execution_count": 14,
     "metadata": {},
     "output_type": "execute_result"
    }
   ],
   "source": [
    "one_d_array[:: -1]"
   ]
  },
  {
   "cell_type": "code",
   "execution_count": 15,
   "id": "227ad11a",
   "metadata": {
    "execution": {
     "iopub.execute_input": "2023-11-19T15:44:44.882830Z",
     "iopub.status.busy": "2023-11-19T15:44:44.881922Z",
     "iopub.status.idle": "2023-11-19T15:44:44.890868Z",
     "shell.execute_reply": "2023-11-19T15:44:44.889595Z"
    },
    "papermill": {
     "duration": 0.021686,
     "end_time": "2023-11-19T15:44:44.893416",
     "exception": false,
     "start_time": "2023-11-19T15:44:44.871730",
     "status": "completed"
    },
    "tags": []
   },
   "outputs": [
    {
     "name": "stdout",
     "output_type": "stream",
     "text": [
      "[[ 1  2  3  4  5  6]\n",
      " [ 7  8  9 10 11 12]\n",
      " [13 14 15 16 17 18]]\n"
     ]
    }
   ],
   "source": [
    "two_d_array = np.array([one_d_array, one_d_array + 6, one_d_array + 12])\n",
    "print(two_d_array)"
   ]
  },
  {
   "cell_type": "code",
   "execution_count": 16,
   "id": "54c334ef",
   "metadata": {
    "execution": {
     "iopub.execute_input": "2023-11-19T15:44:44.914508Z",
     "iopub.status.busy": "2023-11-19T15:44:44.914110Z",
     "iopub.status.idle": "2023-11-19T15:44:44.921056Z",
     "shell.execute_reply": "2023-11-19T15:44:44.919860Z"
    },
    "papermill": {
     "duration": 0.020606,
     "end_time": "2023-11-19T15:44:44.923617",
     "exception": false,
     "start_time": "2023-11-19T15:44:44.903011",
     "status": "completed"
    },
    "tags": []
   },
   "outputs": [
    {
     "data": {
      "text/plain": [
       "11"
      ]
     },
     "execution_count": 16,
     "metadata": {},
     "output_type": "execute_result"
    }
   ],
   "source": [
    "# Get the lement at row index 1, column index 4\n",
    "two_d_array[1,4]"
   ]
  },
  {
   "cell_type": "code",
   "execution_count": 17,
   "id": "17066f32",
   "metadata": {
    "execution": {
     "iopub.execute_input": "2023-11-19T15:44:44.944035Z",
     "iopub.status.busy": "2023-11-19T15:44:44.943588Z",
     "iopub.status.idle": "2023-11-19T15:44:44.951133Z",
     "shell.execute_reply": "2023-11-19T15:44:44.950053Z"
    },
    "papermill": {
     "duration": 0.020637,
     "end_time": "2023-11-19T15:44:44.953559",
     "exception": false,
     "start_time": "2023-11-19T15:44:44.932922",
     "status": "completed"
    },
    "tags": []
   },
   "outputs": [
    {
     "data": {
      "text/plain": [
       "array([[11, 12],\n",
       "       [17, 18]])"
      ]
     },
     "execution_count": 17,
     "metadata": {},
     "output_type": "execute_result"
    }
   ],
   "source": [
    "# Slice emements starting at row 2, and column 5\n",
    "two_d_array[1:, 4:]"
   ]
  },
  {
   "cell_type": "code",
   "execution_count": 18,
   "id": "675cafc0",
   "metadata": {
    "execution": {
     "iopub.execute_input": "2023-11-19T15:44:44.974003Z",
     "iopub.status.busy": "2023-11-19T15:44:44.973600Z",
     "iopub.status.idle": "2023-11-19T15:44:44.981419Z",
     "shell.execute_reply": "2023-11-19T15:44:44.980193Z"
    },
    "papermill": {
     "duration": 0.020839,
     "end_time": "2023-11-19T15:44:44.983803",
     "exception": false,
     "start_time": "2023-11-19T15:44:44.962964",
     "status": "completed"
    },
    "tags": []
   },
   "outputs": [
    {
     "data": {
      "text/plain": [
       "array([[18, 17, 16, 15, 14, 13],\n",
       "       [12, 11, 10,  9,  8,  7],\n",
       "       [ 6,  5,  4,  3,  2,  1]])"
      ]
     },
     "execution_count": 18,
     "metadata": {},
     "output_type": "execute_result"
    }
   ],
   "source": [
    "# reverse both dimensions (180 degree rotation)\n",
    "two_d_array[::-1, ::-1]"
   ]
  }
 ],
 "metadata": {
  "kaggle": {
   "accelerator": "none",
   "dataSources": [],
   "dockerImageVersionId": 30587,
   "isGpuEnabled": false,
   "isInternetEnabled": false,
   "language": "python",
   "sourceType": "notebook"
  },
  "kernelspec": {
   "display_name": "Python 3",
   "language": "python",
   "name": "python3"
  },
  "language_info": {
   "codemirror_mode": {
    "name": "ipython",
    "version": 3
   },
   "file_extension": ".py",
   "mimetype": "text/x-python",
   "name": "python",
   "nbconvert_exporter": "python",
   "pygments_lexer": "ipython3",
   "version": "3.10.12"
  },
  "papermill": {
   "default_parameters": {},
   "duration": 5.101845,
   "end_time": "2023-11-19T15:44:45.514890",
   "environment_variables": {},
   "exception": null,
   "input_path": "__notebook__.ipynb",
   "output_path": "__notebook__.ipynb",
   "parameters": {},
   "start_time": "2023-11-19T15:44:40.413045",
   "version": "2.4.0"
  }
 },
 "nbformat": 4,
 "nbformat_minor": 5
}

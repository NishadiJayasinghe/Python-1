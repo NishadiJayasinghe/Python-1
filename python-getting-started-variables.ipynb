{
 "cells": [
  {
   "cell_type": "code",
   "execution_count": 1,
   "id": "cb00c643",
   "metadata": {
    "_cell_guid": "b1076dfc-b9ad-4769-8c92-a6c4dae69d19",
    "_uuid": "8f2839f25d086af736a60e9eeb907d3b93b6e0e5",
    "execution": {
     "iopub.execute_input": "2023-11-14T00:02:07.589994Z",
     "iopub.status.busy": "2023-11-14T00:02:07.589597Z",
     "iopub.status.idle": "2023-11-14T00:02:07.899581Z",
     "shell.execute_reply": "2023-11-14T00:02:07.898403Z"
    },
    "papermill": {
     "duration": 0.317612,
     "end_time": "2023-11-14T00:02:07.901987",
     "exception": false,
     "start_time": "2023-11-14T00:02:07.584375",
     "status": "completed"
    },
    "tags": []
   },
   "outputs": [],
   "source": [
    "# This Python 3 environment comes with many helpful analytics libraries installed\n",
    "# It is defined by the kaggle/python Docker image: https://github.com/kaggle/docker-python\n",
    "# For example, here's several helpful packages to load\n",
    "\n",
    "import numpy as np # linear algebra\n",
    "import pandas as pd # data processing, CSV file I/O (e.g. pd.read_csv)\n",
    "\n",
    "# Input data files are available in the read-only \"../input/\" directory\n",
    "# For example, running this (by clicking run or pressing Shift+Enter) will list all files under the input directory\n",
    "\n",
    "import os\n",
    "for dirname, _, filenames in os.walk('/kaggle/input'):\n",
    "    for filename in filenames:\n",
    "        print(os.path.join(dirname, filename))\n",
    "\n",
    "# You can write up to 20GB to the current directory (/kaggle/working/) that gets preserved as output when you create a version using \"Save & Run All\" \n",
    "# You can also write temporary files to /kaggle/temp/, but they won't be saved outside of the current session"
   ]
  },
  {
   "cell_type": "markdown",
   "id": "8ec9abb2",
   "metadata": {
    "papermill": {
     "duration": 0.002643,
     "end_time": "2023-11-14T00:02:07.907716",
     "exception": false,
     "start_time": "2023-11-14T00:02:07.905073",
     "status": "completed"
    },
    "tags": []
   },
   "source": [
    "# **Variables**"
   ]
  },
  {
   "cell_type": "code",
   "execution_count": 2,
   "id": "21553abd",
   "metadata": {
    "execution": {
     "iopub.execute_input": "2023-11-14T00:02:07.914739Z",
     "iopub.status.busy": "2023-11-14T00:02:07.914243Z",
     "iopub.status.idle": "2023-11-14T00:02:07.921115Z",
     "shell.execute_reply": "2023-11-14T00:02:07.919458Z"
    },
    "papermill": {
     "duration": 0.013291,
     "end_time": "2023-11-14T00:02:07.923666",
     "exception": false,
     "start_time": "2023-11-14T00:02:07.910375",
     "status": "completed"
    },
    "tags": []
   },
   "outputs": [
    {
     "name": "stdout",
     "output_type": "stream",
     "text": [
      "10\n",
      "Python is fun\n",
      "False\n"
     ]
    }
   ],
   "source": [
    "x = 10\n",
    "y = \"Python is fun\"\n",
    "z = 144*0.5 == 12\n",
    "\n",
    "print(x)\n",
    "print(y)\n",
    "print(z)"
   ]
  },
  {
   "cell_type": "code",
   "execution_count": 3,
   "id": "42da690d",
   "metadata": {
    "execution": {
     "iopub.execute_input": "2023-11-14T00:02:07.931980Z",
     "iopub.status.busy": "2023-11-14T00:02:07.931534Z",
     "iopub.status.idle": "2023-11-14T00:02:07.938472Z",
     "shell.execute_reply": "2023-11-14T00:02:07.936972Z"
    },
    "papermill": {
     "duration": 0.014154,
     "end_time": "2023-11-14T00:02:07.940910",
     "exception": false,
     "start_time": "2023-11-14T00:02:07.926756",
     "status": "completed"
    },
    "tags": []
   },
   "outputs": [
    {
     "name": "stdout",
     "output_type": "stream",
     "text": [
      "8\n",
      "10\n"
     ]
    }
   ],
   "source": [
    "p=8        #This works, ut it looks messy\n",
    "print(p)   \n",
    "\n",
    "p = 10   # Use spaces instead\n",
    "print(p)"
   ]
  },
  {
   "cell_type": "code",
   "execution_count": 4,
   "id": "5197914b",
   "metadata": {
    "execution": {
     "iopub.execute_input": "2023-11-14T00:02:07.948863Z",
     "iopub.status.busy": "2023-11-14T00:02:07.948520Z",
     "iopub.status.idle": "2023-11-14T00:02:07.956714Z",
     "shell.execute_reply": "2023-11-14T00:02:07.955401Z"
    },
    "papermill": {
     "duration": 0.015324,
     "end_time": "2023-11-14T00:02:07.959634",
     "exception": false,
     "start_time": "2023-11-14T00:02:07.944310",
     "status": "completed"
    },
    "tags": []
   },
   "outputs": [
    {
     "data": {
      "text/plain": [
       "20"
      ]
     },
     "execution_count": 4,
     "metadata": {},
     "output_type": "execute_result"
    }
   ],
   "source": [
    "x + z + p"
   ]
  },
  {
   "cell_type": "code",
   "execution_count": 5,
   "id": "b24d1b16",
   "metadata": {
    "execution": {
     "iopub.execute_input": "2023-11-14T00:02:07.968570Z",
     "iopub.status.busy": "2023-11-14T00:02:07.968181Z",
     "iopub.status.idle": "2023-11-14T00:02:07.974466Z",
     "shell.execute_reply": "2023-11-14T00:02:07.972418Z"
    },
    "papermill": {
     "duration": 0.013366,
     "end_time": "2023-11-14T00:02:07.976860",
     "exception": false,
     "start_time": "2023-11-14T00:02:07.963494",
     "status": "completed"
    },
    "tags": []
   },
   "outputs": [
    {
     "name": "stdout",
     "output_type": "stream",
     "text": [
      "4\n",
      "4\n"
     ]
    }
   ],
   "source": [
    "n = m = 4\n",
    "print(n)\n",
    "print(m)"
   ]
  },
  {
   "cell_type": "code",
   "execution_count": 6,
   "id": "ccfcbceb",
   "metadata": {
    "execution": {
     "iopub.execute_input": "2023-11-14T00:02:07.985227Z",
     "iopub.status.busy": "2023-11-14T00:02:07.984776Z",
     "iopub.status.idle": "2023-11-14T00:02:07.990982Z",
     "shell.execute_reply": "2023-11-14T00:02:07.989460Z"
    },
    "papermill": {
     "duration": 0.012809,
     "end_time": "2023-11-14T00:02:07.992852",
     "exception": false,
     "start_time": "2023-11-14T00:02:07.980043",
     "status": "completed"
    },
    "tags": []
   },
   "outputs": [
    {
     "name": "stdout",
     "output_type": "stream",
     "text": [
      "10\n",
      "20\n",
      "30\n"
     ]
    }
   ],
   "source": [
    "# Assign 3 variables at the same time :\n",
    "x, y, z = (10, 20, 30)\n",
    "print(x)\n",
    "print(y)\n",
    "print(z)"
   ]
  },
  {
   "cell_type": "code",
   "execution_count": 7,
   "id": "26cffef7",
   "metadata": {
    "execution": {
     "iopub.execute_input": "2023-11-14T00:02:08.001352Z",
     "iopub.status.busy": "2023-11-14T00:02:08.000988Z",
     "iopub.status.idle": "2023-11-14T00:02:08.006406Z",
     "shell.execute_reply": "2023-11-14T00:02:08.004777Z"
    },
    "papermill": {
     "duration": 0.012088,
     "end_time": "2023-11-14T00:02:08.008469",
     "exception": false,
     "start_time": "2023-11-14T00:02:07.996381",
     "status": "completed"
    },
    "tags": []
   },
   "outputs": [
    {
     "name": "stdout",
     "output_type": "stream",
     "text": [
      "20\n",
      "10\n"
     ]
    }
   ],
   "source": [
    "(x, y) = (y, x)\n",
    "\n",
    "print(x)\n",
    "print(y)"
   ]
  },
  {
   "cell_type": "code",
   "execution_count": 8,
   "id": "5fd9c0f9",
   "metadata": {
    "execution": {
     "iopub.execute_input": "2023-11-14T00:02:08.017127Z",
     "iopub.status.busy": "2023-11-14T00:02:08.016729Z",
     "iopub.status.idle": "2023-11-14T00:02:08.022372Z",
     "shell.execute_reply": "2023-11-14T00:02:08.021210Z"
    },
    "papermill": {
     "duration": 0.012577,
     "end_time": "2023-11-14T00:02:08.024562",
     "exception": false,
     "start_time": "2023-11-14T00:02:08.011985",
     "status": "completed"
    },
    "tags": []
   },
   "outputs": [
    {
     "name": "stdout",
     "output_type": "stream",
     "text": [
      "Hello\n",
      "HELLO\n"
     ]
    }
   ],
   "source": [
    "x = \"Hello\" # Create a new string\n",
    "y = x   # Assign y the same object as x\n",
    "y = y.upper()  # Assign y the result of y.lower()\n",
    "print(x)\n",
    "print(y)"
   ]
  },
  {
   "cell_type": "code",
   "execution_count": 9,
   "id": "fd7a0a24",
   "metadata": {
    "execution": {
     "iopub.execute_input": "2023-11-14T00:02:08.035149Z",
     "iopub.status.busy": "2023-11-14T00:02:08.034662Z",
     "iopub.status.idle": "2023-11-14T00:02:08.041065Z",
     "shell.execute_reply": "2023-11-14T00:02:08.039756Z"
    },
    "papermill": {
     "duration": 0.017787,
     "end_time": "2023-11-14T00:02:08.045982",
     "exception": false,
     "start_time": "2023-11-14T00:02:08.028195",
     "status": "completed"
    },
    "tags": []
   },
   "outputs": [
    {
     "name": "stdout",
     "output_type": "stream",
     "text": [
      "[1, 2, 3, 4]\n",
      "[1, 2, 3, 4]\n"
     ]
    }
   ],
   "source": [
    "x = [1,2,3]   # create a new list\n",
    "y = x    # Assign y the same object as x\n",
    "y.append(4)   # add 4 to the end of list y\n",
    "print(x)\n",
    "print(y)"
   ]
  }
 ],
 "metadata": {
  "kaggle": {
   "accelerator": "none",
   "dataSources": [],
   "dockerImageVersionId": 30579,
   "isGpuEnabled": false,
   "isInternetEnabled": false,
   "language": "python",
   "sourceType": "notebook"
  },
  "kernelspec": {
   "display_name": "Python 3",
   "language": "python",
   "name": "python3"
  },
  "language_info": {
   "codemirror_mode": {
    "name": "ipython",
    "version": 3
   },
   "file_extension": ".py",
   "mimetype": "text/x-python",
   "name": "python",
   "nbconvert_exporter": "python",
   "pygments_lexer": "ipython3",
   "version": "3.10.12"
  },
  "papermill": {
   "default_parameters": {},
   "duration": 3.60954,
   "end_time": "2023-11-14T00:02:08.469397",
   "environment_variables": {},
   "exception": null,
   "input_path": "__notebook__.ipynb",
   "output_path": "__notebook__.ipynb",
   "parameters": {},
   "start_time": "2023-11-14T00:02:04.859857",
   "version": "2.4.0"
  }
 },
 "nbformat": 4,
 "nbformat_minor": 5
}

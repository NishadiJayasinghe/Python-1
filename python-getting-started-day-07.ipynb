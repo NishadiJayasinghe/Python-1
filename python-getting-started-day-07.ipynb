{
 "cells": [
  {
   "cell_type": "code",
   "execution_count": 1,
   "id": "b0f084de",
   "metadata": {
    "_cell_guid": "b1076dfc-b9ad-4769-8c92-a6c4dae69d19",
    "_uuid": "8f2839f25d086af736a60e9eeb907d3b93b6e0e5",
    "execution": {
     "iopub.execute_input": "2023-11-18T00:34:48.738371Z",
     "iopub.status.busy": "2023-11-18T00:34:48.737881Z",
     "iopub.status.idle": "2023-11-18T00:34:49.189446Z",
     "shell.execute_reply": "2023-11-18T00:34:49.188499Z"
    },
    "papermill": {
     "duration": 0.466574,
     "end_time": "2023-11-18T00:34:49.192227",
     "exception": false,
     "start_time": "2023-11-18T00:34:48.725653",
     "status": "completed"
    },
    "tags": []
   },
   "outputs": [],
   "source": [
    "# This Python 3 environment comes with many helpful analytics libraries installed\n",
    "# It is defined by the kaggle/python Docker image: https://github.com/kaggle/docker-python\n",
    "# For example, here's several helpful packages to load\n",
    "\n",
    "import numpy as np # linear algebra\n",
    "import pandas as pd # data processing, CSV file I/O (e.g. pd.read_csv)\n",
    "\n",
    "# Input data files are available in the read-only \"../input/\" directory\n",
    "# For example, running this (by clicking run or pressing Shift+Enter) will list all files under the input directory\n",
    "\n",
    "import os\n",
    "for dirname, _, filenames in os.walk('/kaggle/input'):\n",
    "    for filename in filenames:\n",
    "        print(os.path.join(dirname, filename))\n",
    "\n",
    "# You can write up to 20GB to the current directory (/kaggle/working/) that gets preserved as output when you create a version using \"Save & Run All\" \n",
    "# You can also write temporary files to /kaggle/temp/, but they won't be saved outside of the current session"
   ]
  },
  {
   "cell_type": "markdown",
   "id": "ed7a3548",
   "metadata": {
    "papermill": {
     "duration": 0.009582,
     "end_time": "2023-11-18T00:34:49.211912",
     "exception": false,
     "start_time": "2023-11-18T00:34:49.202330",
     "status": "completed"
    },
    "tags": []
   },
   "source": [
    "# **Dictionaries and Sets**"
   ]
  },
  {
   "cell_type": "code",
   "execution_count": 2,
   "id": "08d9fef7",
   "metadata": {
    "execution": {
     "iopub.execute_input": "2023-11-18T00:34:49.234157Z",
     "iopub.status.busy": "2023-11-18T00:34:49.232921Z",
     "iopub.status.idle": "2023-11-18T00:34:49.242155Z",
     "shell.execute_reply": "2023-11-18T00:34:49.241066Z"
    },
    "papermill": {
     "duration": 0.022781,
     "end_time": "2023-11-18T00:34:49.244475",
     "exception": false,
     "start_time": "2023-11-18T00:34:49.221694",
     "status": "completed"
    },
    "tags": []
   },
   "outputs": [
    {
     "data": {
      "text/plain": [
       "False"
      ]
     },
     "execution_count": 2,
     "metadata": {},
     "output_type": "execute_result"
    }
   ],
   "source": [
    "my_list = [1,2,3,4,5,6,7,8,9,10]\n",
    "0 in my_list"
   ]
  },
  {
   "cell_type": "markdown",
   "id": "8f5a4242",
   "metadata": {
    "papermill": {
     "duration": 0.009643,
     "end_time": "2023-11-18T00:34:49.264046",
     "exception": false,
     "start_time": "2023-11-18T00:34:49.254403",
     "status": "completed"
    },
    "tags": []
   },
   "source": [
    "# **Dictionaries**"
   ]
  },
  {
   "cell_type": "markdown",
   "id": "42f22153",
   "metadata": {
    "papermill": {
     "duration": 0.009646,
     "end_time": "2023-11-18T00:34:49.283979",
     "exception": false,
     "start_time": "2023-11-18T00:34:49.274333",
     "status": "completed"
    },
    "tags": []
   },
   "source": [
    "A Dictionary or dict is an object that maps a set of named indexes called keys to a set of corresponding values. Dictionaries are mutable, so you can add and remove keys and their associated values. A dictionary's keys must be immutable objects, such as ints, strings or tuples, but the values can be anything.\n",
    "\n",
    "Create a disctionary with a comma-seperated list of key: value pairs within curly braces:"
   ]
  },
  {
   "cell_type": "code",
   "execution_count": 3,
   "id": "90ad881a",
   "metadata": {
    "execution": {
     "iopub.execute_input": "2023-11-18T00:34:49.305901Z",
     "iopub.status.busy": "2023-11-18T00:34:49.305436Z",
     "iopub.status.idle": "2023-11-18T00:34:49.312203Z",
     "shell.execute_reply": "2023-11-18T00:34:49.310858Z"
    },
    "papermill": {
     "duration": 0.021379,
     "end_time": "2023-11-18T00:34:49.315223",
     "exception": false,
     "start_time": "2023-11-18T00:34:49.293844",
     "status": "completed"
    },
    "tags": []
   },
   "outputs": [
    {
     "name": "stdout",
     "output_type": "stream",
     "text": [
      "{'name': 'Joe', 'age': 10, 'city': 'Paris'}\n"
     ]
    }
   ],
   "source": [
    "my_dict = {\"name\" : \"Joe\",\n",
    "          \"age\" : 10,\n",
    "          \"city\" : \"Paris\"}\n",
    "print(my_dict)"
   ]
  },
  {
   "cell_type": "code",
   "execution_count": 4,
   "id": "ab133728",
   "metadata": {
    "execution": {
     "iopub.execute_input": "2023-11-18T00:34:49.338107Z",
     "iopub.status.busy": "2023-11-18T00:34:49.337366Z",
     "iopub.status.idle": "2023-11-18T00:34:49.343695Z",
     "shell.execute_reply": "2023-11-18T00:34:49.342528Z"
    },
    "papermill": {
     "duration": 0.020391,
     "end_time": "2023-11-18T00:34:49.346018",
     "exception": false,
     "start_time": "2023-11-18T00:34:49.325627",
     "status": "completed"
    },
    "tags": []
   },
   "outputs": [
    {
     "data": {
      "text/plain": [
       "'Joe'"
      ]
     },
     "execution_count": 4,
     "metadata": {},
     "output_type": "execute_result"
    }
   ],
   "source": [
    "my_dict[\"name\"]"
   ]
  },
  {
   "cell_type": "code",
   "execution_count": 5,
   "id": "bdce7dd8",
   "metadata": {
    "execution": {
     "iopub.execute_input": "2023-11-18T00:34:49.368141Z",
     "iopub.status.busy": "2023-11-18T00:34:49.367681Z",
     "iopub.status.idle": "2023-11-18T00:34:49.374013Z",
     "shell.execute_reply": "2023-11-18T00:34:49.372591Z"
    },
    "papermill": {
     "duration": 0.020533,
     "end_time": "2023-11-18T00:34:49.376663",
     "exception": false,
     "start_time": "2023-11-18T00:34:49.356130",
     "status": "completed"
    },
    "tags": []
   },
   "outputs": [
    {
     "name": "stdout",
     "output_type": "stream",
     "text": [
      "{'name': 'Joe', 'age': 10, 'city': 'Paris', 'new_key': 'new_value'}\n"
     ]
    }
   ],
   "source": [
    "my_dict[\"new_key\"] = \"new_value\"\n",
    "print(my_dict)"
   ]
  },
  {
   "cell_type": "code",
   "execution_count": 6,
   "id": "08f967eb",
   "metadata": {
    "execution": {
     "iopub.execute_input": "2023-11-18T00:34:49.399320Z",
     "iopub.status.busy": "2023-11-18T00:34:49.398891Z",
     "iopub.status.idle": "2023-11-18T00:34:49.404619Z",
     "shell.execute_reply": "2023-11-18T00:34:49.403768Z"
    },
    "papermill": {
     "duration": 0.019858,
     "end_time": "2023-11-18T00:34:49.406959",
     "exception": false,
     "start_time": "2023-11-18T00:34:49.387101",
     "status": "completed"
    },
    "tags": []
   },
   "outputs": [
    {
     "name": "stdout",
     "output_type": "stream",
     "text": [
      "{'name': 'Joe', 'age': 10, 'city': 'Paris'}\n"
     ]
    }
   ],
   "source": [
    "del my_dict[\"new_key\"]\n",
    "print(my_dict)"
   ]
  },
  {
   "cell_type": "code",
   "execution_count": 7,
   "id": "c3b467fd",
   "metadata": {
    "execution": {
     "iopub.execute_input": "2023-11-18T00:34:49.429607Z",
     "iopub.status.busy": "2023-11-18T00:34:49.429143Z",
     "iopub.status.idle": "2023-11-18T00:34:49.436348Z",
     "shell.execute_reply": "2023-11-18T00:34:49.435232Z"
    },
    "papermill": {
     "duration": 0.02123,
     "end_time": "2023-11-18T00:34:49.438603",
     "exception": false,
     "start_time": "2023-11-18T00:34:49.417373",
     "status": "completed"
    },
    "tags": []
   },
   "outputs": [
    {
     "data": {
      "text/plain": [
       "3"
      ]
     },
     "execution_count": 7,
     "metadata": {},
     "output_type": "execute_result"
    }
   ],
   "source": [
    "len (my_dict)"
   ]
  },
  {
   "cell_type": "code",
   "execution_count": 8,
   "id": "f6cba22c",
   "metadata": {
    "execution": {
     "iopub.execute_input": "2023-11-18T00:34:49.461931Z",
     "iopub.status.busy": "2023-11-18T00:34:49.461462Z",
     "iopub.status.idle": "2023-11-18T00:34:49.468474Z",
     "shell.execute_reply": "2023-11-18T00:34:49.467327Z"
    },
    "papermill": {
     "duration": 0.021896,
     "end_time": "2023-11-18T00:34:49.471023",
     "exception": false,
     "start_time": "2023-11-18T00:34:49.449127",
     "status": "completed"
    },
    "tags": []
   },
   "outputs": [
    {
     "data": {
      "text/plain": [
       "True"
      ]
     },
     "execution_count": 8,
     "metadata": {},
     "output_type": "execute_result"
    }
   ],
   "source": [
    "\"name\" in my_dict"
   ]
  },
  {
   "cell_type": "code",
   "execution_count": 9,
   "id": "d09b96c2",
   "metadata": {
    "execution": {
     "iopub.execute_input": "2023-11-18T00:34:49.494364Z",
     "iopub.status.busy": "2023-11-18T00:34:49.493960Z",
     "iopub.status.idle": "2023-11-18T00:34:49.500864Z",
     "shell.execute_reply": "2023-11-18T00:34:49.499752Z"
    },
    "papermill": {
     "duration": 0.021429,
     "end_time": "2023-11-18T00:34:49.503457",
     "exception": false,
     "start_time": "2023-11-18T00:34:49.482028",
     "status": "completed"
    },
    "tags": []
   },
   "outputs": [
    {
     "data": {
      "text/plain": [
       "dict_keys(['name', 'age', 'city'])"
      ]
     },
     "execution_count": 9,
     "metadata": {},
     "output_type": "execute_result"
    }
   ],
   "source": [
    "my_dict.keys()"
   ]
  },
  {
   "cell_type": "code",
   "execution_count": 10,
   "id": "4ad3fd68",
   "metadata": {
    "execution": {
     "iopub.execute_input": "2023-11-18T00:34:49.527190Z",
     "iopub.status.busy": "2023-11-18T00:34:49.526734Z",
     "iopub.status.idle": "2023-11-18T00:34:49.533578Z",
     "shell.execute_reply": "2023-11-18T00:34:49.532782Z"
    },
    "papermill": {
     "duration": 0.02124,
     "end_time": "2023-11-18T00:34:49.535837",
     "exception": false,
     "start_time": "2023-11-18T00:34:49.514597",
     "status": "completed"
    },
    "tags": []
   },
   "outputs": [
    {
     "data": {
      "text/plain": [
       "dict_values(['Joe', 10, 'Paris'])"
      ]
     },
     "execution_count": 10,
     "metadata": {},
     "output_type": "execute_result"
    }
   ],
   "source": [
    "my_dict.values()"
   ]
  },
  {
   "cell_type": "code",
   "execution_count": 11,
   "id": "dc99cc41",
   "metadata": {
    "execution": {
     "iopub.execute_input": "2023-11-18T00:34:49.560330Z",
     "iopub.status.busy": "2023-11-18T00:34:49.559883Z",
     "iopub.status.idle": "2023-11-18T00:34:49.567037Z",
     "shell.execute_reply": "2023-11-18T00:34:49.565881Z"
    },
    "papermill": {
     "duration": 0.022763,
     "end_time": "2023-11-18T00:34:49.569540",
     "exception": false,
     "start_time": "2023-11-18T00:34:49.546777",
     "status": "completed"
    },
    "tags": []
   },
   "outputs": [
    {
     "data": {
      "text/plain": [
       "True"
      ]
     },
     "execution_count": 11,
     "metadata": {},
     "output_type": "execute_result"
    }
   ],
   "source": [
    "\"Paris\" in (my_dict.values())"
   ]
  },
  {
   "cell_type": "code",
   "execution_count": 12,
   "id": "1aca7f79",
   "metadata": {
    "execution": {
     "iopub.execute_input": "2023-11-18T00:34:49.593705Z",
     "iopub.status.busy": "2023-11-18T00:34:49.593295Z",
     "iopub.status.idle": "2023-11-18T00:34:49.600700Z",
     "shell.execute_reply": "2023-11-18T00:34:49.599476Z"
    },
    "papermill": {
     "duration": 0.022191,
     "end_time": "2023-11-18T00:34:49.602999",
     "exception": false,
     "start_time": "2023-11-18T00:34:49.580808",
     "status": "completed"
    },
    "tags": []
   },
   "outputs": [
    {
     "data": {
      "text/plain": [
       "dict_items([('name', 'Joe'), ('age', 10), ('city', 'Paris')])"
      ]
     },
     "execution_count": 12,
     "metadata": {},
     "output_type": "execute_result"
    }
   ],
   "source": [
    "my_dict.items()"
   ]
  },
  {
   "cell_type": "code",
   "execution_count": 13,
   "id": "a8647cc3",
   "metadata": {
    "execution": {
     "iopub.execute_input": "2023-11-18T00:34:49.627419Z",
     "iopub.status.busy": "2023-11-18T00:34:49.626944Z",
     "iopub.status.idle": "2023-11-18T00:34:49.632557Z",
     "shell.execute_reply": "2023-11-18T00:34:49.631641Z"
    },
    "papermill": {
     "duration": 0.020345,
     "end_time": "2023-11-18T00:34:49.634725",
     "exception": false,
     "start_time": "2023-11-18T00:34:49.614380",
     "status": "completed"
    },
    "tags": []
   },
   "outputs": [],
   "source": [
    "my_table_dict = {\"name\" : [\"Joe\", \"Bob\", \"Harry\"],\n",
    "                \"age\": [10,15,20],\n",
    "                \"city\" : [\"Paris\", \"New York\", \"Tokyo\"]}"
   ]
  },
  {
   "cell_type": "markdown",
   "id": "529bfe5b",
   "metadata": {
    "papermill": {
     "duration": 0.011095,
     "end_time": "2023-11-18T00:34:49.657479",
     "exception": false,
     "start_time": "2023-11-18T00:34:49.646384",
     "status": "completed"
    },
    "tags": []
   },
   "source": [
    "# **Sets**"
   ]
  },
  {
   "cell_type": "code",
   "execution_count": 14,
   "id": "a06f9ac2",
   "metadata": {
    "execution": {
     "iopub.execute_input": "2023-11-18T00:34:49.681841Z",
     "iopub.status.busy": "2023-11-18T00:34:49.681384Z",
     "iopub.status.idle": "2023-11-18T00:34:49.689060Z",
     "shell.execute_reply": "2023-11-18T00:34:49.687959Z"
    },
    "papermill": {
     "duration": 0.02264,
     "end_time": "2023-11-18T00:34:49.691372",
     "exception": false,
     "start_time": "2023-11-18T00:34:49.668732",
     "status": "completed"
    },
    "tags": []
   },
   "outputs": [
    {
     "data": {
      "text/plain": [
       "set"
      ]
     },
     "execution_count": 14,
     "metadata": {},
     "output_type": "execute_result"
    }
   ],
   "source": [
    "my_set = {1,2,3,4,5,6,7}\n",
    "type(my_set)"
   ]
  },
  {
   "cell_type": "code",
   "execution_count": 15,
   "id": "1a3f185e",
   "metadata": {
    "execution": {
     "iopub.execute_input": "2023-11-18T00:34:49.717214Z",
     "iopub.status.busy": "2023-11-18T00:34:49.716757Z",
     "iopub.status.idle": "2023-11-18T00:34:49.724144Z",
     "shell.execute_reply": "2023-11-18T00:34:49.722915Z"
    },
    "papermill": {
     "duration": 0.023482,
     "end_time": "2023-11-18T00:34:49.726651",
     "exception": false,
     "start_time": "2023-11-18T00:34:49.703169",
     "status": "completed"
    },
    "tags": []
   },
   "outputs": [
    {
     "data": {
      "text/plain": [
       "{1, 2, 3, 4, 5, 6, 7, 8}"
      ]
     },
     "execution_count": 15,
     "metadata": {},
     "output_type": "execute_result"
    }
   ],
   "source": [
    "my_set.add(8)\n",
    "my_set"
   ]
  },
  {
   "cell_type": "code",
   "execution_count": 16,
   "id": "b94ad0e8",
   "metadata": {
    "execution": {
     "iopub.execute_input": "2023-11-18T00:34:49.751846Z",
     "iopub.status.busy": "2023-11-18T00:34:49.751159Z",
     "iopub.status.idle": "2023-11-18T00:34:49.758292Z",
     "shell.execute_reply": "2023-11-18T00:34:49.757266Z"
    },
    "papermill": {
     "duration": 0.02267,
     "end_time": "2023-11-18T00:34:49.760802",
     "exception": false,
     "start_time": "2023-11-18T00:34:49.738132",
     "status": "completed"
    },
    "tags": []
   },
   "outputs": [
    {
     "data": {
      "text/plain": [
       "{1, 2, 3, 4, 5, 6, 8}"
      ]
     },
     "execution_count": 16,
     "metadata": {},
     "output_type": "execute_result"
    }
   ],
   "source": [
    "my_set.remove(7)\n",
    "my_set"
   ]
  },
  {
   "cell_type": "code",
   "execution_count": 17,
   "id": "31e92e24",
   "metadata": {
    "execution": {
     "iopub.execute_input": "2023-11-18T00:34:49.787836Z",
     "iopub.status.busy": "2023-11-18T00:34:49.787022Z",
     "iopub.status.idle": "2023-11-18T00:34:49.794016Z",
     "shell.execute_reply": "2023-11-18T00:34:49.792906Z"
    },
    "papermill": {
     "duration": 0.02447,
     "end_time": "2023-11-18T00:34:49.796911",
     "exception": false,
     "start_time": "2023-11-18T00:34:49.772441",
     "status": "completed"
    },
    "tags": []
   },
   "outputs": [
    {
     "data": {
      "text/plain": [
       "True"
      ]
     },
     "execution_count": 17,
     "metadata": {},
     "output_type": "execute_result"
    }
   ],
   "source": [
    "6 in my_set"
   ]
  },
  {
   "cell_type": "code",
   "execution_count": 18,
   "id": "46a884f2",
   "metadata": {
    "execution": {
     "iopub.execute_input": "2023-11-18T00:34:49.822790Z",
     "iopub.status.busy": "2023-11-18T00:34:49.822397Z",
     "iopub.status.idle": "2023-11-18T00:34:49.829205Z",
     "shell.execute_reply": "2023-11-18T00:34:49.827910Z"
    },
    "papermill": {
     "duration": 0.023148,
     "end_time": "2023-11-18T00:34:49.832002",
     "exception": false,
     "start_time": "2023-11-18T00:34:49.808854",
     "status": "completed"
    },
    "tags": []
   },
   "outputs": [
    {
     "data": {
      "text/plain": [
       "7"
      ]
     },
     "execution_count": 18,
     "metadata": {},
     "output_type": "execute_result"
    }
   ],
   "source": [
    "len (my_set)"
   ]
  },
  {
   "cell_type": "code",
   "execution_count": 19,
   "id": "4504e9f6",
   "metadata": {
    "execution": {
     "iopub.execute_input": "2023-11-18T00:34:49.858701Z",
     "iopub.status.busy": "2023-11-18T00:34:49.858293Z",
     "iopub.status.idle": "2023-11-18T00:34:49.865224Z",
     "shell.execute_reply": "2023-11-18T00:34:49.863917Z"
    },
    "papermill": {
     "duration": 0.023218,
     "end_time": "2023-11-18T00:34:49.867696",
     "exception": false,
     "start_time": "2023-11-18T00:34:49.844478",
     "status": "completed"
    },
    "tags": []
   },
   "outputs": [
    {
     "data": {
      "text/plain": [
       "1"
      ]
     },
     "execution_count": 19,
     "metadata": {},
     "output_type": "execute_result"
    }
   ],
   "source": [
    "min (my_set)"
   ]
  },
  {
   "cell_type": "code",
   "execution_count": 20,
   "id": "774c5e59",
   "metadata": {
    "execution": {
     "iopub.execute_input": "2023-11-18T00:34:49.894447Z",
     "iopub.status.busy": "2023-11-18T00:34:49.893593Z",
     "iopub.status.idle": "2023-11-18T00:34:49.900918Z",
     "shell.execute_reply": "2023-11-18T00:34:49.899780Z"
    },
    "papermill": {
     "duration": 0.023263,
     "end_time": "2023-11-18T00:34:49.903313",
     "exception": false,
     "start_time": "2023-11-18T00:34:49.880050",
     "status": "completed"
    },
    "tags": []
   },
   "outputs": [
    {
     "data": {
      "text/plain": [
       "8"
      ]
     },
     "execution_count": 20,
     "metadata": {},
     "output_type": "execute_result"
    }
   ],
   "source": [
    "max (my_set)"
   ]
  },
  {
   "cell_type": "code",
   "execution_count": 21,
   "id": "640a77be",
   "metadata": {
    "execution": {
     "iopub.execute_input": "2023-11-18T00:34:49.930078Z",
     "iopub.status.busy": "2023-11-18T00:34:49.929641Z",
     "iopub.status.idle": "2023-11-18T00:34:49.937155Z",
     "shell.execute_reply": "2023-11-18T00:34:49.935912Z"
    },
    "papermill": {
     "duration": 0.023905,
     "end_time": "2023-11-18T00:34:49.939575",
     "exception": false,
     "start_time": "2023-11-18T00:34:49.915670",
     "status": "completed"
    },
    "tags": []
   },
   "outputs": [
    {
     "data": {
      "text/plain": [
       "{1, 2, 3, 4, 5, 6}"
      ]
     },
     "execution_count": 21,
     "metadata": {},
     "output_type": "execute_result"
    }
   ],
   "source": [
    "set1 = {1,3,5,6}\n",
    "set2 = {1,2,3,4}\n",
    "set1.union(set2)  # Get the union of two sets"
   ]
  },
  {
   "cell_type": "code",
   "execution_count": 22,
   "id": "eda238fa",
   "metadata": {
    "execution": {
     "iopub.execute_input": "2023-11-18T00:34:49.966853Z",
     "iopub.status.busy": "2023-11-18T00:34:49.966385Z",
     "iopub.status.idle": "2023-11-18T00:34:49.973083Z",
     "shell.execute_reply": "2023-11-18T00:34:49.972204Z"
    },
    "papermill": {
     "duration": 0.023397,
     "end_time": "2023-11-18T00:34:49.975482",
     "exception": false,
     "start_time": "2023-11-18T00:34:49.952085",
     "status": "completed"
    },
    "tags": []
   },
   "outputs": [
    {
     "data": {
      "text/plain": [
       "{1, 3}"
      ]
     },
     "execution_count": 22,
     "metadata": {},
     "output_type": "execute_result"
    }
   ],
   "source": [
    "set1.intersection(set2)"
   ]
  },
  {
   "cell_type": "code",
   "execution_count": 23,
   "id": "9cc602ef",
   "metadata": {
    "execution": {
     "iopub.execute_input": "2023-11-18T00:34:50.003235Z",
     "iopub.status.busy": "2023-11-18T00:34:50.002789Z",
     "iopub.status.idle": "2023-11-18T00:34:50.009098Z",
     "shell.execute_reply": "2023-11-18T00:34:50.008241Z"
    },
    "papermill": {
     "duration": 0.023045,
     "end_time": "2023-11-18T00:34:50.011396",
     "exception": false,
     "start_time": "2023-11-18T00:34:49.988351",
     "status": "completed"
    },
    "tags": []
   },
   "outputs": [
    {
     "data": {
      "text/plain": [
       "{5, 6}"
      ]
     },
     "execution_count": 23,
     "metadata": {},
     "output_type": "execute_result"
    }
   ],
   "source": [
    "set1.difference(set2)  # Get the difference between two sets"
   ]
  },
  {
   "cell_type": "code",
   "execution_count": 24,
   "id": "af5d411d",
   "metadata": {
    "execution": {
     "iopub.execute_input": "2023-11-18T00:34:50.039080Z",
     "iopub.status.busy": "2023-11-18T00:34:50.038640Z",
     "iopub.status.idle": "2023-11-18T00:34:50.045324Z",
     "shell.execute_reply": "2023-11-18T00:34:50.044273Z"
    },
    "papermill": {
     "duration": 0.023267,
     "end_time": "2023-11-18T00:34:50.047533",
     "exception": false,
     "start_time": "2023-11-18T00:34:50.024266",
     "status": "completed"
    },
    "tags": []
   },
   "outputs": [
    {
     "data": {
      "text/plain": [
       "{2, 4}"
      ]
     },
     "execution_count": 24,
     "metadata": {},
     "output_type": "execute_result"
    }
   ],
   "source": [
    "set2.difference(set1)"
   ]
  },
  {
   "cell_type": "code",
   "execution_count": 25,
   "id": "a59e944a",
   "metadata": {
    "execution": {
     "iopub.execute_input": "2023-11-18T00:34:50.075327Z",
     "iopub.status.busy": "2023-11-18T00:34:50.074884Z",
     "iopub.status.idle": "2023-11-18T00:34:50.082255Z",
     "shell.execute_reply": "2023-11-18T00:34:50.081324Z"
    },
    "papermill": {
     "duration": 0.023866,
     "end_time": "2023-11-18T00:34:50.084437",
     "exception": false,
     "start_time": "2023-11-18T00:34:50.060571",
     "status": "completed"
    },
    "tags": []
   },
   "outputs": [
    {
     "data": {
      "text/plain": [
       "False"
      ]
     },
     "execution_count": 25,
     "metadata": {},
     "output_type": "execute_result"
    }
   ],
   "source": [
    "set1.issubset(set2)"
   ]
  },
  {
   "cell_type": "code",
   "execution_count": 26,
   "id": "63260669",
   "metadata": {
    "execution": {
     "iopub.execute_input": "2023-11-18T00:34:50.180776Z",
     "iopub.status.busy": "2023-11-18T00:34:50.180312Z",
     "iopub.status.idle": "2023-11-18T00:34:50.187700Z",
     "shell.execute_reply": "2023-11-18T00:34:50.186641Z"
    },
    "papermill": {
     "duration": 0.024336,
     "end_time": "2023-11-18T00:34:50.189923",
     "exception": false,
     "start_time": "2023-11-18T00:34:50.165587",
     "status": "completed"
    },
    "tags": []
   },
   "outputs": [
    {
     "data": {
      "text/plain": [
       "False"
      ]
     },
     "execution_count": 26,
     "metadata": {},
     "output_type": "execute_result"
    }
   ],
   "source": [
    "set2.issubset(set1)"
   ]
  },
  {
   "cell_type": "code",
   "execution_count": 27,
   "id": "6a6578f2",
   "metadata": {
    "execution": {
     "iopub.execute_input": "2023-11-18T00:34:50.218859Z",
     "iopub.status.busy": "2023-11-18T00:34:50.218420Z",
     "iopub.status.idle": "2023-11-18T00:34:50.226176Z",
     "shell.execute_reply": "2023-11-18T00:34:50.225142Z"
    },
    "papermill": {
     "duration": 0.025548,
     "end_time": "2023-11-18T00:34:50.228913",
     "exception": false,
     "start_time": "2023-11-18T00:34:50.203365",
     "status": "completed"
    },
    "tags": []
   },
   "outputs": [
    {
     "data": {
      "text/plain": [
       "[1, 2, 3, 4, 5, 6]"
      ]
     },
     "execution_count": 27,
     "metadata": {},
     "output_type": "execute_result"
    }
   ],
   "source": [
    "my_list = [1,2,2,2,3,3,4,5,5,5,6]\n",
    "list(set(my_list))"
   ]
  }
 ],
 "metadata": {
  "kaggle": {
   "accelerator": "none",
   "dataSources": [],
   "dockerImageVersionId": 30587,
   "isGpuEnabled": false,
   "isInternetEnabled": false,
   "language": "python",
   "sourceType": "notebook"
  },
  "kernelspec": {
   "display_name": "Python 3",
   "language": "python",
   "name": "python3"
  },
  "language_info": {
   "codemirror_mode": {
    "name": "ipython",
    "version": 3
   },
   "file_extension": ".py",
   "mimetype": "text/x-python",
   "name": "python",
   "nbconvert_exporter": "python",
   "pygments_lexer": "ipython3",
   "version": "3.10.12"
  },
  "papermill": {
   "default_parameters": {},
   "duration": 5.556469,
   "end_time": "2023-11-18T00:34:50.764187",
   "environment_variables": {},
   "exception": null,
   "input_path": "__notebook__.ipynb",
   "output_path": "__notebook__.ipynb",
   "parameters": {},
   "start_time": "2023-11-18T00:34:45.207718",
   "version": "2.4.0"
  }
 },
 "nbformat": 4,
 "nbformat_minor": 5
}

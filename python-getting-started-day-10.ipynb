{
 "cells": [
  {
   "cell_type": "code",
   "execution_count": 1,
   "id": "36e70086",
   "metadata": {
    "_cell_guid": "b1076dfc-b9ad-4769-8c92-a6c4dae69d19",
    "_uuid": "8f2839f25d086af736a60e9eeb907d3b93b6e0e5",
    "execution": {
     "iopub.execute_input": "2023-11-21T11:51:28.085585Z",
     "iopub.status.busy": "2023-11-21T11:51:28.084655Z",
     "iopub.status.idle": "2023-11-21T11:51:28.561965Z",
     "shell.execute_reply": "2023-11-21T11:51:28.560491Z"
    },
    "papermill": {
     "duration": 0.493539,
     "end_time": "2023-11-21T11:51:28.565046",
     "exception": false,
     "start_time": "2023-11-21T11:51:28.071507",
     "status": "completed"
    },
    "tags": []
   },
   "outputs": [],
   "source": [
    "# This Python 3 environment comes with many helpful analytics libraries installed\n",
    "# It is defined by the kaggle/python Docker image: https://github.com/kaggle/docker-python\n",
    "# For example, here's several helpful packages to load\n",
    "\n",
    "import numpy as np # linear algebra\n",
    "import pandas as pd # data processing, CSV file I/O (e.g. pd.read_csv)\n",
    "\n",
    "# Input data files are available in the read-only \"../input/\" directory\n",
    "# For example, running this (by clicking run or pressing Shift+Enter) will list all files under the input directory\n",
    "\n",
    "import os\n",
    "for dirname, _, filenames in os.walk('/kaggle/input'):\n",
    "    for filename in filenames:\n",
    "        print(os.path.join(dirname, filename))\n",
    "\n",
    "# You can write up to 20GB to the current directory (/kaggle/working/) that gets preserved as output when you create a version using \"Save & Run All\" \n",
    "# You can also write temporary files to /kaggle/temp/, but they won't be saved outside of the current session"
   ]
  },
  {
   "cell_type": "markdown",
   "id": "84682b7b",
   "metadata": {
    "papermill": {
     "duration": 0.009926,
     "end_time": "2023-11-21T11:51:28.585678",
     "exception": false,
     "start_time": "2023-11-21T11:51:28.575752",
     "status": "completed"
    },
    "tags": []
   },
   "source": [
    "# **Panda Data Frames**"
   ]
  },
  {
   "cell_type": "markdown",
   "id": "d73ee055",
   "metadata": {
    "papermill": {
     "duration": 0.009968,
     "end_time": "2023-11-21T11:51:28.605639",
     "exception": false,
     "start_time": "2023-11-21T11:51:28.595671",
     "status": "completed"
    },
    "tags": []
   },
   "source": [
    "**Panda Series**"
   ]
  },
  {
   "cell_type": "code",
   "execution_count": 2,
   "id": "149883a3",
   "metadata": {
    "execution": {
     "iopub.execute_input": "2023-11-21T11:51:28.628867Z",
     "iopub.status.busy": "2023-11-21T11:51:28.627743Z",
     "iopub.status.idle": "2023-11-21T11:51:28.633615Z",
     "shell.execute_reply": "2023-11-21T11:51:28.632433Z"
    },
    "papermill": {
     "duration": 0.02085,
     "end_time": "2023-11-21T11:51:28.636481",
     "exception": false,
     "start_time": "2023-11-21T11:51:28.615631",
     "status": "completed"
    },
    "tags": []
   },
   "outputs": [],
   "source": [
    "import numpy as np\n",
    "import pandas as pd"
   ]
  },
  {
   "cell_type": "code",
   "execution_count": 3,
   "id": "1e38b5eb",
   "metadata": {
    "execution": {
     "iopub.execute_input": "2023-11-21T11:51:28.659525Z",
     "iopub.status.busy": "2023-11-21T11:51:28.659043Z",
     "iopub.status.idle": "2023-11-21T11:51:28.676478Z",
     "shell.execute_reply": "2023-11-21T11:51:28.675284Z"
    },
    "papermill": {
     "duration": 0.032052,
     "end_time": "2023-11-21T11:51:28.679082",
     "exception": false,
     "start_time": "2023-11-21T11:51:28.647030",
     "status": "completed"
    },
    "tags": []
   },
   "outputs": [
    {
     "data": {
      "text/plain": [
       "a    2\n",
       "b    3\n",
       "c    4\n",
       "d    5\n",
       "dtype: int64"
      ]
     },
     "execution_count": 3,
     "metadata": {},
     "output_type": "execute_result"
    }
   ],
   "source": [
    "my_series = pd.Series( data = [2,3,4,5],\n",
    "                     index = ['a','b','c','d'\n",
    "                    ])\n",
    "my_series"
   ]
  },
  {
   "cell_type": "code",
   "execution_count": 4,
   "id": "2cfc72e8",
   "metadata": {
    "execution": {
     "iopub.execute_input": "2023-11-21T11:51:28.702213Z",
     "iopub.status.busy": "2023-11-21T11:51:28.701695Z",
     "iopub.status.idle": "2023-11-21T11:51:28.711354Z",
     "shell.execute_reply": "2023-11-21T11:51:28.710171Z"
    },
    "papermill": {
     "duration": 0.024139,
     "end_time": "2023-11-21T11:51:28.713612",
     "exception": false,
     "start_time": "2023-11-21T11:51:28.689473",
     "status": "completed"
    },
    "tags": []
   },
   "outputs": [
    {
     "data": {
      "text/plain": [
       "x    2\n",
       "a    5\n",
       "b    4\n",
       "c    8\n",
       "dtype: int64"
      ]
     },
     "execution_count": 4,
     "metadata": {},
     "output_type": "execute_result"
    }
   ],
   "source": [
    "my_dict = {\"x\": 2, \"a\":5, \"b\":4, \"c\":8}\n",
    "my_series2 = pd.Series(my_dict)\n",
    "my_series2"
   ]
  },
  {
   "cell_type": "code",
   "execution_count": 5,
   "id": "686639ce",
   "metadata": {
    "execution": {
     "iopub.execute_input": "2023-11-21T11:51:28.736555Z",
     "iopub.status.busy": "2023-11-21T11:51:28.735764Z",
     "iopub.status.idle": "2023-11-21T11:51:28.744037Z",
     "shell.execute_reply": "2023-11-21T11:51:28.742839Z"
    },
    "papermill": {
     "duration": 0.022983,
     "end_time": "2023-11-21T11:51:28.746687",
     "exception": false,
     "start_time": "2023-11-21T11:51:28.723704",
     "status": "completed"
    },
    "tags": []
   },
   "outputs": [
    {
     "data": {
      "text/plain": [
       "2"
      ]
     },
     "execution_count": 5,
     "metadata": {},
     "output_type": "execute_result"
    }
   ],
   "source": [
    "my_series [\"a\"]"
   ]
  },
  {
   "cell_type": "code",
   "execution_count": 6,
   "id": "9608b959",
   "metadata": {
    "execution": {
     "iopub.execute_input": "2023-11-21T11:51:28.770743Z",
     "iopub.status.busy": "2023-11-21T11:51:28.770259Z",
     "iopub.status.idle": "2023-11-21T11:51:28.777835Z",
     "shell.execute_reply": "2023-11-21T11:51:28.776739Z"
    },
    "papermill": {
     "duration": 0.022573,
     "end_time": "2023-11-21T11:51:28.780015",
     "exception": false,
     "start_time": "2023-11-21T11:51:28.757442",
     "status": "completed"
    },
    "tags": []
   },
   "outputs": [
    {
     "data": {
      "text/plain": [
       "2"
      ]
     },
     "execution_count": 6,
     "metadata": {},
     "output_type": "execute_result"
    }
   ],
   "source": [
    "my_series[0]"
   ]
  },
  {
   "cell_type": "code",
   "execution_count": 7,
   "id": "6e80b1cd",
   "metadata": {
    "execution": {
     "iopub.execute_input": "2023-11-21T11:51:28.802659Z",
     "iopub.status.busy": "2023-11-21T11:51:28.802197Z",
     "iopub.status.idle": "2023-11-21T11:51:28.810353Z",
     "shell.execute_reply": "2023-11-21T11:51:28.809443Z"
    },
    "papermill": {
     "duration": 0.022036,
     "end_time": "2023-11-21T11:51:28.812589",
     "exception": false,
     "start_time": "2023-11-21T11:51:28.790553",
     "status": "completed"
    },
    "tags": []
   },
   "outputs": [
    {
     "data": {
      "text/plain": [
       "b    3\n",
       "c    4\n",
       "dtype: int64"
      ]
     },
     "execution_count": 7,
     "metadata": {},
     "output_type": "execute_result"
    }
   ],
   "source": [
    "my_series[1:3]"
   ]
  },
  {
   "cell_type": "code",
   "execution_count": 8,
   "id": "ad9d939a",
   "metadata": {
    "execution": {
     "iopub.execute_input": "2023-11-21T11:51:28.836183Z",
     "iopub.status.busy": "2023-11-21T11:51:28.835663Z",
     "iopub.status.idle": "2023-11-21T11:51:28.845595Z",
     "shell.execute_reply": "2023-11-21T11:51:28.844303Z"
    },
    "papermill": {
     "duration": 0.024932,
     "end_time": "2023-11-21T11:51:28.848056",
     "exception": false,
     "start_time": "2023-11-21T11:51:28.823124",
     "status": "completed"
    },
    "tags": []
   },
   "outputs": [
    {
     "data": {
      "text/plain": [
       "a     4\n",
       "b     6\n",
       "c     8\n",
       "d    10\n",
       "dtype: int64"
      ]
     },
     "execution_count": 8,
     "metadata": {},
     "output_type": "execute_result"
    }
   ],
   "source": [
    "my_series + my_series"
   ]
  },
  {
   "cell_type": "code",
   "execution_count": 9,
   "id": "501b0815",
   "metadata": {
    "execution": {
     "iopub.execute_input": "2023-11-21T11:51:28.872084Z",
     "iopub.status.busy": "2023-11-21T11:51:28.871641Z",
     "iopub.status.idle": "2023-11-21T11:51:28.893629Z",
     "shell.execute_reply": "2023-11-21T11:51:28.892336Z"
    },
    "papermill": {
     "duration": 0.037371,
     "end_time": "2023-11-21T11:51:28.896320",
     "exception": false,
     "start_time": "2023-11-21T11:51:28.858949",
     "status": "completed"
    },
    "tags": []
   },
   "outputs": [
    {
     "data": {
      "text/plain": [
       "a     7.0\n",
       "b     7.0\n",
       "c    12.0\n",
       "d     NaN\n",
       "x     NaN\n",
       "dtype: float64"
      ]
     },
     "execution_count": 9,
     "metadata": {},
     "output_type": "execute_result"
    }
   ],
   "source": [
    " my_series +  my_series2"
   ]
  },
  {
   "cell_type": "code",
   "execution_count": 10,
   "id": "3224b9bb",
   "metadata": {
    "execution": {
     "iopub.execute_input": "2023-11-21T11:51:28.922038Z",
     "iopub.status.busy": "2023-11-21T11:51:28.921470Z",
     "iopub.status.idle": "2023-11-21T11:51:28.930034Z",
     "shell.execute_reply": "2023-11-21T11:51:28.928810Z"
    },
    "papermill": {
     "duration": 0.024468,
     "end_time": "2023-11-21T11:51:28.932481",
     "exception": false,
     "start_time": "2023-11-21T11:51:28.908013",
     "status": "completed"
    },
    "tags": []
   },
   "outputs": [
    {
     "data": {
      "text/plain": [
       "3.5"
      ]
     },
     "execution_count": 10,
     "metadata": {},
     "output_type": "execute_result"
    }
   ],
   "source": [
    "np.mean( my_series)"
   ]
  },
  {
   "cell_type": "markdown",
   "id": "5d36a8ec",
   "metadata": {
    "papermill": {
     "duration": 0.011185,
     "end_time": "2023-11-21T11:51:28.955318",
     "exception": false,
     "start_time": "2023-11-21T11:51:28.944133",
     "status": "completed"
    },
    "tags": []
   },
   "source": [
    "# **DatFrame Creation and Indexing**"
   ]
  },
  {
   "cell_type": "code",
   "execution_count": 11,
   "id": "f188cc2c",
   "metadata": {
    "execution": {
     "iopub.execute_input": "2023-11-21T11:51:28.981853Z",
     "iopub.status.busy": "2023-11-21T11:51:28.981380Z",
     "iopub.status.idle": "2023-11-21T11:51:29.004401Z",
     "shell.execute_reply": "2023-11-21T11:51:29.003471Z"
    },
    "papermill": {
     "duration": 0.039122,
     "end_time": "2023-11-21T11:51:29.006760",
     "exception": false,
     "start_time": "2023-11-21T11:51:28.967638",
     "status": "completed"
    },
    "tags": []
   },
   "outputs": [
    {
     "data": {
      "text/html": [
       "<div>\n",
       "<style scoped>\n",
       "    .dataframe tbody tr th:only-of-type {\n",
       "        vertical-align: middle;\n",
       "    }\n",
       "\n",
       "    .dataframe tbody tr th {\n",
       "        vertical-align: top;\n",
       "    }\n",
       "\n",
       "    .dataframe thead th {\n",
       "        text-align: right;\n",
       "    }\n",
       "</style>\n",
       "<table border=\"1\" class=\"dataframe\">\n",
       "  <thead>\n",
       "    <tr style=\"text-align: right;\">\n",
       "      <th></th>\n",
       "      <th>name</th>\n",
       "      <th>age</th>\n",
       "      <th>weight</th>\n",
       "      <th>height</th>\n",
       "      <th>siblings</th>\n",
       "      <th>gender</th>\n",
       "    </tr>\n",
       "  </thead>\n",
       "  <tbody>\n",
       "    <tr>\n",
       "      <th>Joe</th>\n",
       "      <td>Joe</td>\n",
       "      <td>10</td>\n",
       "      <td>75</td>\n",
       "      <td>4.5</td>\n",
       "      <td>1</td>\n",
       "      <td>M</td>\n",
       "    </tr>\n",
       "    <tr>\n",
       "      <th>Bob</th>\n",
       "      <td>Bob</td>\n",
       "      <td>15</td>\n",
       "      <td>123</td>\n",
       "      <td>5.0</td>\n",
       "      <td>1</td>\n",
       "      <td>M</td>\n",
       "    </tr>\n",
       "    <tr>\n",
       "      <th>Frans</th>\n",
       "      <td>Frans</td>\n",
       "      <td>20</td>\n",
       "      <td>239</td>\n",
       "      <td>6.1</td>\n",
       "      <td>1</td>\n",
       "      <td>M</td>\n",
       "    </tr>\n",
       "  </tbody>\n",
       "</table>\n",
       "</div>"
      ],
      "text/plain": [
       "        name  age  weight  height  siblings gender\n",
       "Joe      Joe   10      75     4.5         1      M\n",
       "Bob      Bob   15     123     5.0         1      M\n",
       "Frans  Frans   20     239     6.1         1      M"
      ]
     },
     "execution_count": 11,
     "metadata": {},
     "output_type": "execute_result"
    }
   ],
   "source": [
    "my_dict = {\"name\": [\"Joe\",\"Bob\",\"Frans\"],\n",
    "          \"age\": np.array([10,15,20]),\n",
    "          \"weight\": (75,123,239),\n",
    "          \"height\": pd.Series([4.5,5,6.1],\n",
    "                             index =[\"Joe\", \"Bob\",\"Frans\"]),\n",
    "          \"siblings\":1,\n",
    "          \"gender\": \"M\"}\n",
    "df = pd.DataFrame(my_dict)\n",
    "df # show the data frame"
   ]
  },
  {
   "cell_type": "code",
   "execution_count": 12,
   "id": "d53f29e5",
   "metadata": {
    "execution": {
     "iopub.execute_input": "2023-11-21T11:51:29.031978Z",
     "iopub.status.busy": "2023-11-21T11:51:29.031222Z",
     "iopub.status.idle": "2023-11-21T11:51:29.045213Z",
     "shell.execute_reply": "2023-11-21T11:51:29.044489Z"
    },
    "papermill": {
     "duration": 0.028832,
     "end_time": "2023-11-21T11:51:29.047215",
     "exception": false,
     "start_time": "2023-11-21T11:51:29.018383",
     "status": "completed"
    },
    "tags": []
   },
   "outputs": [
    {
     "data": {
      "text/html": [
       "<div>\n",
       "<style scoped>\n",
       "    .dataframe tbody tr th:only-of-type {\n",
       "        vertical-align: middle;\n",
       "    }\n",
       "\n",
       "    .dataframe tbody tr th {\n",
       "        vertical-align: top;\n",
       "    }\n",
       "\n",
       "    .dataframe thead th {\n",
       "        text-align: right;\n",
       "    }\n",
       "</style>\n",
       "<table border=\"1\" class=\"dataframe\">\n",
       "  <thead>\n",
       "    <tr style=\"text-align: right;\">\n",
       "      <th></th>\n",
       "      <th>name</th>\n",
       "      <th>age</th>\n",
       "      <th>weight</th>\n",
       "      <th>height</th>\n",
       "      <th>siblings</th>\n",
       "      <th>gender</th>\n",
       "    </tr>\n",
       "  </thead>\n",
       "  <tbody>\n",
       "    <tr>\n",
       "      <th>0</th>\n",
       "      <td>Joe</td>\n",
       "      <td>10</td>\n",
       "      <td>75</td>\n",
       "      <td>4.5</td>\n",
       "      <td>1</td>\n",
       "      <td>M</td>\n",
       "    </tr>\n",
       "    <tr>\n",
       "      <th>1</th>\n",
       "      <td>Bob</td>\n",
       "      <td>15</td>\n",
       "      <td>123</td>\n",
       "      <td>5.0</td>\n",
       "      <td>1</td>\n",
       "      <td>M</td>\n",
       "    </tr>\n",
       "    <tr>\n",
       "      <th>2</th>\n",
       "      <td>Frans</td>\n",
       "      <td>20</td>\n",
       "      <td>239</td>\n",
       "      <td>6.1</td>\n",
       "      <td>1</td>\n",
       "      <td>M</td>\n",
       "    </tr>\n",
       "  </tbody>\n",
       "</table>\n",
       "</div>"
      ],
      "text/plain": [
       "    name  age  weight  height  siblings gender\n",
       "0    Joe   10      75     4.5         1      M\n",
       "1    Bob   15     123     5.0         1      M\n",
       "2  Frans   20     239     6.1         1      M"
      ]
     },
     "execution_count": 12,
     "metadata": {},
     "output_type": "execute_result"
    }
   ],
   "source": [
    "my_dict2 = {\"name\": [\"Joe\",\"Bob\",\"Frans\"],\n",
    "          \"age\": np.array([10,15,20]),\n",
    "          \"weight\": (75,123,239),\n",
    "          \"height\": [4.5,5,6.1],\n",
    "          \"siblings\":1,\n",
    "          \"gender\": \"M\"}\n",
    "df2 = pd.DataFrame(my_dict2)\n",
    "df2 # show the data frame"
   ]
  },
  {
   "cell_type": "code",
   "execution_count": 13,
   "id": "3e547177",
   "metadata": {
    "execution": {
     "iopub.execute_input": "2023-11-21T11:51:29.073778Z",
     "iopub.status.busy": "2023-11-21T11:51:29.073247Z",
     "iopub.status.idle": "2023-11-21T11:51:29.089248Z",
     "shell.execute_reply": "2023-11-21T11:51:29.087954Z"
    },
    "papermill": {
     "duration": 0.032866,
     "end_time": "2023-11-21T11:51:29.091834",
     "exception": false,
     "start_time": "2023-11-21T11:51:29.058968",
     "status": "completed"
    },
    "tags": []
   },
   "outputs": [
    {
     "data": {
      "text/html": [
       "<div>\n",
       "<style scoped>\n",
       "    .dataframe tbody tr th:only-of-type {\n",
       "        vertical-align: middle;\n",
       "    }\n",
       "\n",
       "    .dataframe tbody tr th {\n",
       "        vertical-align: top;\n",
       "    }\n",
       "\n",
       "    .dataframe thead th {\n",
       "        text-align: right;\n",
       "    }\n",
       "</style>\n",
       "<table border=\"1\" class=\"dataframe\">\n",
       "  <thead>\n",
       "    <tr style=\"text-align: right;\">\n",
       "      <th></th>\n",
       "      <th>name</th>\n",
       "      <th>age</th>\n",
       "      <th>weight</th>\n",
       "      <th>height</th>\n",
       "      <th>siblings</th>\n",
       "      <th>gender</th>\n",
       "    </tr>\n",
       "  </thead>\n",
       "  <tbody>\n",
       "    <tr>\n",
       "      <th>Joe</th>\n",
       "      <td>Joe</td>\n",
       "      <td>10</td>\n",
       "      <td>75</td>\n",
       "      <td>4.5</td>\n",
       "      <td>1</td>\n",
       "      <td>M</td>\n",
       "    </tr>\n",
       "    <tr>\n",
       "      <th>Bob</th>\n",
       "      <td>Bob</td>\n",
       "      <td>15</td>\n",
       "      <td>123</td>\n",
       "      <td>5.0</td>\n",
       "      <td>1</td>\n",
       "      <td>M</td>\n",
       "    </tr>\n",
       "    <tr>\n",
       "      <th>Frans</th>\n",
       "      <td>Frans</td>\n",
       "      <td>20</td>\n",
       "      <td>239</td>\n",
       "      <td>6.1</td>\n",
       "      <td>1</td>\n",
       "      <td>M</td>\n",
       "    </tr>\n",
       "  </tbody>\n",
       "</table>\n",
       "</div>"
      ],
      "text/plain": [
       "        name  age  weight  height  siblings gender\n",
       "Joe      Joe   10      75     4.5         1      M\n",
       "Bob      Bob   15     123     5.0         1      M\n",
       "Frans  Frans   20     239     6.1         1      M"
      ]
     },
     "execution_count": 13,
     "metadata": {},
     "output_type": "execute_result"
    }
   ],
   "source": [
    "df2 = pd.DataFrame(my_dict2,\n",
    "                  index = my_dict[\"name\"])\n",
    "df2"
   ]
  },
  {
   "cell_type": "code",
   "execution_count": 14,
   "id": "ed6dd723",
   "metadata": {
    "execution": {
     "iopub.execute_input": "2023-11-21T11:51:29.119883Z",
     "iopub.status.busy": "2023-11-21T11:51:29.119106Z",
     "iopub.status.idle": "2023-11-21T11:51:29.127116Z",
     "shell.execute_reply": "2023-11-21T11:51:29.126168Z"
    },
    "papermill": {
     "duration": 0.024439,
     "end_time": "2023-11-21T11:51:29.129306",
     "exception": false,
     "start_time": "2023-11-21T11:51:29.104867",
     "status": "completed"
    },
    "tags": []
   },
   "outputs": [
    {
     "data": {
      "text/plain": [
       "Joe       75\n",
       "Bob      123\n",
       "Frans    239\n",
       "Name: weight, dtype: int64"
      ]
     },
     "execution_count": 14,
     "metadata": {},
     "output_type": "execute_result"
    }
   ],
   "source": [
    "df2[\"weight\"] # Get a column by name"
   ]
  },
  {
   "cell_type": "code",
   "execution_count": 15,
   "id": "b63a79eb",
   "metadata": {
    "execution": {
     "iopub.execute_input": "2023-11-21T11:51:29.156363Z",
     "iopub.status.busy": "2023-11-21T11:51:29.155593Z",
     "iopub.status.idle": "2023-11-21T11:51:29.163633Z",
     "shell.execute_reply": "2023-11-21T11:51:29.162450Z"
    },
    "papermill": {
     "duration": 0.024546,
     "end_time": "2023-11-21T11:51:29.166017",
     "exception": false,
     "start_time": "2023-11-21T11:51:29.141471",
     "status": "completed"
    },
    "tags": []
   },
   "outputs": [
    {
     "data": {
      "text/plain": [
       "Joe       75\n",
       "Bob      123\n",
       "Frans    239\n",
       "Name: weight, dtype: int64"
      ]
     },
     "execution_count": 15,
     "metadata": {},
     "output_type": "execute_result"
    }
   ],
   "source": [
    "df2.weight"
   ]
  },
  {
   "cell_type": "code",
   "execution_count": 16,
   "id": "1f219fb8",
   "metadata": {
    "execution": {
     "iopub.execute_input": "2023-11-21T11:51:29.193502Z",
     "iopub.status.busy": "2023-11-21T11:51:29.193027Z",
     "iopub.status.idle": "2023-11-21T11:51:29.201268Z",
     "shell.execute_reply": "2023-11-21T11:51:29.199904Z"
    },
    "papermill": {
     "duration": 0.025463,
     "end_time": "2023-11-21T11:51:29.203778",
     "exception": false,
     "start_time": "2023-11-21T11:51:29.178315",
     "status": "completed"
    },
    "tags": []
   },
   "outputs": [],
   "source": [
    "del df2['name']"
   ]
  },
  {
   "cell_type": "code",
   "execution_count": 17,
   "id": "3c13c2ad",
   "metadata": {
    "execution": {
     "iopub.execute_input": "2023-11-21T11:51:29.230302Z",
     "iopub.status.busy": "2023-11-21T11:51:29.229812Z",
     "iopub.status.idle": "2023-11-21T11:51:29.243819Z",
     "shell.execute_reply": "2023-11-21T11:51:29.243077Z"
    },
    "papermill": {
     "duration": 0.029527,
     "end_time": "2023-11-21T11:51:29.245729",
     "exception": false,
     "start_time": "2023-11-21T11:51:29.216202",
     "status": "completed"
    },
    "tags": []
   },
   "outputs": [
    {
     "data": {
      "text/html": [
       "<div>\n",
       "<style scoped>\n",
       "    .dataframe tbody tr th:only-of-type {\n",
       "        vertical-align: middle;\n",
       "    }\n",
       "\n",
       "    .dataframe tbody tr th {\n",
       "        vertical-align: top;\n",
       "    }\n",
       "\n",
       "    .dataframe thead th {\n",
       "        text-align: right;\n",
       "    }\n",
       "</style>\n",
       "<table border=\"1\" class=\"dataframe\">\n",
       "  <thead>\n",
       "    <tr style=\"text-align: right;\">\n",
       "      <th></th>\n",
       "      <th>age</th>\n",
       "      <th>weight</th>\n",
       "      <th>height</th>\n",
       "      <th>siblings</th>\n",
       "      <th>gender</th>\n",
       "      <th>IQ</th>\n",
       "    </tr>\n",
       "  </thead>\n",
       "  <tbody>\n",
       "    <tr>\n",
       "      <th>Joe</th>\n",
       "      <td>10</td>\n",
       "      <td>75</td>\n",
       "      <td>4.5</td>\n",
       "      <td>1</td>\n",
       "      <td>M</td>\n",
       "      <td>130</td>\n",
       "    </tr>\n",
       "    <tr>\n",
       "      <th>Bob</th>\n",
       "      <td>15</td>\n",
       "      <td>123</td>\n",
       "      <td>5.0</td>\n",
       "      <td>1</td>\n",
       "      <td>M</td>\n",
       "      <td>105</td>\n",
       "    </tr>\n",
       "    <tr>\n",
       "      <th>Frans</th>\n",
       "      <td>20</td>\n",
       "      <td>239</td>\n",
       "      <td>6.1</td>\n",
       "      <td>1</td>\n",
       "      <td>M</td>\n",
       "      <td>115</td>\n",
       "    </tr>\n",
       "  </tbody>\n",
       "</table>\n",
       "</div>"
      ],
      "text/plain": [
       "       age  weight  height  siblings gender   IQ\n",
       "Joe     10      75     4.5         1      M  130\n",
       "Bob     15     123     5.0         1      M  105\n",
       "Frans   20     239     6.1         1      M  115"
      ]
     },
     "execution_count": 17,
     "metadata": {},
     "output_type": "execute_result"
    }
   ],
   "source": [
    "df2[\"IQ\"] = [130, 105, 115]\n",
    "df2"
   ]
  },
  {
   "cell_type": "code",
   "execution_count": 18,
   "id": "423104af",
   "metadata": {
    "execution": {
     "iopub.execute_input": "2023-11-21T11:51:29.273033Z",
     "iopub.status.busy": "2023-11-21T11:51:29.271943Z",
     "iopub.status.idle": "2023-11-21T11:51:29.284820Z",
     "shell.execute_reply": "2023-11-21T11:51:29.284120Z"
    },
    "papermill": {
     "duration": 0.028631,
     "end_time": "2023-11-21T11:51:29.286943",
     "exception": false,
     "start_time": "2023-11-21T11:51:29.258312",
     "status": "completed"
    },
    "tags": []
   },
   "outputs": [
    {
     "data": {
      "text/html": [
       "<div>\n",
       "<style scoped>\n",
       "    .dataframe tbody tr th:only-of-type {\n",
       "        vertical-align: middle;\n",
       "    }\n",
       "\n",
       "    .dataframe tbody tr th {\n",
       "        vertical-align: top;\n",
       "    }\n",
       "\n",
       "    .dataframe thead th {\n",
       "        text-align: right;\n",
       "    }\n",
       "</style>\n",
       "<table border=\"1\" class=\"dataframe\">\n",
       "  <thead>\n",
       "    <tr style=\"text-align: right;\">\n",
       "      <th></th>\n",
       "      <th>age</th>\n",
       "      <th>weight</th>\n",
       "      <th>height</th>\n",
       "      <th>siblings</th>\n",
       "      <th>gender</th>\n",
       "      <th>IQ</th>\n",
       "      <th>Married</th>\n",
       "    </tr>\n",
       "  </thead>\n",
       "  <tbody>\n",
       "    <tr>\n",
       "      <th>Joe</th>\n",
       "      <td>10</td>\n",
       "      <td>75</td>\n",
       "      <td>4.5</td>\n",
       "      <td>1</td>\n",
       "      <td>M</td>\n",
       "      <td>130</td>\n",
       "      <td>False</td>\n",
       "    </tr>\n",
       "    <tr>\n",
       "      <th>Bob</th>\n",
       "      <td>15</td>\n",
       "      <td>123</td>\n",
       "      <td>5.0</td>\n",
       "      <td>1</td>\n",
       "      <td>M</td>\n",
       "      <td>105</td>\n",
       "      <td>False</td>\n",
       "    </tr>\n",
       "    <tr>\n",
       "      <th>Frans</th>\n",
       "      <td>20</td>\n",
       "      <td>239</td>\n",
       "      <td>6.1</td>\n",
       "      <td>1</td>\n",
       "      <td>M</td>\n",
       "      <td>115</td>\n",
       "      <td>False</td>\n",
       "    </tr>\n",
       "  </tbody>\n",
       "</table>\n",
       "</div>"
      ],
      "text/plain": [
       "       age  weight  height  siblings gender   IQ  Married\n",
       "Joe     10      75     4.5         1      M  130    False\n",
       "Bob     15     123     5.0         1      M  105    False\n",
       "Frans   20     239     6.1         1      M  115    False"
      ]
     },
     "execution_count": 18,
     "metadata": {},
     "output_type": "execute_result"
    }
   ],
   "source": [
    "df2[\"Married\"] = False\n",
    "df2"
   ]
  },
  {
   "cell_type": "code",
   "execution_count": 19,
   "id": "f6517dd5",
   "metadata": {
    "execution": {
     "iopub.execute_input": "2023-11-21T11:51:29.314143Z",
     "iopub.status.busy": "2023-11-21T11:51:29.312726Z",
     "iopub.status.idle": "2023-11-21T11:51:29.321197Z",
     "shell.execute_reply": "2023-11-21T11:51:29.320390Z"
    },
    "papermill": {
     "duration": 0.023922,
     "end_time": "2023-11-21T11:51:29.323196",
     "exception": false,
     "start_time": "2023-11-21T11:51:29.299274",
     "status": "completed"
    },
    "tags": []
   },
   "outputs": [
    {
     "data": {
      "text/plain": [
       "age            10\n",
       "weight         75\n",
       "height        4.5\n",
       "siblings        1\n",
       "gender          M\n",
       "IQ            130\n",
       "Married     False\n",
       "Name: Joe, dtype: object"
      ]
     },
     "execution_count": 19,
     "metadata": {},
     "output_type": "execute_result"
    }
   ],
   "source": [
    "df2.loc[\"Joe\"]"
   ]
  },
  {
   "cell_type": "code",
   "execution_count": 20,
   "id": "fb592a4e",
   "metadata": {
    "execution": {
     "iopub.execute_input": "2023-11-21T11:51:29.351864Z",
     "iopub.status.busy": "2023-11-21T11:51:29.350746Z",
     "iopub.status.idle": "2023-11-21T11:51:29.359055Z",
     "shell.execute_reply": "2023-11-21T11:51:29.357859Z"
    },
    "papermill": {
     "duration": 0.025139,
     "end_time": "2023-11-21T11:51:29.361417",
     "exception": false,
     "start_time": "2023-11-21T11:51:29.336278",
     "status": "completed"
    },
    "tags": []
   },
   "outputs": [
    {
     "data": {
      "text/plain": [
       "130"
      ]
     },
     "execution_count": 20,
     "metadata": {},
     "output_type": "execute_result"
    }
   ],
   "source": [
    "df2.loc[\"Joe\",\"IQ\"]"
   ]
  },
  {
   "cell_type": "code",
   "execution_count": 21,
   "id": "06b16fba",
   "metadata": {
    "execution": {
     "iopub.execute_input": "2023-11-21T11:51:29.390294Z",
     "iopub.status.busy": "2023-11-21T11:51:29.389783Z",
     "iopub.status.idle": "2023-11-21T11:51:29.405157Z",
     "shell.execute_reply": "2023-11-21T11:51:29.403850Z"
    },
    "papermill": {
     "duration": 0.032975,
     "end_time": "2023-11-21T11:51:29.407774",
     "exception": false,
     "start_time": "2023-11-21T11:51:29.374799",
     "status": "completed"
    },
    "tags": []
   },
   "outputs": [
    {
     "data": {
      "text/html": [
       "<div>\n",
       "<style scoped>\n",
       "    .dataframe tbody tr th:only-of-type {\n",
       "        vertical-align: middle;\n",
       "    }\n",
       "\n",
       "    .dataframe tbody tr th {\n",
       "        vertical-align: top;\n",
       "    }\n",
       "\n",
       "    .dataframe thead th {\n",
       "        text-align: right;\n",
       "    }\n",
       "</style>\n",
       "<table border=\"1\" class=\"dataframe\">\n",
       "  <thead>\n",
       "    <tr style=\"text-align: right;\">\n",
       "      <th></th>\n",
       "      <th>IQ</th>\n",
       "      <th>Married</th>\n",
       "    </tr>\n",
       "  </thead>\n",
       "  <tbody>\n",
       "    <tr>\n",
       "      <th>Joe</th>\n",
       "      <td>130</td>\n",
       "      <td>False</td>\n",
       "    </tr>\n",
       "    <tr>\n",
       "      <th>Bob</th>\n",
       "      <td>105</td>\n",
       "      <td>False</td>\n",
       "    </tr>\n",
       "  </tbody>\n",
       "</table>\n",
       "</div>"
      ],
      "text/plain": [
       "      IQ  Married\n",
       "Joe  130    False\n",
       "Bob  105    False"
      ]
     },
     "execution_count": 21,
     "metadata": {},
     "output_type": "execute_result"
    }
   ],
   "source": [
    "df2.loc[\"Joe\":\"Bob\", \"IQ\":\"Married\"]"
   ]
  },
  {
   "cell_type": "code",
   "execution_count": 22,
   "id": "6bbfe6a1",
   "metadata": {
    "execution": {
     "iopub.execute_input": "2023-11-21T11:51:29.437509Z",
     "iopub.status.busy": "2023-11-21T11:51:29.436644Z",
     "iopub.status.idle": "2023-11-21T11:51:29.446500Z",
     "shell.execute_reply": "2023-11-21T11:51:29.445351Z"
    },
    "papermill": {
     "duration": 0.027288,
     "end_time": "2023-11-21T11:51:29.448775",
     "exception": false,
     "start_time": "2023-11-21T11:51:29.421487",
     "status": "completed"
    },
    "tags": []
   },
   "outputs": [
    {
     "data": {
      "text/plain": [
       "age            10\n",
       "weight         75\n",
       "height        4.5\n",
       "siblings        1\n",
       "gender          M\n",
       "IQ            130\n",
       "Married     False\n",
       "Name: Joe, dtype: object"
      ]
     },
     "execution_count": 22,
     "metadata": {},
     "output_type": "execute_result"
    }
   ],
   "source": [
    "df2.iloc[0]"
   ]
  },
  {
   "cell_type": "code",
   "execution_count": 23,
   "id": "59ba5a90",
   "metadata": {
    "execution": {
     "iopub.execute_input": "2023-11-21T11:51:29.478838Z",
     "iopub.status.busy": "2023-11-21T11:51:29.477798Z",
     "iopub.status.idle": "2023-11-21T11:51:29.485767Z",
     "shell.execute_reply": "2023-11-21T11:51:29.484525Z"
    },
    "papermill": {
     "duration": 0.02565,
     "end_time": "2023-11-21T11:51:29.488123",
     "exception": false,
     "start_time": "2023-11-21T11:51:29.462473",
     "status": "completed"
    },
    "tags": []
   },
   "outputs": [
    {
     "data": {
      "text/plain": [
       "130"
      ]
     },
     "execution_count": 23,
     "metadata": {},
     "output_type": "execute_result"
    }
   ],
   "source": [
    "df2.iloc[0,5]"
   ]
  },
  {
   "cell_type": "code",
   "execution_count": 24,
   "id": "8ee1ed3c",
   "metadata": {
    "execution": {
     "iopub.execute_input": "2023-11-21T11:51:29.518817Z",
     "iopub.status.busy": "2023-11-21T11:51:29.517438Z",
     "iopub.status.idle": "2023-11-21T11:51:29.531029Z",
     "shell.execute_reply": "2023-11-21T11:51:29.529728Z"
    },
    "papermill": {
     "duration": 0.031309,
     "end_time": "2023-11-21T11:51:29.533476",
     "exception": false,
     "start_time": "2023-11-21T11:51:29.502167",
     "status": "completed"
    },
    "tags": []
   },
   "outputs": [
    {
     "data": {
      "text/html": [
       "<div>\n",
       "<style scoped>\n",
       "    .dataframe tbody tr th:only-of-type {\n",
       "        vertical-align: middle;\n",
       "    }\n",
       "\n",
       "    .dataframe tbody tr th {\n",
       "        vertical-align: top;\n",
       "    }\n",
       "\n",
       "    .dataframe thead th {\n",
       "        text-align: right;\n",
       "    }\n",
       "</style>\n",
       "<table border=\"1\" class=\"dataframe\">\n",
       "  <thead>\n",
       "    <tr style=\"text-align: right;\">\n",
       "      <th></th>\n",
       "      <th>IQ</th>\n",
       "      <th>Married</th>\n",
       "    </tr>\n",
       "  </thead>\n",
       "  <tbody>\n",
       "    <tr>\n",
       "      <th>Joe</th>\n",
       "      <td>130</td>\n",
       "      <td>False</td>\n",
       "    </tr>\n",
       "    <tr>\n",
       "      <th>Bob</th>\n",
       "      <td>105</td>\n",
       "      <td>False</td>\n",
       "    </tr>\n",
       "  </tbody>\n",
       "</table>\n",
       "</div>"
      ],
      "text/plain": [
       "      IQ  Married\n",
       "Joe  130    False\n",
       "Bob  105    False"
      ]
     },
     "execution_count": 24,
     "metadata": {},
     "output_type": "execute_result"
    }
   ],
   "source": [
    "df2.iloc[0:2, 5:8] "
   ]
  },
  {
   "cell_type": "code",
   "execution_count": 25,
   "id": "2ad73091",
   "metadata": {
    "execution": {
     "iopub.execute_input": "2023-11-21T11:51:29.563827Z",
     "iopub.status.busy": "2023-11-21T11:51:29.563103Z",
     "iopub.status.idle": "2023-11-21T11:51:29.578791Z",
     "shell.execute_reply": "2023-11-21T11:51:29.577622Z"
    },
    "papermill": {
     "duration": 0.033744,
     "end_time": "2023-11-21T11:51:29.581536",
     "exception": false,
     "start_time": "2023-11-21T11:51:29.547792",
     "status": "completed"
    },
    "tags": []
   },
   "outputs": [
    {
     "data": {
      "text/html": [
       "<div>\n",
       "<style scoped>\n",
       "    .dataframe tbody tr th:only-of-type {\n",
       "        vertical-align: middle;\n",
       "    }\n",
       "\n",
       "    .dataframe tbody tr th {\n",
       "        vertical-align: top;\n",
       "    }\n",
       "\n",
       "    .dataframe thead th {\n",
       "        text-align: right;\n",
       "    }\n",
       "</style>\n",
       "<table border=\"1\" class=\"dataframe\">\n",
       "  <thead>\n",
       "    <tr style=\"text-align: right;\">\n",
       "      <th></th>\n",
       "      <th>age</th>\n",
       "      <th>weight</th>\n",
       "      <th>height</th>\n",
       "      <th>siblings</th>\n",
       "      <th>gender</th>\n",
       "      <th>IQ</th>\n",
       "      <th>Married</th>\n",
       "    </tr>\n",
       "  </thead>\n",
       "  <tbody>\n",
       "    <tr>\n",
       "      <th>Bob</th>\n",
       "      <td>15</td>\n",
       "      <td>123</td>\n",
       "      <td>5.0</td>\n",
       "      <td>1</td>\n",
       "      <td>M</td>\n",
       "      <td>105</td>\n",
       "      <td>False</td>\n",
       "    </tr>\n",
       "    <tr>\n",
       "      <th>Frans</th>\n",
       "      <td>20</td>\n",
       "      <td>239</td>\n",
       "      <td>6.1</td>\n",
       "      <td>1</td>\n",
       "      <td>M</td>\n",
       "      <td>115</td>\n",
       "      <td>False</td>\n",
       "    </tr>\n",
       "  </tbody>\n",
       "</table>\n",
       "</div>"
      ],
      "text/plain": [
       "       age  weight  height  siblings gender   IQ  Married\n",
       "Bob     15     123     5.0         1      M  105    False\n",
       "Frans   20     239     6.1         1      M  115    False"
      ]
     },
     "execution_count": 25,
     "metadata": {},
     "output_type": "execute_result"
    }
   ],
   "source": [
    "boolean_index = [False, True, True]\n",
    "df2[boolean_index]"
   ]
  },
  {
   "cell_type": "code",
   "execution_count": 26,
   "id": "28626dc1",
   "metadata": {
    "execution": {
     "iopub.execute_input": "2023-11-21T11:51:29.713327Z",
     "iopub.status.busy": "2023-11-21T11:51:29.712557Z",
     "iopub.status.idle": "2023-11-21T11:51:29.728170Z",
     "shell.execute_reply": "2023-11-21T11:51:29.727001Z"
    },
    "papermill": {
     "duration": 0.035171,
     "end_time": "2023-11-21T11:51:29.730634",
     "exception": false,
     "start_time": "2023-11-21T11:51:29.695463",
     "status": "completed"
    },
    "tags": []
   },
   "outputs": [
    {
     "data": {
      "text/html": [
       "<div>\n",
       "<style scoped>\n",
       "    .dataframe tbody tr th:only-of-type {\n",
       "        vertical-align: middle;\n",
       "    }\n",
       "\n",
       "    .dataframe tbody tr th {\n",
       "        vertical-align: top;\n",
       "    }\n",
       "\n",
       "    .dataframe thead th {\n",
       "        text-align: right;\n",
       "    }\n",
       "</style>\n",
       "<table border=\"1\" class=\"dataframe\">\n",
       "  <thead>\n",
       "    <tr style=\"text-align: right;\">\n",
       "      <th></th>\n",
       "      <th>age</th>\n",
       "      <th>weight</th>\n",
       "      <th>height</th>\n",
       "      <th>siblings</th>\n",
       "      <th>gender</th>\n",
       "      <th>IQ</th>\n",
       "      <th>Married</th>\n",
       "    </tr>\n",
       "  </thead>\n",
       "  <tbody>\n",
       "    <tr>\n",
       "      <th>Bob</th>\n",
       "      <td>15</td>\n",
       "      <td>123</td>\n",
       "      <td>5.0</td>\n",
       "      <td>1</td>\n",
       "      <td>M</td>\n",
       "      <td>105</td>\n",
       "      <td>False</td>\n",
       "    </tr>\n",
       "    <tr>\n",
       "      <th>Frans</th>\n",
       "      <td>20</td>\n",
       "      <td>239</td>\n",
       "      <td>6.1</td>\n",
       "      <td>1</td>\n",
       "      <td>M</td>\n",
       "      <td>115</td>\n",
       "      <td>False</td>\n",
       "    </tr>\n",
       "  </tbody>\n",
       "</table>\n",
       "</div>"
      ],
      "text/plain": [
       "       age  weight  height  siblings gender   IQ  Married\n",
       "Bob     15     123     5.0         1      M  105    False\n",
       "Frans   20     239     6.1         1      M  115    False"
      ]
     },
     "execution_count": 26,
     "metadata": {},
     "output_type": "execute_result"
    }
   ],
   "source": [
    "boolean_index - df2[\"age\"]>12\n",
    "df2[boolean_index]"
   ]
  },
  {
   "cell_type": "code",
   "execution_count": 27,
   "id": "f84a1583",
   "metadata": {
    "execution": {
     "iopub.execute_input": "2023-11-21T11:51:29.762811Z",
     "iopub.status.busy": "2023-11-21T11:51:29.762021Z",
     "iopub.status.idle": "2023-11-21T11:51:29.777707Z",
     "shell.execute_reply": "2023-11-21T11:51:29.776445Z"
    },
    "papermill": {
     "duration": 0.035479,
     "end_time": "2023-11-21T11:51:29.780478",
     "exception": false,
     "start_time": "2023-11-21T11:51:29.744999",
     "status": "completed"
    },
    "tags": []
   },
   "outputs": [
    {
     "data": {
      "text/html": [
       "<div>\n",
       "<style scoped>\n",
       "    .dataframe tbody tr th:only-of-type {\n",
       "        vertical-align: middle;\n",
       "    }\n",
       "\n",
       "    .dataframe tbody tr th {\n",
       "        vertical-align: top;\n",
       "    }\n",
       "\n",
       "    .dataframe thead th {\n",
       "        text-align: right;\n",
       "    }\n",
       "</style>\n",
       "<table border=\"1\" class=\"dataframe\">\n",
       "  <thead>\n",
       "    <tr style=\"text-align: right;\">\n",
       "      <th></th>\n",
       "      <th>age</th>\n",
       "      <th>weight</th>\n",
       "      <th>height</th>\n",
       "      <th>siblings</th>\n",
       "      <th>gender</th>\n",
       "      <th>IQ</th>\n",
       "      <th>Married</th>\n",
       "    </tr>\n",
       "  </thead>\n",
       "  <tbody>\n",
       "    <tr>\n",
       "      <th>Bob</th>\n",
       "      <td>15</td>\n",
       "      <td>123</td>\n",
       "      <td>5.0</td>\n",
       "      <td>1</td>\n",
       "      <td>M</td>\n",
       "      <td>105</td>\n",
       "      <td>False</td>\n",
       "    </tr>\n",
       "    <tr>\n",
       "      <th>Frans</th>\n",
       "      <td>20</td>\n",
       "      <td>239</td>\n",
       "      <td>6.1</td>\n",
       "      <td>1</td>\n",
       "      <td>M</td>\n",
       "      <td>115</td>\n",
       "      <td>False</td>\n",
       "    </tr>\n",
       "  </tbody>\n",
       "</table>\n",
       "</div>"
      ],
      "text/plain": [
       "       age  weight  height  siblings gender   IQ  Married\n",
       "Bob     15     123     5.0         1      M  105    False\n",
       "Frans   20     239     6.1         1      M  115    False"
      ]
     },
     "execution_count": 27,
     "metadata": {},
     "output_type": "execute_result"
    }
   ],
   "source": [
    "df2[df2[\"age\"] > 12]"
   ]
  },
  {
   "cell_type": "markdown",
   "id": "2cea6fae",
   "metadata": {
    "papermill": {
     "duration": 0.014248,
     "end_time": "2023-11-21T11:51:29.809839",
     "exception": false,
     "start_time": "2023-11-21T11:51:29.795591",
     "status": "completed"
    },
    "tags": []
   },
   "source": [
    "# **Exploring DataFrames**"
   ]
  },
  {
   "cell_type": "markdown",
   "id": "033c1201",
   "metadata": {
    "papermill": {
     "duration": 0.014723,
     "end_time": "2023-11-21T11:51:29.840004",
     "exception": false,
     "start_time": "2023-11-21T11:51:29.825281",
     "status": "completed"
    },
    "tags": []
   },
   "source": [
    "titanic_train = pd.read_csv(\"../input/train.csv\")\n",
    "type(titanic_train)\n",
    "\n",
    "titanic_train.shape     #check the dimension\n",
    "\n",
    "titanic_train.head(6)   # Check the first 6 rows\n",
    "\n",
    "titanic_train.tail(6)   # Check last 6 rows\n",
    "\n",
    "\n",
    "titanic_train.index = titanic_train[\"Name\"]   # Set index to name\n",
    "del titanic_train[\"Name\"]                     # Delete name column\n",
    "\n",
    "print(titanic_train.index[0:10])              #Print new indexes\n",
    "\n",
    "titanic_train.columns # See columns\n",
    "\n",
    "titanic_train.describe()  \n",
    "\n",
    "np.mean(titanic_train,\n",
    "   axis = 0)        # Get the mean of each numeric column\n",
    "   \n",
    "titanic_train.info()"
   ]
  }
 ],
 "metadata": {
  "kaggle": {
   "accelerator": "none",
   "dataSources": [],
   "dockerImageVersionId": 30587,
   "isGpuEnabled": false,
   "isInternetEnabled": false,
   "language": "python",
   "sourceType": "notebook"
  },
  "kernelspec": {
   "display_name": "Python 3",
   "language": "python",
   "name": "python3"
  },
  "language_info": {
   "codemirror_mode": {
    "name": "ipython",
    "version": 3
   },
   "file_extension": ".py",
   "mimetype": "text/x-python",
   "name": "python",
   "nbconvert_exporter": "python",
   "pygments_lexer": "ipython3",
   "version": "3.10.12"
  },
  "papermill": {
   "default_parameters": {},
   "duration": 6.166131,
   "end_time": "2023-11-21T11:51:30.577769",
   "environment_variables": {},
   "exception": null,
   "input_path": "__notebook__.ipynb",
   "output_path": "__notebook__.ipynb",
   "parameters": {},
   "start_time": "2023-11-21T11:51:24.411638",
   "version": "2.4.0"
  }
 },
 "nbformat": 4,
 "nbformat_minor": 5
}

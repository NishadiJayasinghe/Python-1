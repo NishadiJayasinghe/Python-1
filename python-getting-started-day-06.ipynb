{
 "cells": [
  {
   "cell_type": "code",
   "execution_count": 1,
   "id": "43ae8713",
   "metadata": {
    "_cell_guid": "b1076dfc-b9ad-4769-8c92-a6c4dae69d19",
    "_uuid": "8f2839f25d086af736a60e9eeb907d3b93b6e0e5",
    "execution": {
     "iopub.execute_input": "2023-11-17T09:41:51.741017Z",
     "iopub.status.busy": "2023-11-17T09:41:51.740611Z",
     "iopub.status.idle": "2023-11-17T09:41:52.121446Z",
     "shell.execute_reply": "2023-11-17T09:41:52.120555Z"
    },
    "papermill": {
     "duration": 0.392496,
     "end_time": "2023-11-17T09:41:52.123899",
     "exception": false,
     "start_time": "2023-11-17T09:41:51.731403",
     "status": "completed"
    },
    "tags": []
   },
   "outputs": [],
   "source": [
    "# This Python 3 environment comes with many helpful analytics libraries installed\n",
    "# It is defined by the kaggle/python Docker image: https://github.com/kaggle/docker-python\n",
    "# For example, here's several helpful packages to load\n",
    "\n",
    "import numpy as np # linear algebra\n",
    "import pandas as pd # data processing, CSV file I/O (e.g. pd.read_csv)\n",
    "\n",
    "# Input data files are available in the read-only \"../input/\" directory\n",
    "# For example, running this (by clicking run or pressing Shift+Enter) will list all files under the input directory\n",
    "\n",
    "import os\n",
    "for dirname, _, filenames in os.walk('/kaggle/input'):\n",
    "    for filename in filenames:\n",
    "        print(os.path.join(dirname, filename))\n",
    "\n",
    "# You can write up to 20GB to the current directory (/kaggle/working/) that gets preserved as output when you create a version using \"Save & Run All\" \n",
    "# You can also write temporary files to /kaggle/temp/, but they won't be saved outside of the current session"
   ]
  },
  {
   "cell_type": "markdown",
   "id": "c6b5ca52",
   "metadata": {
    "papermill": {
     "duration": 0.0068,
     "end_time": "2023-11-17T09:41:52.139227",
     "exception": false,
     "start_time": "2023-11-17T09:41:52.132427",
     "status": "completed"
    },
    "tags": []
   },
   "source": [
    "# **Tuples**"
   ]
  },
  {
   "cell_type": "code",
   "execution_count": 2,
   "id": "c4a2972b",
   "metadata": {
    "execution": {
     "iopub.execute_input": "2023-11-17T09:41:52.154765Z",
     "iopub.status.busy": "2023-11-17T09:41:52.154031Z",
     "iopub.status.idle": "2023-11-17T09:41:52.159177Z",
     "shell.execute_reply": "2023-11-17T09:41:52.158267Z"
    },
    "papermill": {
     "duration": 0.015512,
     "end_time": "2023-11-17T09:41:52.161375",
     "exception": false,
     "start_time": "2023-11-17T09:41:52.145863",
     "status": "completed"
    },
    "tags": []
   },
   "outputs": [
    {
     "name": "stdout",
     "output_type": "stream",
     "text": [
      "(1, 3, 5)\n"
     ]
    }
   ],
   "source": [
    "my_tuple = (1,3,5)\n",
    "print(my_tuple)"
   ]
  },
  {
   "cell_type": "code",
   "execution_count": 3,
   "id": "7ffb9229",
   "metadata": {
    "execution": {
     "iopub.execute_input": "2023-11-17T09:41:52.177162Z",
     "iopub.status.busy": "2023-11-17T09:41:52.176513Z",
     "iopub.status.idle": "2023-11-17T09:41:52.183112Z",
     "shell.execute_reply": "2023-11-17T09:41:52.182332Z"
    },
    "papermill": {
     "duration": 0.016869,
     "end_time": "2023-11-17T09:41:52.185097",
     "exception": false,
     "start_time": "2023-11-17T09:41:52.168228",
     "status": "completed"
    },
    "tags": []
   },
   "outputs": [
    {
     "data": {
      "text/plain": [
       "(2, 3, 1, 4)"
      ]
     },
     "execution_count": 3,
     "metadata": {},
     "output_type": "execute_result"
    }
   ],
   "source": [
    "my_list = [2,3,1,4]\n",
    "another_tuple = tuple(my_list)\n",
    "another_tuple"
   ]
  },
  {
   "cell_type": "code",
   "execution_count": 4,
   "id": "1ba1f22b",
   "metadata": {
    "execution": {
     "iopub.execute_input": "2023-11-17T09:41:52.201315Z",
     "iopub.status.busy": "2023-11-17T09:41:52.200682Z",
     "iopub.status.idle": "2023-11-17T09:41:52.205732Z",
     "shell.execute_reply": "2023-11-17T09:41:52.205063Z"
    },
    "papermill": {
     "duration": 0.015244,
     "end_time": "2023-11-17T09:41:52.207628",
     "exception": false,
     "start_time": "2023-11-17T09:41:52.192384",
     "status": "completed"
    },
    "tags": []
   },
   "outputs": [
    {
     "data": {
      "text/plain": [
       "1"
      ]
     },
     "execution_count": 4,
     "metadata": {},
     "output_type": "execute_result"
    }
   ],
   "source": [
    "another_tuple[2]   # You can index into tuples"
   ]
  },
  {
   "cell_type": "code",
   "execution_count": 5,
   "id": "4c58da7b",
   "metadata": {
    "execution": {
     "iopub.execute_input": "2023-11-17T09:41:52.223404Z",
     "iopub.status.busy": "2023-11-17T09:41:52.222768Z",
     "iopub.status.idle": "2023-11-17T09:41:52.228111Z",
     "shell.execute_reply": "2023-11-17T09:41:52.227263Z"
    },
    "papermill": {
     "duration": 0.015579,
     "end_time": "2023-11-17T09:41:52.230088",
     "exception": false,
     "start_time": "2023-11-17T09:41:52.214509",
     "status": "completed"
    },
    "tags": []
   },
   "outputs": [
    {
     "data": {
      "text/plain": [
       "(1, 4)"
      ]
     },
     "execution_count": 5,
     "metadata": {},
     "output_type": "execute_result"
    }
   ],
   "source": [
    "another_tuple[2:4]   # You can slice tuples"
   ]
  },
  {
   "cell_type": "code",
   "execution_count": 6,
   "id": "9c6388dc",
   "metadata": {
    "execution": {
     "iopub.execute_input": "2023-11-17T09:41:52.245998Z",
     "iopub.status.busy": "2023-11-17T09:41:52.245363Z",
     "iopub.status.idle": "2023-11-17T09:41:52.250667Z",
     "shell.execute_reply": "2023-11-17T09:41:52.249623Z"
    },
    "papermill": {
     "duration": 0.015738,
     "end_time": "2023-11-17T09:41:52.252805",
     "exception": false,
     "start_time": "2023-11-17T09:41:52.237067",
     "status": "completed"
    },
    "tags": []
   },
   "outputs": [
    {
     "name": "stdout",
     "output_type": "stream",
     "text": [
      "4\n",
      "1\n",
      "4\n",
      "10\n"
     ]
    }
   ],
   "source": [
    "# You can use common sequence functions on tuples :\n",
    "\n",
    "print( len(another_tuple))\n",
    "print( min(another_tuple))\n",
    "print( max(another_tuple))\n",
    "print( sum(another_tuple))"
   ]
  },
  {
   "cell_type": "markdown",
   "id": "8eca329a",
   "metadata": {
    "papermill": {
     "duration": 0.006959,
     "end_time": "2023-11-17T09:41:52.267204",
     "exception": false,
     "start_time": "2023-11-17T09:41:52.260245",
     "status": "completed"
    },
    "tags": []
   },
   "source": [
    "del another_tuple[1]   can't delete or amend a tuple\n",
    "another_tuple.amend(1)"
   ]
  },
  {
   "cell_type": "markdown",
   "id": "dca88f85",
   "metadata": {
    "papermill": {
     "duration": 0.006695,
     "end_time": "2023-11-17T09:41:52.280969",
     "exception": false,
     "start_time": "2023-11-17T09:41:52.274274",
     "status": "completed"
    },
    "tags": []
   },
   "source": [
    "# **Strings**"
   ]
  },
  {
   "cell_type": "code",
   "execution_count": 7,
   "id": "8a0e6efc",
   "metadata": {
    "execution": {
     "iopub.execute_input": "2023-11-17T09:41:52.296803Z",
     "iopub.status.busy": "2023-11-17T09:41:52.296454Z",
     "iopub.status.idle": "2023-11-17T09:41:52.301708Z",
     "shell.execute_reply": "2023-11-17T09:41:52.300938Z"
    },
    "papermill": {
     "duration": 0.015929,
     "end_time": "2023-11-17T09:41:52.303951",
     "exception": false,
     "start_time": "2023-11-17T09:41:52.288022",
     "status": "completed"
    },
    "tags": []
   },
   "outputs": [
    {
     "data": {
      "text/plain": [
       "'l'"
      ]
     },
     "execution_count": 7,
     "metadata": {},
     "output_type": "execute_result"
    }
   ],
   "source": [
    "my_string = \"Hello World hai\"\n",
    "my_string[3]   # Get the character at incex 3"
   ]
  },
  {
   "cell_type": "code",
   "execution_count": 8,
   "id": "b88ccd54",
   "metadata": {
    "execution": {
     "iopub.execute_input": "2023-11-17T09:41:52.320377Z",
     "iopub.status.busy": "2023-11-17T09:41:52.320031Z",
     "iopub.status.idle": "2023-11-17T09:41:52.325455Z",
     "shell.execute_reply": "2023-11-17T09:41:52.324721Z"
    },
    "papermill": {
     "duration": 0.016,
     "end_time": "2023-11-17T09:41:52.327276",
     "exception": false,
     "start_time": "2023-11-17T09:41:52.311276",
     "status": "completed"
    },
    "tags": []
   },
   "outputs": [
    {
     "data": {
      "text/plain": [
       "'lo World hai'"
      ]
     },
     "execution_count": 8,
     "metadata": {},
     "output_type": "execute_result"
    }
   ],
   "source": [
    "my_string[3:] #Slice from the third index to the end"
   ]
  },
  {
   "cell_type": "code",
   "execution_count": 9,
   "id": "22275a4f",
   "metadata": {
    "execution": {
     "iopub.execute_input": "2023-11-17T09:41:52.343870Z",
     "iopub.status.busy": "2023-11-17T09:41:52.343129Z",
     "iopub.status.idle": "2023-11-17T09:41:52.350396Z",
     "shell.execute_reply": "2023-11-17T09:41:52.349270Z"
    },
    "papermill": {
     "duration": 0.018003,
     "end_time": "2023-11-17T09:41:52.352525",
     "exception": false,
     "start_time": "2023-11-17T09:41:52.334522",
     "status": "completed"
    },
    "tags": []
   },
   "outputs": [
    {
     "data": {
      "text/plain": [
       "'iah dlroW olleH'"
      ]
     },
     "execution_count": 9,
     "metadata": {},
     "output_type": "execute_result"
    }
   ],
   "source": [
    "my_string[::-1]  # Reverse the string"
   ]
  },
  {
   "cell_type": "code",
   "execution_count": 10,
   "id": "61c190a6",
   "metadata": {
    "execution": {
     "iopub.execute_input": "2023-11-17T09:41:52.369544Z",
     "iopub.status.busy": "2023-11-17T09:41:52.369181Z",
     "iopub.status.idle": "2023-11-17T09:41:52.375894Z",
     "shell.execute_reply": "2023-11-17T09:41:52.374851Z"
    },
    "papermill": {
     "duration": 0.017899,
     "end_time": "2023-11-17T09:41:52.378065",
     "exception": false,
     "start_time": "2023-11-17T09:41:52.360166",
     "status": "completed"
    },
    "tags": []
   },
   "outputs": [
    {
     "data": {
      "text/plain": [
       "15"
      ]
     },
     "execution_count": 10,
     "metadata": {},
     "output_type": "execute_result"
    }
   ],
   "source": [
    "len(my_string)"
   ]
  },
  {
   "cell_type": "code",
   "execution_count": 11,
   "id": "4508ff5b",
   "metadata": {
    "execution": {
     "iopub.execute_input": "2023-11-17T09:41:52.395081Z",
     "iopub.status.busy": "2023-11-17T09:41:52.394659Z",
     "iopub.status.idle": "2023-11-17T09:41:52.401627Z",
     "shell.execute_reply": "2023-11-17T09:41:52.400621Z"
    },
    "papermill": {
     "duration": 0.018156,
     "end_time": "2023-11-17T09:41:52.403772",
     "exception": false,
     "start_time": "2023-11-17T09:41:52.385616",
     "status": "completed"
    },
    "tags": []
   },
   "outputs": [
    {
     "data": {
      "text/plain": [
       "3"
      ]
     },
     "execution_count": 11,
     "metadata": {},
     "output_type": "execute_result"
    }
   ],
   "source": [
    "my_string.count(\"l\")  # Count the l's in the string"
   ]
  },
  {
   "cell_type": "code",
   "execution_count": 12,
   "id": "f6220b48",
   "metadata": {
    "execution": {
     "iopub.execute_input": "2023-11-17T09:41:52.421304Z",
     "iopub.status.busy": "2023-11-17T09:41:52.420953Z",
     "iopub.status.idle": "2023-11-17T09:41:52.427667Z",
     "shell.execute_reply": "2023-11-17T09:41:52.426679Z"
    },
    "papermill": {
     "duration": 0.017511,
     "end_time": "2023-11-17T09:41:52.429690",
     "exception": false,
     "start_time": "2023-11-17T09:41:52.412179",
     "status": "completed"
    },
    "tags": []
   },
   "outputs": [
    {
     "data": {
      "text/plain": [
       "'hello world hai'"
      ]
     },
     "execution_count": 12,
     "metadata": {},
     "output_type": "execute_result"
    }
   ],
   "source": [
    "# str.lower()\n",
    "\n",
    "my_string.lower()   # Make all characters lowercase"
   ]
  },
  {
   "cell_type": "code",
   "execution_count": 13,
   "id": "01eca1fb",
   "metadata": {
    "execution": {
     "iopub.execute_input": "2023-11-17T09:41:52.446955Z",
     "iopub.status.busy": "2023-11-17T09:41:52.446550Z",
     "iopub.status.idle": "2023-11-17T09:41:52.452406Z",
     "shell.execute_reply": "2023-11-17T09:41:52.451399Z"
    },
    "papermill": {
     "duration": 0.017184,
     "end_time": "2023-11-17T09:41:52.454675",
     "exception": false,
     "start_time": "2023-11-17T09:41:52.437491",
     "status": "completed"
    },
    "tags": []
   },
   "outputs": [
    {
     "data": {
      "text/plain": [
       "'HELLO WORLD HAI'"
      ]
     },
     "execution_count": 13,
     "metadata": {},
     "output_type": "execute_result"
    }
   ],
   "source": [
    "# str.upper()\n",
    "\n",
    "my_string.upper()   # Make all characters uppercase"
   ]
  },
  {
   "cell_type": "code",
   "execution_count": 14,
   "id": "8d5feff8",
   "metadata": {
    "execution": {
     "iopub.execute_input": "2023-11-17T09:41:52.472907Z",
     "iopub.status.busy": "2023-11-17T09:41:52.472173Z",
     "iopub.status.idle": "2023-11-17T09:41:52.478608Z",
     "shell.execute_reply": "2023-11-17T09:41:52.477705Z"
    },
    "papermill": {
     "duration": 0.017934,
     "end_time": "2023-11-17T09:41:52.480636",
     "exception": false,
     "start_time": "2023-11-17T09:41:52.462702",
     "status": "completed"
    },
    "tags": []
   },
   "outputs": [
    {
     "data": {
      "text/plain": [
       "'Hello World Hai'"
      ]
     },
     "execution_count": 14,
     "metadata": {},
     "output_type": "execute_result"
    }
   ],
   "source": [
    "# str.title()\n",
    "\n",
    "my_string.title()   # Make the first leeter of each word uppercase"
   ]
  },
  {
   "cell_type": "code",
   "execution_count": 15,
   "id": "e8991c08",
   "metadata": {
    "execution": {
     "iopub.execute_input": "2023-11-17T09:41:52.498491Z",
     "iopub.status.busy": "2023-11-17T09:41:52.497761Z",
     "iopub.status.idle": "2023-11-17T09:41:52.503994Z",
     "shell.execute_reply": "2023-11-17T09:41:52.503108Z"
    },
    "papermill": {
     "duration": 0.017375,
     "end_time": "2023-11-17T09:41:52.505978",
     "exception": false,
     "start_time": "2023-11-17T09:41:52.488603",
     "status": "completed"
    },
    "tags": []
   },
   "outputs": [
    {
     "data": {
      "text/plain": [
       "-1"
      ]
     },
     "execution_count": 15,
     "metadata": {},
     "output_type": "execute_result"
    }
   ],
   "source": [
    "my_string.find(\"w\")"
   ]
  },
  {
   "cell_type": "code",
   "execution_count": 16,
   "id": "bf5f689a",
   "metadata": {
    "execution": {
     "iopub.execute_input": "2023-11-17T09:41:52.523808Z",
     "iopub.status.busy": "2023-11-17T09:41:52.523429Z",
     "iopub.status.idle": "2023-11-17T09:41:52.529327Z",
     "shell.execute_reply": "2023-11-17T09:41:52.528357Z"
    },
    "papermill": {
     "duration": 0.017551,
     "end_time": "2023-11-17T09:41:52.531595",
     "exception": false,
     "start_time": "2023-11-17T09:41:52.514044",
     "status": "completed"
    },
    "tags": []
   },
   "outputs": [
    {
     "data": {
      "text/plain": [
       "6"
      ]
     },
     "execution_count": 16,
     "metadata": {},
     "output_type": "execute_result"
    }
   ],
   "source": [
    "my_string.find(\"W\")"
   ]
  },
  {
   "cell_type": "code",
   "execution_count": 17,
   "id": "3a1ae95d",
   "metadata": {
    "execution": {
     "iopub.execute_input": "2023-11-17T09:41:52.549553Z",
     "iopub.status.busy": "2023-11-17T09:41:52.549215Z",
     "iopub.status.idle": "2023-11-17T09:41:52.554917Z",
     "shell.execute_reply": "2023-11-17T09:41:52.553933Z"
    },
    "papermill": {
     "duration": 0.017624,
     "end_time": "2023-11-17T09:41:52.557233",
     "exception": false,
     "start_time": "2023-11-17T09:41:52.539609",
     "status": "completed"
    },
    "tags": []
   },
   "outputs": [
    {
     "data": {
      "text/plain": [
       "'Hello friend hai'"
      ]
     },
     "execution_count": 17,
     "metadata": {},
     "output_type": "execute_result"
    }
   ],
   "source": [
    "my_string.replace(\"World\",\"friend\")  # Replace a string with another new string"
   ]
  },
  {
   "cell_type": "code",
   "execution_count": 18,
   "id": "d1cf4323",
   "metadata": {
    "execution": {
     "iopub.execute_input": "2023-11-17T09:41:52.575435Z",
     "iopub.status.busy": "2023-11-17T09:41:52.575075Z",
     "iopub.status.idle": "2023-11-17T09:41:52.581050Z",
     "shell.execute_reply": "2023-11-17T09:41:52.580029Z"
    },
    "papermill": {
     "duration": 0.017743,
     "end_time": "2023-11-17T09:41:52.583150",
     "exception": false,
     "start_time": "2023-11-17T09:41:52.565407",
     "status": "completed"
    },
    "tags": []
   },
   "outputs": [
    {
     "data": {
      "text/plain": [
       "['Hello', 'World', 'hai']"
      ]
     },
     "execution_count": 18,
     "metadata": {},
     "output_type": "execute_result"
    }
   ],
   "source": [
    "my_string.split()   # str.split()  splits on spaces by default"
   ]
  },
  {
   "cell_type": "code",
   "execution_count": 19,
   "id": "ada07237",
   "metadata": {
    "execution": {
     "iopub.execute_input": "2023-11-17T09:41:52.601672Z",
     "iopub.status.busy": "2023-11-17T09:41:52.601305Z",
     "iopub.status.idle": "2023-11-17T09:41:52.608157Z",
     "shell.execute_reply": "2023-11-17T09:41:52.607191Z"
    },
    "papermill": {
     "duration": 0.018598,
     "end_time": "2023-11-17T09:41:52.610208",
     "exception": false,
     "start_time": "2023-11-17T09:41:52.591610",
     "status": "completed"
    },
    "tags": []
   },
   "outputs": [
    {
     "data": {
      "text/plain": [
       "['Hello World hai']"
      ]
     },
     "execution_count": 19,
     "metadata": {},
     "output_type": "execute_result"
    }
   ],
   "source": [
    "my_string.split(\"_\")  "
   ]
  },
  {
   "cell_type": "code",
   "execution_count": 20,
   "id": "e273c7fb",
   "metadata": {
    "execution": {
     "iopub.execute_input": "2023-11-17T09:41:52.628446Z",
     "iopub.status.busy": "2023-11-17T09:41:52.628060Z",
     "iopub.status.idle": "2023-11-17T09:41:52.634531Z",
     "shell.execute_reply": "2023-11-17T09:41:52.633552Z"
    },
    "papermill": {
     "duration": 0.018182,
     "end_time": "2023-11-17T09:41:52.636840",
     "exception": false,
     "start_time": "2023-11-17T09:41:52.618658",
     "status": "completed"
    },
    "tags": []
   },
   "outputs": [
    {
     "data": {
      "text/plain": [
       "['I am ', 'a multiline ', 'string!']"
      ]
     },
     "execution_count": 20,
     "metadata": {},
     "output_type": "execute_result"
    }
   ],
   "source": [
    "multiline_string = \"\"\"I am \n",
    "a multiline \n",
    "string!\n",
    "\"\"\"\n",
    "multiline_string.splitlines()"
   ]
  },
  {
   "cell_type": "code",
   "execution_count": 21,
   "id": "c855ceeb",
   "metadata": {
    "execution": {
     "iopub.execute_input": "2023-11-17T09:41:52.655788Z",
     "iopub.status.busy": "2023-11-17T09:41:52.655419Z",
     "iopub.status.idle": "2023-11-17T09:41:52.660869Z",
     "shell.execute_reply": "2023-11-17T09:41:52.659894Z"
    },
    "papermill": {
     "duration": 0.017428,
     "end_time": "2023-11-17T09:41:52.662965",
     "exception": false,
     "start_time": "2023-11-17T09:41:52.645537",
     "status": "completed"
    },
    "tags": []
   },
   "outputs": [
    {
     "data": {
      "text/plain": [
       "'Strip white space!'"
      ]
     },
     "execution_count": 21,
     "metadata": {},
     "output_type": "execute_result"
    }
   ],
   "source": [
    "# str.strip() removes whitespaces by default\n",
    "\n",
    "\"    Strip white space!   \".strip()"
   ]
  },
  {
   "cell_type": "code",
   "execution_count": 22,
   "id": "8c49d232",
   "metadata": {
    "execution": {
     "iopub.execute_input": "2023-11-17T09:41:52.682202Z",
     "iopub.status.busy": "2023-11-17T09:41:52.681787Z",
     "iopub.status.idle": "2023-11-17T09:41:52.688570Z",
     "shell.execute_reply": "2023-11-17T09:41:52.687510Z"
    },
    "papermill": {
     "duration": 0.018593,
     "end_time": "2023-11-17T09:41:52.690596",
     "exception": false,
     "start_time": "2023-11-17T09:41:52.672003",
     "status": "completed"
    },
    "tags": []
   },
   "outputs": [
    {
     "data": {
      "text/plain": [
       "'BuyNow'"
      ]
     },
     "execution_count": 22,
     "metadata": {},
     "output_type": "execute_result"
    }
   ],
   "source": [
    "\"xXxxBuyNowxXXxx\".strip(\"xX\")"
   ]
  },
  {
   "cell_type": "code",
   "execution_count": 23,
   "id": "055a4ea2",
   "metadata": {
    "execution": {
     "iopub.execute_input": "2023-11-17T09:41:52.709756Z",
     "iopub.status.busy": "2023-11-17T09:41:52.709393Z",
     "iopub.status.idle": "2023-11-17T09:41:52.715488Z",
     "shell.execute_reply": "2023-11-17T09:41:52.714547Z"
    },
    "papermill": {
     "duration": 0.018136,
     "end_time": "2023-11-17T09:41:52.717610",
     "exception": false,
     "start_time": "2023-11-17T09:41:52.699474",
     "status": "completed"
    },
    "tags": []
   },
   "outputs": [
    {
     "data": {
      "text/plain": [
       "'Hello World!'"
      ]
     },
     "execution_count": 23,
     "metadata": {},
     "output_type": "execute_result"
    }
   ],
   "source": [
    "\"Hello \" + \"World!\""
   ]
  },
  {
   "cell_type": "code",
   "execution_count": 24,
   "id": "395e013f",
   "metadata": {
    "execution": {
     "iopub.execute_input": "2023-11-17T09:41:52.737790Z",
     "iopub.status.busy": "2023-11-17T09:41:52.736973Z",
     "iopub.status.idle": "2023-11-17T09:41:52.743713Z",
     "shell.execute_reply": "2023-11-17T09:41:52.742744Z"
    },
    "papermill": {
     "duration": 0.01906,
     "end_time": "2023-11-17T09:41:52.745813",
     "exception": false,
     "start_time": "2023-11-17T09:41:52.726753",
     "status": "completed"
    },
    "tags": []
   },
   "outputs": [
    {
     "data": {
      "text/plain": [
       "'Hello World JOin Me!'"
      ]
     },
     "execution_count": 24,
     "metadata": {},
     "output_type": "execute_result"
    }
   ],
   "source": [
    "\" \".join([\"Hello\", \"World\", \"JOin\", \"Me!\"])"
   ]
  },
  {
   "cell_type": "code",
   "execution_count": 25,
   "id": "e820be73",
   "metadata": {
    "execution": {
     "iopub.execute_input": "2023-11-17T09:41:52.765702Z",
     "iopub.status.busy": "2023-11-17T09:41:52.765100Z",
     "iopub.status.idle": "2023-11-17T09:41:52.771568Z",
     "shell.execute_reply": "2023-11-17T09:41:52.770425Z"
    },
    "papermill": {
     "duration": 0.018895,
     "end_time": "2023-11-17T09:41:52.773806",
     "exception": false,
     "start_time": "2023-11-17T09:41:52.754911",
     "status": "completed"
    },
    "tags": []
   },
   "outputs": [
    {
     "data": {
      "text/plain": [
       "'My name is Joe I am 10 and I live in Paris'"
      ]
     },
     "execution_count": 25,
     "metadata": {},
     "output_type": "execute_result"
    }
   ],
   "source": [
    "name = \"Joe\"\n",
    "age = 10\n",
    "city = \"Paris\"\n",
    "\n",
    "\"My name is \" + name + \" I am \" + str(age) + \" and I live in \" + \"Paris\"   # This is not the best way to do this, but following way"
   ]
  },
  {
   "cell_type": "code",
   "execution_count": 26,
   "id": "5dfc57c9",
   "metadata": {
    "execution": {
     "iopub.execute_input": "2023-11-17T09:41:52.793720Z",
     "iopub.status.busy": "2023-11-17T09:41:52.793348Z",
     "iopub.status.idle": "2023-11-17T09:41:52.799646Z",
     "shell.execute_reply": "2023-11-17T09:41:52.798825Z"
    },
    "papermill": {
     "duration": 0.018603,
     "end_time": "2023-11-17T09:41:52.801633",
     "exception": false,
     "start_time": "2023-11-17T09:41:52.783030",
     "status": "completed"
    },
    "tags": []
   },
   "outputs": [
    {
     "data": {
      "text/plain": [
       "'My name is Joe I am 10 and I live in Paris'"
      ]
     },
     "execution_count": 26,
     "metadata": {},
     "output_type": "execute_result"
    }
   ],
   "source": [
    "template_string = \"My name is {} I am {} and I live in {}\"\n",
    "template_string.format(name, age, city)"
   ]
  },
  {
   "cell_type": "code",
   "execution_count": 27,
   "id": "3d4a9d15",
   "metadata": {
    "execution": {
     "iopub.execute_input": "2023-11-17T09:41:52.881666Z",
     "iopub.status.busy": "2023-11-17T09:41:52.881298Z",
     "iopub.status.idle": "2023-11-17T09:41:52.887320Z",
     "shell.execute_reply": "2023-11-17T09:41:52.886120Z"
    },
    "papermill": {
     "duration": 0.019263,
     "end_time": "2023-11-17T09:41:52.889592",
     "exception": false,
     "start_time": "2023-11-17T09:41:52.870329",
     "status": "completed"
    },
    "tags": []
   },
   "outputs": [
    {
     "data": {
      "text/plain": [
       "'My name is Joe I am 10 and I live in Paris'"
      ]
     },
     "execution_count": 27,
     "metadata": {},
     "output_type": "execute_result"
    }
   ],
   "source": [
    "# Remaking the example above using an f-string\n",
    "f\"My name is {name} I am {age} and I live in {city}\""
   ]
  }
 ],
 "metadata": {
  "kaggle": {
   "accelerator": "none",
   "dataSources": [],
   "dockerImageVersionId": 30587,
   "isGpuEnabled": false,
   "isInternetEnabled": false,
   "language": "python",
   "sourceType": "notebook"
  },
  "kernelspec": {
   "display_name": "Python 3",
   "language": "python",
   "name": "python3"
  },
  "language_info": {
   "codemirror_mode": {
    "name": "ipython",
    "version": 3
   },
   "file_extension": ".py",
   "mimetype": "text/x-python",
   "name": "python",
   "nbconvert_exporter": "python",
   "pygments_lexer": "ipython3",
   "version": "3.10.12"
  },
  "papermill": {
   "default_parameters": {},
   "duration": 4.633079,
   "end_time": "2023-11-17T09:41:53.318769",
   "environment_variables": {},
   "exception": null,
   "input_path": "__notebook__.ipynb",
   "output_path": "__notebook__.ipynb",
   "parameters": {},
   "start_time": "2023-11-17T09:41:48.685690",
   "version": "2.4.0"
  }
 },
 "nbformat": 4,
 "nbformat_minor": 5
}

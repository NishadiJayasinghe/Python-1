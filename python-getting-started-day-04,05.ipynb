{
 "cells": [
  {
   "cell_type": "code",
   "execution_count": 1,
   "id": "a35efe03",
   "metadata": {
    "_cell_guid": "b1076dfc-b9ad-4769-8c92-a6c4dae69d19",
    "_uuid": "8f2839f25d086af736a60e9eeb907d3b93b6e0e5",
    "execution": {
     "iopub.execute_input": "2023-11-16T00:30:07.578312Z",
     "iopub.status.busy": "2023-11-16T00:30:07.577120Z",
     "iopub.status.idle": "2023-11-16T00:30:08.241602Z",
     "shell.execute_reply": "2023-11-16T00:30:08.240730Z"
    },
    "papermill": {
     "duration": 0.676016,
     "end_time": "2023-11-16T00:30:08.244040",
     "exception": false,
     "start_time": "2023-11-16T00:30:07.568024",
     "status": "completed"
    },
    "tags": []
   },
   "outputs": [],
   "source": [
    "# This Python 3 environment comes with many helpful analytics libraries installed\n",
    "# It is defined by the kaggle/python Docker image: https://github.com/kaggle/docker-python\n",
    "# For example, here's several helpful packages to load\n",
    "\n",
    "import numpy as np # linear algebra\n",
    "import pandas as pd # data processing, CSV file I/O (e.g. pd.read_csv)\n",
    "\n",
    "# Input data files are available in the read-only \"../input/\" directory\n",
    "# For example, running this (by clicking run or pressing Shift+Enter) will list all files under the input directory\n",
    "\n",
    "import os\n",
    "for dirname, _, filenames in os.walk('/kaggle/input'):\n",
    "    for filename in filenames:\n",
    "        print(os.path.join(dirname, filename))\n",
    "\n",
    "# You can write up to 20GB to the current directory (/kaggle/working/) that gets preserved as output when you create a version using \"Save & Run All\" \n",
    "# You can also write temporary files to /kaggle/temp/, but they won't be saved outside of the current session"
   ]
  },
  {
   "cell_type": "markdown",
   "id": "738d39f0",
   "metadata": {
    "papermill": {
     "duration": 0.006688,
     "end_time": "2023-11-16T00:30:08.257842",
     "exception": false,
     "start_time": "2023-11-16T00:30:08.251154",
     "status": "completed"
    },
    "tags": []
   },
   "source": [
    "# **List Basics**"
   ]
  },
  {
   "cell_type": "code",
   "execution_count": 2,
   "id": "0f377873",
   "metadata": {
    "execution": {
     "iopub.execute_input": "2023-11-16T00:30:08.273316Z",
     "iopub.status.busy": "2023-11-16T00:30:08.272856Z",
     "iopub.status.idle": "2023-11-16T00:30:08.277399Z",
     "shell.execute_reply": "2023-11-16T00:30:08.276759Z"
    },
    "papermill": {
     "duration": 0.015379,
     "end_time": "2023-11-16T00:30:08.280032",
     "exception": false,
     "start_time": "2023-11-16T00:30:08.264653",
     "status": "completed"
    },
    "tags": []
   },
   "outputs": [
    {
     "name": "stdout",
     "output_type": "stream",
     "text": [
      "['Lesson', 5, 'Is Fun?', True]\n"
     ]
    }
   ],
   "source": [
    "my_list = [\"Lesson\", 5, \"Is Fun?\", True]\n",
    "print(my_list)"
   ]
  },
  {
   "cell_type": "code",
   "execution_count": 3,
   "id": "c28cccfc",
   "metadata": {
    "execution": {
     "iopub.execute_input": "2023-11-16T00:30:08.295972Z",
     "iopub.status.busy": "2023-11-16T00:30:08.295389Z",
     "iopub.status.idle": "2023-11-16T00:30:08.300497Z",
     "shell.execute_reply": "2023-11-16T00:30:08.299568Z"
    },
    "papermill": {
     "duration": 0.015109,
     "end_time": "2023-11-16T00:30:08.302495",
     "exception": false,
     "start_time": "2023-11-16T00:30:08.287386",
     "status": "completed"
    },
    "tags": []
   },
   "outputs": [
    {
     "name": "stdout",
     "output_type": "stream",
     "text": [
      "['l', 'i', 'f', 'e', ' ', 'i', 's', ' ', 's', 't', 'u', 'd', 'y']\n"
     ]
    }
   ],
   "source": [
    "second_list = list(\"life is study\") # Create a list from a string\n",
    "print(second_list)"
   ]
  },
  {
   "cell_type": "code",
   "execution_count": 4,
   "id": "dbe654c2",
   "metadata": {
    "execution": {
     "iopub.execute_input": "2023-11-16T00:30:08.317961Z",
     "iopub.status.busy": "2023-11-16T00:30:08.317409Z",
     "iopub.status.idle": "2023-11-16T00:30:08.321869Z",
     "shell.execute_reply": "2023-11-16T00:30:08.320993Z"
    },
    "papermill": {
     "duration": 0.014474,
     "end_time": "2023-11-16T00:30:08.323879",
     "exception": false,
     "start_time": "2023-11-16T00:30:08.309405",
     "status": "completed"
    },
    "tags": []
   },
   "outputs": [
    {
     "name": "stdout",
     "output_type": "stream",
     "text": [
      "[]\n"
     ]
    }
   ],
   "source": [
    "empty_list = []\n",
    "print(empty_list)"
   ]
  },
  {
   "cell_type": "code",
   "execution_count": 5,
   "id": "7b3d2654",
   "metadata": {
    "execution": {
     "iopub.execute_input": "2023-11-16T00:30:08.339465Z",
     "iopub.status.busy": "2023-11-16T00:30:08.338797Z",
     "iopub.status.idle": "2023-11-16T00:30:08.343406Z",
     "shell.execute_reply": "2023-11-16T00:30:08.342528Z"
    },
    "papermill": {
     "duration": 0.014604,
     "end_time": "2023-11-16T00:30:08.345426",
     "exception": false,
     "start_time": "2023-11-16T00:30:08.330822",
     "status": "completed"
    },
    "tags": []
   },
   "outputs": [
    {
     "name": "stdout",
     "output_type": "stream",
     "text": [
      "[\"I'm no longer empty\"]\n"
     ]
    }
   ],
   "source": [
    "empty_list.append(\"I'm no longer empty\")\n",
    "print(empty_list)"
   ]
  },
  {
   "cell_type": "code",
   "execution_count": 6,
   "id": "d7de7d23",
   "metadata": {
    "execution": {
     "iopub.execute_input": "2023-11-16T00:30:08.361344Z",
     "iopub.status.busy": "2023-11-16T00:30:08.360781Z",
     "iopub.status.idle": "2023-11-16T00:30:08.365444Z",
     "shell.execute_reply": "2023-11-16T00:30:08.364557Z"
    },
    "papermill": {
     "duration": 0.015372,
     "end_time": "2023-11-16T00:30:08.367798",
     "exception": false,
     "start_time": "2023-11-16T00:30:08.352426",
     "status": "completed"
    },
    "tags": []
   },
   "outputs": [
    {
     "name": "stdout",
     "output_type": "stream",
     "text": [
      "['Lesson', 'Is Fun?', True]\n"
     ]
    }
   ],
   "source": [
    "my_list.remove(5)\n",
    "print(my_list)"
   ]
  },
  {
   "cell_type": "code",
   "execution_count": 7,
   "id": "3886730c",
   "metadata": {
    "execution": {
     "iopub.execute_input": "2023-11-16T00:30:08.383724Z",
     "iopub.status.busy": "2023-11-16T00:30:08.383342Z",
     "iopub.status.idle": "2023-11-16T00:30:08.387969Z",
     "shell.execute_reply": "2023-11-16T00:30:08.387062Z"
    },
    "papermill": {
     "duration": 0.015204,
     "end_time": "2023-11-16T00:30:08.390157",
     "exception": false,
     "start_time": "2023-11-16T00:30:08.374953",
     "status": "completed"
    },
    "tags": []
   },
   "outputs": [
    {
     "name": "stdout",
     "output_type": "stream",
     "text": [
      "['Lesson', 'Is Fun?', True, \"I'm no longer empty\"]\n"
     ]
    }
   ],
   "source": [
    "combined_list = my_list + empty_list\n",
    "print(combined_list)"
   ]
  },
  {
   "cell_type": "code",
   "execution_count": 8,
   "id": "68d895cd",
   "metadata": {
    "execution": {
     "iopub.execute_input": "2023-11-16T00:30:08.407114Z",
     "iopub.status.busy": "2023-11-16T00:30:08.406358Z",
     "iopub.status.idle": "2023-11-16T00:30:08.412281Z",
     "shell.execute_reply": "2023-11-16T00:30:08.410991Z"
    },
    "papermill": {
     "duration": 0.016551,
     "end_time": "2023-11-16T00:30:08.414296",
     "exception": false,
     "start_time": "2023-11-16T00:30:08.397745",
     "status": "completed"
    },
    "tags": []
   },
   "outputs": [
    {
     "name": "stdout",
     "output_type": "stream",
     "text": [
      "['Lesson', 'Is Fun?', True]\n",
      "['Lesson', 'Is Fun?', True, \"I'm no longer empty\"]\n"
     ]
    }
   ],
   "source": [
    "combined_list = my_list\n",
    "print(combined_list)\n",
    "combined_list.extend(empty_list)\n",
    "print(combined_list)"
   ]
  },
  {
   "cell_type": "code",
   "execution_count": 9,
   "id": "246a67a5",
   "metadata": {
    "execution": {
     "iopub.execute_input": "2023-11-16T00:30:08.430883Z",
     "iopub.status.busy": "2023-11-16T00:30:08.430511Z",
     "iopub.status.idle": "2023-11-16T00:30:08.436564Z",
     "shell.execute_reply": "2023-11-16T00:30:08.435553Z"
    },
    "papermill": {
     "duration": 0.016697,
     "end_time": "2023-11-16T00:30:08.438792",
     "exception": false,
     "start_time": "2023-11-16T00:30:08.422095",
     "status": "completed"
    },
    "tags": []
   },
   "outputs": [
    {
     "name": "stdout",
     "output_type": "stream",
     "text": [
      "5\n",
      "9\n",
      "1\n",
      "25\n",
      "5.0\n"
     ]
    }
   ],
   "source": [
    "num_list = [1, 3, 5, 7, 9]\n",
    "print( len(num_list))   # check the length\n",
    "print( max(num_list))   #check the max\n",
    "print( min(num_list))   #check the min\n",
    "print( sum(num_list))   #Check the sum\n",
    "print( sum(num_list)/len(num_list))    #Check the mean"
   ]
  },
  {
   "cell_type": "code",
   "execution_count": 10,
   "id": "f7c5e400",
   "metadata": {
    "execution": {
     "iopub.execute_input": "2023-11-16T00:30:08.455588Z",
     "iopub.status.busy": "2023-11-16T00:30:08.454924Z",
     "iopub.status.idle": "2023-11-16T00:30:08.462035Z",
     "shell.execute_reply": "2023-11-16T00:30:08.461257Z"
    },
    "papermill": {
     "duration": 0.017781,
     "end_time": "2023-11-16T00:30:08.463971",
     "exception": false,
     "start_time": "2023-11-16T00:30:08.446190",
     "status": "completed"
    },
    "tags": []
   },
   "outputs": [
    {
     "data": {
      "text/plain": [
       "True"
      ]
     },
     "execution_count": 10,
     "metadata": {},
     "output_type": "execute_result"
    }
   ],
   "source": [
    "1 in num_list"
   ]
  },
  {
   "cell_type": "code",
   "execution_count": 11,
   "id": "850798ef",
   "metadata": {
    "execution": {
     "iopub.execute_input": "2023-11-16T00:30:08.480866Z",
     "iopub.status.busy": "2023-11-16T00:30:08.480222Z",
     "iopub.status.idle": "2023-11-16T00:30:08.486174Z",
     "shell.execute_reply": "2023-11-16T00:30:08.485258Z"
    },
    "papermill": {
     "duration": 0.0167,
     "end_time": "2023-11-16T00:30:08.488108",
     "exception": false,
     "start_time": "2023-11-16T00:30:08.471408",
     "status": "completed"
    },
    "tags": []
   },
   "outputs": [
    {
     "data": {
      "text/plain": [
       "False"
      ]
     },
     "execution_count": 11,
     "metadata": {},
     "output_type": "execute_result"
    }
   ],
   "source": [
    "1 not in num_list"
   ]
  },
  {
   "cell_type": "code",
   "execution_count": 12,
   "id": "37910af6",
   "metadata": {
    "execution": {
     "iopub.execute_input": "2023-11-16T00:30:08.505684Z",
     "iopub.status.busy": "2023-11-16T00:30:08.505004Z",
     "iopub.status.idle": "2023-11-16T00:30:08.510971Z",
     "shell.execute_reply": "2023-11-16T00:30:08.510209Z"
    },
    "papermill": {
     "duration": 0.016925,
     "end_time": "2023-11-16T00:30:08.512911",
     "exception": false,
     "start_time": "2023-11-16T00:30:08.495986",
     "status": "completed"
    },
    "tags": []
   },
   "outputs": [
    {
     "data": {
      "text/plain": [
       "1"
      ]
     },
     "execution_count": 12,
     "metadata": {},
     "output_type": "execute_result"
    }
   ],
   "source": [
    "num_list.count(3)"
   ]
  },
  {
   "cell_type": "code",
   "execution_count": 13,
   "id": "0620f9b6",
   "metadata": {
    "execution": {
     "iopub.execute_input": "2023-11-16T00:30:08.530125Z",
     "iopub.status.busy": "2023-11-16T00:30:08.529450Z",
     "iopub.status.idle": "2023-11-16T00:30:08.535595Z",
     "shell.execute_reply": "2023-11-16T00:30:08.534591Z"
    },
    "papermill": {
     "duration": 0.016993,
     "end_time": "2023-11-16T00:30:08.537461",
     "exception": false,
     "start_time": "2023-11-16T00:30:08.520468",
     "status": "completed"
    },
    "tags": []
   },
   "outputs": [
    {
     "name": "stdout",
     "output_type": "stream",
     "text": [
      "Reversed list [6, 3, 2, 4, 5, 1]\n",
      "Sorted list [1, 2, 3, 4, 5, 6]\n"
     ]
    }
   ],
   "source": [
    "new_list = [1,5,4,2,3,6]   # Make a new list\n",
    "\n",
    "new_list.reverse()         # Reverse the list\n",
    "print(\"Reversed list\", new_list)\n",
    "\n",
    "new_list.sort()            # Sort the list\n",
    "print(\"Sorted list\", new_list)"
   ]
  },
  {
   "cell_type": "markdown",
   "id": "f2c9e509",
   "metadata": {
    "papermill": {
     "duration": 0.007422,
     "end_time": "2023-11-16T00:30:08.552704",
     "exception": false,
     "start_time": "2023-11-16T00:30:08.545282",
     "status": "completed"
    },
    "tags": []
   },
   "source": [
    "# **List Indexing and Slicing**"
   ]
  },
  {
   "cell_type": "code",
   "execution_count": 14,
   "id": "c4acc884",
   "metadata": {
    "execution": {
     "iopub.execute_input": "2023-11-16T00:30:08.570381Z",
     "iopub.status.busy": "2023-11-16T00:30:08.569694Z",
     "iopub.status.idle": "2023-11-16T00:30:08.574814Z",
     "shell.execute_reply": "2023-11-16T00:30:08.573803Z"
    },
    "papermill": {
     "duration": 0.016122,
     "end_time": "2023-11-16T00:30:08.576608",
     "exception": false,
     "start_time": "2023-11-16T00:30:08.560486",
     "status": "completed"
    },
    "tags": []
   },
   "outputs": [
    {
     "name": "stdout",
     "output_type": "stream",
     "text": [
      "Hello\n",
      "Bestest\n"
     ]
    }
   ],
   "source": [
    "another_list = [\"Hello\", \"my\", \"Bestest\", \"Old\", \"Friend\"]\n",
    "print (another_list[0])\n",
    "print (another_list[2])"
   ]
  },
  {
   "cell_type": "code",
   "execution_count": 15,
   "id": "4ccbec8e",
   "metadata": {
    "execution": {
     "iopub.execute_input": "2023-11-16T00:30:08.593856Z",
     "iopub.status.busy": "2023-11-16T00:30:08.593045Z",
     "iopub.status.idle": "2023-11-16T00:30:08.597990Z",
     "shell.execute_reply": "2023-11-16T00:30:08.596895Z"
    },
    "papermill": {
     "duration": 0.015737,
     "end_time": "2023-11-16T00:30:08.600018",
     "exception": false,
     "start_time": "2023-11-16T00:30:08.584281",
     "status": "completed"
    },
    "tags": []
   },
   "outputs": [
    {
     "name": "stdout",
     "output_type": "stream",
     "text": [
      "Friend\n",
      "Bestest\n"
     ]
    }
   ],
   "source": [
    "print (another_list[-1])\n",
    "print (another_list[-3])"
   ]
  },
  {
   "cell_type": "code",
   "execution_count": 16,
   "id": "3f51affb",
   "metadata": {
    "execution": {
     "iopub.execute_input": "2023-11-16T00:30:08.616923Z",
     "iopub.status.busy": "2023-11-16T00:30:08.616579Z",
     "iopub.status.idle": "2023-11-16T00:30:08.621103Z",
     "shell.execute_reply": "2023-11-16T00:30:08.620203Z"
    },
    "papermill": {
     "duration": 0.015352,
     "end_time": "2023-11-16T00:30:08.623134",
     "exception": false,
     "start_time": "2023-11-16T00:30:08.607782",
     "status": "completed"
    },
    "tags": []
   },
   "outputs": [
    {
     "name": "stdout",
     "output_type": "stream",
     "text": [
      "Old\n"
     ]
    }
   ],
   "source": [
    "print(another_list[3])"
   ]
  },
  {
   "cell_type": "code",
   "execution_count": 17,
   "id": "2784dd2c",
   "metadata": {
    "execution": {
     "iopub.execute_input": "2023-11-16T00:30:08.640661Z",
     "iopub.status.busy": "2023-11-16T00:30:08.640051Z",
     "iopub.status.idle": "2023-11-16T00:30:08.644941Z",
     "shell.execute_reply": "2023-11-16T00:30:08.643913Z"
    },
    "papermill": {
     "duration": 0.015782,
     "end_time": "2023-11-16T00:30:08.646793",
     "exception": false,
     "start_time": "2023-11-16T00:30:08.631011",
     "status": "completed"
    },
    "tags": []
   },
   "outputs": [
    {
     "name": "stdout",
     "output_type": "stream",
     "text": [
      "3\n"
     ]
    }
   ],
   "source": [
    "nested_list = [[1,2,3], [4,5,6], [7,8,9]]\n",
    "print (nested_list[0][2])"
   ]
  },
  {
   "cell_type": "code",
   "execution_count": 18,
   "id": "2ae19645",
   "metadata": {
    "execution": {
     "iopub.execute_input": "2023-11-16T00:30:08.664332Z",
     "iopub.status.busy": "2023-11-16T00:30:08.663963Z",
     "iopub.status.idle": "2023-11-16T00:30:08.668822Z",
     "shell.execute_reply": "2023-11-16T00:30:08.667911Z"
    },
    "papermill": {
     "duration": 0.016014,
     "end_time": "2023-11-16T00:30:08.670731",
     "exception": false,
     "start_time": "2023-11-16T00:30:08.654717",
     "status": "completed"
    },
    "tags": []
   },
   "outputs": [
    {
     "name": "stdout",
     "output_type": "stream",
     "text": [
      "['my', 'Bestest']\n"
     ]
    }
   ],
   "source": [
    "my_slice = another_list[1:3]  # Slice index 1 and 2\n",
    "print(my_slice)"
   ]
  },
  {
   "cell_type": "code",
   "execution_count": 19,
   "id": "0a88ebd2",
   "metadata": {
    "execution": {
     "iopub.execute_input": "2023-11-16T00:30:08.688503Z",
     "iopub.status.busy": "2023-11-16T00:30:08.687918Z",
     "iopub.status.idle": "2023-11-16T00:30:08.692603Z",
     "shell.execute_reply": "2023-11-16T00:30:08.691653Z"
    },
    "papermill": {
     "duration": 0.015651,
     "end_time": "2023-11-16T00:30:08.694372",
     "exception": false,
     "start_time": "2023-11-16T00:30:08.678721",
     "status": "completed"
    },
    "tags": []
   },
   "outputs": [
    {
     "name": "stdout",
     "output_type": "stream",
     "text": [
      "['Hello', 'Bestest', 'Friend']\n"
     ]
    }
   ],
   "source": [
    "# Slice the entire list but use step size 2 to get every other item:\n",
    "my_slice = another_list[0:6:2]\n",
    "print(my_slice)"
   ]
  },
  {
   "cell_type": "code",
   "execution_count": 20,
   "id": "6d36b93e",
   "metadata": {
    "execution": {
     "iopub.execute_input": "2023-11-16T00:30:08.712400Z",
     "iopub.status.busy": "2023-11-16T00:30:08.711840Z",
     "iopub.status.idle": "2023-11-16T00:30:08.716920Z",
     "shell.execute_reply": "2023-11-16T00:30:08.715568Z"
    },
    "papermill": {
     "duration": 0.016589,
     "end_time": "2023-11-16T00:30:08.719099",
     "exception": false,
     "start_time": "2023-11-16T00:30:08.702510",
     "status": "completed"
    },
    "tags": []
   },
   "outputs": [
    {
     "name": "stdout",
     "output_type": "stream",
     "text": [
      "['Hello', 'my', 'Bestest', 'Old']\n"
     ]
    }
   ],
   "source": [
    "slice1 =  another_list[:4] # Slice everything up to index 4\n",
    "print (slice1)"
   ]
  },
  {
   "cell_type": "code",
   "execution_count": 21,
   "id": "1e5b259d",
   "metadata": {
    "execution": {
     "iopub.execute_input": "2023-11-16T00:30:08.738094Z",
     "iopub.status.busy": "2023-11-16T00:30:08.737104Z",
     "iopub.status.idle": "2023-11-16T00:30:08.742717Z",
     "shell.execute_reply": "2023-11-16T00:30:08.741625Z"
    },
    "papermill": {
     "duration": 0.01713,
     "end_time": "2023-11-16T00:30:08.744899",
     "exception": false,
     "start_time": "2023-11-16T00:30:08.727769",
     "status": "completed"
    },
    "tags": []
   },
   "outputs": [
    {
     "name": "stdout",
     "output_type": "stream",
     "text": [
      "['Old', 'Friend']\n"
     ]
    }
   ],
   "source": [
    "slice2 = another_list[3:] # Slice everything from index 3 to the end\n",
    "print(slice2)"
   ]
  },
  {
   "cell_type": "code",
   "execution_count": 22,
   "id": "28fc8354",
   "metadata": {
    "execution": {
     "iopub.execute_input": "2023-11-16T00:30:08.763265Z",
     "iopub.status.busy": "2023-11-16T00:30:08.762926Z",
     "iopub.status.idle": "2023-11-16T00:30:08.767694Z",
     "shell.execute_reply": "2023-11-16T00:30:08.766758Z"
    },
    "papermill": {
     "duration": 0.0168,
     "end_time": "2023-11-16T00:30:08.770142",
     "exception": false,
     "start_time": "2023-11-16T00:30:08.753342",
     "status": "completed"
    },
    "tags": []
   },
   "outputs": [
    {
     "name": "stdout",
     "output_type": "stream",
     "text": [
      "['Friend', 'Old']\n"
     ]
    }
   ],
   "source": [
    "# Take a slice starting at index 4, backward to index 2\n",
    "\n",
    "my_slice = another_list[4:2:-1]\n",
    "print(my_slice)"
   ]
  },
  {
   "cell_type": "code",
   "execution_count": 23,
   "id": "838e77ad",
   "metadata": {
    "execution": {
     "iopub.execute_input": "2023-11-16T00:30:08.789716Z",
     "iopub.status.busy": "2023-11-16T00:30:08.788796Z",
     "iopub.status.idle": "2023-11-16T00:30:08.794278Z",
     "shell.execute_reply": "2023-11-16T00:30:08.793247Z"
    },
    "papermill": {
     "duration": 0.017072,
     "end_time": "2023-11-16T00:30:08.796136",
     "exception": false,
     "start_time": "2023-11-16T00:30:08.779064",
     "status": "completed"
    },
    "tags": []
   },
   "outputs": [
    {
     "name": "stdout",
     "output_type": "stream",
     "text": [
      "['Hello', 'my', 'Bestest', 'Old', 'Friend']\n"
     ]
    }
   ],
   "source": [
    "my_slice = another_list[:]  # This slice operation copies the list'\n",
    "print(my_slice)"
   ]
  },
  {
   "cell_type": "code",
   "execution_count": 24,
   "id": "6928f3b5",
   "metadata": {
    "execution": {
     "iopub.execute_input": "2023-11-16T00:30:08.814301Z",
     "iopub.status.busy": "2023-11-16T00:30:08.813960Z",
     "iopub.status.idle": "2023-11-16T00:30:08.819112Z",
     "shell.execute_reply": "2023-11-16T00:30:08.818237Z"
    },
    "papermill": {
     "duration": 0.01653,
     "end_time": "2023-11-16T00:30:08.821099",
     "exception": false,
     "start_time": "2023-11-16T00:30:08.804569",
     "status": "completed"
    },
    "tags": []
   },
   "outputs": [
    {
     "name": "stdout",
     "output_type": "stream",
     "text": [
      "['Friend', 'Old', 'Bestest', 'my', 'Hello']\n"
     ]
    }
   ],
   "source": [
    "my_slice = another_list[::-1]  # This slice operation reverse the list\n",
    "print(my_slice)"
   ]
  },
  {
   "cell_type": "code",
   "execution_count": 25,
   "id": "1777c502",
   "metadata": {
    "execution": {
     "iopub.execute_input": "2023-11-16T00:30:08.840222Z",
     "iopub.status.busy": "2023-11-16T00:30:08.839895Z",
     "iopub.status.idle": "2023-11-16T00:30:08.845126Z",
     "shell.execute_reply": "2023-11-16T00:30:08.844187Z"
    },
    "papermill": {
     "duration": 0.016915,
     "end_time": "2023-11-16T00:30:08.847315",
     "exception": false,
     "start_time": "2023-11-16T00:30:08.830400",
     "status": "completed"
    },
    "tags": []
   },
   "outputs": [
    {
     "name": "stdout",
     "output_type": "stream",
     "text": [
      "['Hello', 'my', 'Bestest', 'Old', 'Friend']\n",
      "['Hello', 'my', 'Bestest', 'new', 'Friend']\n",
      "['Hello', 'my', 'Bestest', 'Friend']\n"
     ]
    }
   ],
   "source": [
    "print(another_list)\n",
    "\n",
    "another_list[3]  = \"new\"   # Set the value at index 3 to \"new\"\n",
    "print(another_list)\n",
    "\n",
    "del(another_list[3])    # Delete the item at index 3\n",
    "print(another_list)"
   ]
  },
  {
   "cell_type": "code",
   "execution_count": 26,
   "id": "6f32da88",
   "metadata": {
    "execution": {
     "iopub.execute_input": "2023-11-16T00:30:08.866161Z",
     "iopub.status.busy": "2023-11-16T00:30:08.865466Z",
     "iopub.status.idle": "2023-11-16T00:30:08.870344Z",
     "shell.execute_reply": "2023-11-16T00:30:08.869274Z"
    },
    "papermill": {
     "duration": 0.01692,
     "end_time": "2023-11-16T00:30:08.872798",
     "exception": false,
     "start_time": "2023-11-16T00:30:08.855878",
     "status": "completed"
    },
    "tags": []
   },
   "outputs": [
    {
     "name": "stdout",
     "output_type": "stream",
     "text": [
      "Friend\n",
      "['Hello', 'my', 'Bestest']\n"
     ]
    }
   ],
   "source": [
    "next_item = another_list.pop()\n",
    "print(next_item)\n",
    "print(another_list)"
   ]
  },
  {
   "cell_type": "markdown",
   "id": "1f4f0224",
   "metadata": {
    "papermill": {
     "duration": 0.008437,
     "end_time": "2023-11-16T00:30:08.890368",
     "exception": false,
     "start_time": "2023-11-16T00:30:08.881931",
     "status": "completed"
    },
    "tags": []
   },
   "source": [
    "# **Copying Lists**"
   ]
  },
  {
   "cell_type": "code",
   "execution_count": 27,
   "id": "0dcfa1ce",
   "metadata": {
    "execution": {
     "iopub.execute_input": "2023-11-16T00:30:08.909206Z",
     "iopub.status.busy": "2023-11-16T00:30:08.908856Z",
     "iopub.status.idle": "2023-11-16T00:30:08.913863Z",
     "shell.execute_reply": "2023-11-16T00:30:08.912907Z"
    },
    "papermill": {
     "duration": 0.017469,
     "end_time": "2023-11-16T00:30:08.916505",
     "exception": false,
     "start_time": "2023-11-16T00:30:08.899036",
     "status": "completed"
    },
    "tags": []
   },
   "outputs": [
    {
     "name": "stdout",
     "output_type": "stream",
     "text": [
      "List1: [1, 2, 3, 4]\n",
      "List2: [1, 2, 3]\n"
     ]
    }
   ],
   "source": [
    "list1 = [1,2,3]    # Make a list\n",
    "\n",
    "list2 = list1.copy()  # Copy the list\n",
    "\n",
    "list1.append(4)   # Add an item to list 1\n",
    "\n",
    "print(\"List1:\", list1)\n",
    "print(\"List2:\", list2)"
   ]
  },
  {
   "cell_type": "code",
   "execution_count": 28,
   "id": "f410fa1b",
   "metadata": {
    "execution": {
     "iopub.execute_input": "2023-11-16T00:30:08.935480Z",
     "iopub.status.busy": "2023-11-16T00:30:08.935125Z",
     "iopub.status.idle": "2023-11-16T00:30:08.941424Z",
     "shell.execute_reply": "2023-11-16T00:30:08.940446Z"
    },
    "papermill": {
     "duration": 0.018374,
     "end_time": "2023-11-16T00:30:08.943636",
     "exception": false,
     "start_time": "2023-11-16T00:30:08.925262",
     "status": "completed"
    },
    "tags": []
   },
   "outputs": [
    {
     "name": "stdout",
     "output_type": "stream",
     "text": [
      "Before appending to list1:\n",
      "List2: ['List within a list', [1, 2, 3]]\n",
      "List3: ['List within a list', [1, 2, 3]] \n",
      "\n",
      "After appending to list1:\n",
      "List2: ['List within a list', [1, 2, 3, 4]]\n",
      "List3: ['List within a list', [1, 2, 3, 4]]\n"
     ]
    }
   ],
   "source": [
    "list1 = [1,2,3]     # Make a list\n",
    "list2 = [\"List within a list\", list1]  # Nest it in anoter list\n",
    "list3 = list2.copy()       #shallow copy list2\n",
    "\n",
    "print(\"Before appending to list1:\")\n",
    "print(\"List2:\", list2)\n",
    "print(\"List3:\", list3, \"\\n\")\n",
    "\n",
    "list1.append(4)     # Add an item to list1\n",
    "print(\"After appending to list1:\")\n",
    "print(\"List2:\", list2)\n",
    "print(\"List3:\", list3)"
   ]
  },
  {
   "cell_type": "code",
   "execution_count": 29,
   "id": "48176ebe",
   "metadata": {
    "execution": {
     "iopub.execute_input": "2023-11-16T00:30:09.019788Z",
     "iopub.status.busy": "2023-11-16T00:30:09.018821Z",
     "iopub.status.idle": "2023-11-16T00:30:09.025895Z",
     "shell.execute_reply": "2023-11-16T00:30:09.024808Z"
    },
    "papermill": {
     "duration": 0.07545,
     "end_time": "2023-11-16T00:30:09.027985",
     "exception": false,
     "start_time": "2023-11-16T00:30:08.952535",
     "status": "completed"
    },
    "tags": []
   },
   "outputs": [
    {
     "name": "stdout",
     "output_type": "stream",
     "text": [
      "Before appending to list1:\n",
      "List2: ['List within a list', [1, 2, 3]]\n",
      "List3: ['List within a list', [1, 2, 3]] \n",
      "\n",
      "After appending to list1:\n",
      "List2: ['List within a list', [1, 2, 3, 4]]\n",
      "List3: ['List within a list', [1, 2, 3]]\n"
     ]
    }
   ],
   "source": [
    "import copy   # Load the copy module\n",
    "\n",
    "list1 = [1,2,3]     # Make a list\n",
    "list2 = [\"List within a list\", list1]  # Nest it in anoter list\n",
    "list3 = copy.deepcopy(list2)       #deep copy list2\n",
    "\n",
    "print(\"Before appending to list1:\")\n",
    "print(\"List2:\", list2)\n",
    "print(\"List3:\", list3, \"\\n\")\n",
    "\n",
    "list1.append(4)     # Add an item to list1\n",
    "print(\"After appending to list1:\")\n",
    "print(\"List2:\", list2)\n",
    "print(\"List3:\", list3)\n",
    "\n"
   ]
  }
 ],
 "metadata": {
  "kaggle": {
   "accelerator": "none",
   "dataSources": [],
   "dockerImageVersionId": 30579,
   "isGpuEnabled": false,
   "isInternetEnabled": false,
   "language": "python",
   "sourceType": "notebook"
  },
  "kernelspec": {
   "display_name": "Python 3",
   "language": "python",
   "name": "python3"
  },
  "language_info": {
   "codemirror_mode": {
    "name": "ipython",
    "version": 3
   },
   "file_extension": ".py",
   "mimetype": "text/x-python",
   "name": "python",
   "nbconvert_exporter": "python",
   "pygments_lexer": "ipython3",
   "version": "3.10.12"
  },
  "papermill": {
   "default_parameters": {},
   "duration": 4.969882,
   "end_time": "2023-11-16T00:30:09.456025",
   "environment_variables": {},
   "exception": null,
   "input_path": "__notebook__.ipynb",
   "output_path": "__notebook__.ipynb",
   "parameters": {},
   "start_time": "2023-11-16T00:30:04.486143",
   "version": "2.4.0"
  }
 },
 "nbformat": 4,
 "nbformat_minor": 5
}

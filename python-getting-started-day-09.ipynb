{
 "cells": [
  {
   "cell_type": "code",
   "execution_count": 1,
   "id": "a775283c",
   "metadata": {
    "_cell_guid": "b1076dfc-b9ad-4769-8c92-a6c4dae69d19",
    "_uuid": "8f2839f25d086af736a60e9eeb907d3b93b6e0e5",
    "execution": {
     "iopub.execute_input": "2023-11-20T06:22:49.012525Z",
     "iopub.status.busy": "2023-11-20T06:22:49.011748Z",
     "iopub.status.idle": "2023-11-20T06:22:49.445155Z",
     "shell.execute_reply": "2023-11-20T06:22:49.443765Z"
    },
    "papermill": {
     "duration": 0.454557,
     "end_time": "2023-11-20T06:22:49.448280",
     "exception": false,
     "start_time": "2023-11-20T06:22:48.993723",
     "status": "completed"
    },
    "tags": []
   },
   "outputs": [],
   "source": [
    "# This Python 3 environment comes with many helpful analytics libraries installed\n",
    "# It is defined by the kaggle/python Docker image: https://github.com/kaggle/docker-python\n",
    "# For example, here's several helpful packages to load\n",
    "\n",
    "import numpy as np # linear algebra\n",
    "import pandas as pd # data processing, CSV file I/O (e.g. pd.read_csv)\n",
    "\n",
    "# Input data files are available in the read-only \"../input/\" directory\n",
    "# For example, running this (by clicking run or pressing Shift+Enter) will list all files under the input directory\n",
    "\n",
    "import os\n",
    "for dirname, _, filenames in os.walk('/kaggle/input'):\n",
    "    for filename in filenames:\n",
    "        print(os.path.join(dirname, filename))\n",
    "\n",
    "# You can write up to 20GB to the current directory (/kaggle/working/) that gets preserved as output when you create a version using \"Save & Run All\" \n",
    "# You can also write temporary files to /kaggle/temp/, but they won't be saved outside of the current session"
   ]
  },
  {
   "cell_type": "markdown",
   "id": "69d33b90",
   "metadata": {
    "papermill": {
     "duration": 0.016354,
     "end_time": "2023-11-20T06:22:49.480869",
     "exception": false,
     "start_time": "2023-11-20T06:22:49.464515",
     "status": "completed"
    },
    "tags": []
   },
   "source": [
    "# **Numpy Arrays**"
   ]
  },
  {
   "cell_type": "code",
   "execution_count": 2,
   "id": "2d438f35",
   "metadata": {
    "execution": {
     "iopub.execute_input": "2023-11-20T06:22:49.515213Z",
     "iopub.status.busy": "2023-11-20T06:22:49.514663Z",
     "iopub.status.idle": "2023-11-20T06:22:49.519474Z",
     "shell.execute_reply": "2023-11-20T06:22:49.518607Z"
    },
    "papermill": {
     "duration": 0.024308,
     "end_time": "2023-11-20T06:22:49.521530",
     "exception": false,
     "start_time": "2023-11-20T06:22:49.497222",
     "status": "completed"
    },
    "tags": []
   },
   "outputs": [],
   "source": [
    "import numpy as np"
   ]
  },
  {
   "cell_type": "code",
   "execution_count": 3,
   "id": "fd2c92a4",
   "metadata": {
    "execution": {
     "iopub.execute_input": "2023-11-20T06:22:49.555520Z",
     "iopub.status.busy": "2023-11-20T06:22:49.554748Z",
     "iopub.status.idle": "2023-11-20T06:22:49.562718Z",
     "shell.execute_reply": "2023-11-20T06:22:49.561899Z"
    },
    "papermill": {
     "duration": 0.027899,
     "end_time": "2023-11-20T06:22:49.565205",
     "exception": false,
     "start_time": "2023-11-20T06:22:49.537306",
     "status": "completed"
    },
    "tags": []
   },
   "outputs": [
    {
     "data": {
      "text/plain": [
       "numpy.ndarray"
      ]
     },
     "execution_count": 3,
     "metadata": {},
     "output_type": "execute_result"
    }
   ],
   "source": [
    "my_list = [1,2,3,4]   # Define a list\n",
    "my_array = np.array(my_list)   # Pass the list to np.array()\n",
    "type(my_array)     # Check the object's type"
   ]
  },
  {
   "cell_type": "code",
   "execution_count": 4,
   "id": "226b9db2",
   "metadata": {
    "execution": {
     "iopub.execute_input": "2023-11-20T06:22:49.600416Z",
     "iopub.status.busy": "2023-11-20T06:22:49.599336Z",
     "iopub.status.idle": "2023-11-20T06:22:49.610148Z",
     "shell.execute_reply": "2023-11-20T06:22:49.608956Z"
    },
    "papermill": {
     "duration": 0.030621,
     "end_time": "2023-11-20T06:22:49.612625",
     "exception": false,
     "start_time": "2023-11-20T06:22:49.582004",
     "status": "completed"
    },
    "tags": []
   },
   "outputs": [
    {
     "name": "stdout",
     "output_type": "stream",
     "text": [
      "[[1 2 3 4]\n",
      " [5 6 7 8]]\n"
     ]
    },
    {
     "data": {
      "text/plain": [
       "numpy.ndarray"
      ]
     },
     "execution_count": 4,
     "metadata": {},
     "output_type": "execute_result"
    }
   ],
   "source": [
    "second_list = [5,6,7,8]\n",
    "two_d_array = np.array([my_list, second_list])\n",
    "print(two_d_array)\n",
    "type(two_d_array)"
   ]
  },
  {
   "cell_type": "code",
   "execution_count": 5,
   "id": "2e5ee420",
   "metadata": {
    "execution": {
     "iopub.execute_input": "2023-11-20T06:22:49.647835Z",
     "iopub.status.busy": "2023-11-20T06:22:49.647149Z",
     "iopub.status.idle": "2023-11-20T06:22:49.652627Z",
     "shell.execute_reply": "2023-11-20T06:22:49.651874Z"
    },
    "papermill": {
     "duration": 0.025909,
     "end_time": "2023-11-20T06:22:49.654890",
     "exception": false,
     "start_time": "2023-11-20T06:22:49.628981",
     "status": "completed"
    },
    "tags": []
   },
   "outputs": [
    {
     "data": {
      "text/plain": [
       "(2, 4)"
      ]
     },
     "execution_count": 5,
     "metadata": {},
     "output_type": "execute_result"
    }
   ],
   "source": [
    "two_d_array.shape"
   ]
  },
  {
   "cell_type": "code",
   "execution_count": 6,
   "id": "f281cf9e",
   "metadata": {
    "execution": {
     "iopub.execute_input": "2023-11-20T06:22:49.690057Z",
     "iopub.status.busy": "2023-11-20T06:22:49.689438Z",
     "iopub.status.idle": "2023-11-20T06:22:49.694822Z",
     "shell.execute_reply": "2023-11-20T06:22:49.693986Z"
    },
    "papermill": {
     "duration": 0.025802,
     "end_time": "2023-11-20T06:22:49.697041",
     "exception": false,
     "start_time": "2023-11-20T06:22:49.671239",
     "status": "completed"
    },
    "tags": []
   },
   "outputs": [
    {
     "data": {
      "text/plain": [
       "8"
      ]
     },
     "execution_count": 6,
     "metadata": {},
     "output_type": "execute_result"
    }
   ],
   "source": [
    "two_d_array.size"
   ]
  },
  {
   "cell_type": "code",
   "execution_count": 7,
   "id": "03e8474b",
   "metadata": {
    "execution": {
     "iopub.execute_input": "2023-11-20T06:22:49.732872Z",
     "iopub.status.busy": "2023-11-20T06:22:49.732243Z",
     "iopub.status.idle": "2023-11-20T06:22:49.738217Z",
     "shell.execute_reply": "2023-11-20T06:22:49.737143Z"
    },
    "papermill": {
     "duration": 0.026947,
     "end_time": "2023-11-20T06:22:49.740539",
     "exception": false,
     "start_time": "2023-11-20T06:22:49.713592",
     "status": "completed"
    },
    "tags": []
   },
   "outputs": [
    {
     "data": {
      "text/plain": [
       "dtype('int64')"
      ]
     },
     "execution_count": 7,
     "metadata": {},
     "output_type": "execute_result"
    }
   ],
   "source": [
    "two_d_array.dtype"
   ]
  },
  {
   "cell_type": "code",
   "execution_count": 8,
   "id": "911dfd38",
   "metadata": {
    "execution": {
     "iopub.execute_input": "2023-11-20T06:22:49.778061Z",
     "iopub.status.busy": "2023-11-20T06:22:49.777459Z",
     "iopub.status.idle": "2023-11-20T06:22:49.784872Z",
     "shell.execute_reply": "2023-11-20T06:22:49.783879Z"
    },
    "papermill": {
     "duration": 0.029913,
     "end_time": "2023-11-20T06:22:49.787363",
     "exception": false,
     "start_time": "2023-11-20T06:22:49.757450",
     "status": "completed"
    },
    "tags": []
   },
   "outputs": [
    {
     "data": {
      "text/plain": [
       "array([[1., 0., 0., 0., 0.],\n",
       "       [0., 1., 0., 0., 0.],\n",
       "       [0., 0., 1., 0., 0.],\n",
       "       [0., 0., 0., 1., 0.],\n",
       "       [0., 0., 0., 0., 1.]])"
      ]
     },
     "execution_count": 8,
     "metadata": {},
     "output_type": "execute_result"
    }
   ],
   "source": [
    "# np.identity() to create a square 2d array with 1's across the diagonal\n",
    "np.identity(n=5)   # Size of the array"
   ]
  },
  {
   "cell_type": "code",
   "execution_count": 9,
   "id": "6908cb9b",
   "metadata": {
    "execution": {
     "iopub.execute_input": "2023-11-20T06:22:49.823110Z",
     "iopub.status.busy": "2023-11-20T06:22:49.822688Z",
     "iopub.status.idle": "2023-11-20T06:22:49.830126Z",
     "shell.execute_reply": "2023-11-20T06:22:49.828943Z"
    },
    "papermill": {
     "duration": 0.028169,
     "end_time": "2023-11-20T06:22:49.832748",
     "exception": false,
     "start_time": "2023-11-20T06:22:49.804579",
     "status": "completed"
    },
    "tags": []
   },
   "outputs": [
    {
     "data": {
      "text/plain": [
       "array([[0., 1., 0., 0., 0.],\n",
       "       [0., 0., 1., 0., 0.],\n",
       "       [0., 0., 0., 1., 0.]])"
      ]
     },
     "execution_count": 9,
     "metadata": {},
     "output_type": "execute_result"
    }
   ],
   "source": [
    "# np.eye() to create a 2d array with 1's across a specified diagonal\n",
    "\n",
    "np.eye(N = 3, # Number of rows\n",
    "      M = 5, # Number of columns\n",
    "      k = 1) # Index of the diagonal (main diagonal (0) is default)"
   ]
  },
  {
   "cell_type": "code",
   "execution_count": 10,
   "id": "155e5db6",
   "metadata": {
    "execution": {
     "iopub.execute_input": "2023-11-20T06:22:49.867885Z",
     "iopub.status.busy": "2023-11-20T06:22:49.867495Z",
     "iopub.status.idle": "2023-11-20T06:22:49.874200Z",
     "shell.execute_reply": "2023-11-20T06:22:49.873381Z"
    },
    "papermill": {
     "duration": 0.026908,
     "end_time": "2023-11-20T06:22:49.876423",
     "exception": false,
     "start_time": "2023-11-20T06:22:49.849515",
     "status": "completed"
    },
    "tags": []
   },
   "outputs": [
    {
     "data": {
      "text/plain": [
       "array([[1., 1., 1., 1.],\n",
       "       [1., 1., 1., 1.]])"
      ]
     },
     "execution_count": 10,
     "metadata": {},
     "output_type": "execute_result"
    }
   ],
   "source": [
    "# np.ones() to create an array filled with ones:\n",
    "np.ones(shape = [2,4])"
   ]
  },
  {
   "cell_type": "code",
   "execution_count": 11,
   "id": "817cc139",
   "metadata": {
    "execution": {
     "iopub.execute_input": "2023-11-20T06:22:49.913172Z",
     "iopub.status.busy": "2023-11-20T06:22:49.912743Z",
     "iopub.status.idle": "2023-11-20T06:22:49.920552Z",
     "shell.execute_reply": "2023-11-20T06:22:49.919508Z"
    },
    "papermill": {
     "duration": 0.029432,
     "end_time": "2023-11-20T06:22:49.923024",
     "exception": false,
     "start_time": "2023-11-20T06:22:49.893592",
     "status": "completed"
    },
    "tags": []
   },
   "outputs": [
    {
     "data": {
      "text/plain": [
       "array([[0., 0., 0., 0., 0., 0.],\n",
       "       [0., 0., 0., 0., 0., 0.],\n",
       "       [0., 0., 0., 0., 0., 0.],\n",
       "       [0., 0., 0., 0., 0., 0.]])"
      ]
     },
     "execution_count": 11,
     "metadata": {},
     "output_type": "execute_result"
    }
   ],
   "source": [
    "# np.zeros() to create an array filled with zeros :\n",
    "np.zeros(shape = [4,6])"
   ]
  },
  {
   "cell_type": "markdown",
   "id": "29b6ccf6",
   "metadata": {
    "papermill": {
     "duration": 0.018056,
     "end_time": "2023-11-20T06:22:50.024045",
     "exception": false,
     "start_time": "2023-11-20T06:22:50.005989",
     "status": "completed"
    },
    "tags": []
   },
   "source": [
    "# **Array Indexing and Slicing**"
   ]
  },
  {
   "cell_type": "code",
   "execution_count": 12,
   "id": "16ff98ce",
   "metadata": {
    "execution": {
     "iopub.execute_input": "2023-11-20T06:22:50.064053Z",
     "iopub.status.busy": "2023-11-20T06:22:50.063635Z",
     "iopub.status.idle": "2023-11-20T06:22:50.070699Z",
     "shell.execute_reply": "2023-11-20T06:22:50.069856Z"
    },
    "papermill": {
     "duration": 0.02976,
     "end_time": "2023-11-20T06:22:50.072970",
     "exception": false,
     "start_time": "2023-11-20T06:22:50.043210",
     "status": "completed"
    },
    "tags": []
   },
   "outputs": [
    {
     "data": {
      "text/plain": [
       "4"
      ]
     },
     "execution_count": 12,
     "metadata": {},
     "output_type": "execute_result"
    }
   ],
   "source": [
    "one_d_array = np.array([1,2,3,4,5,6])\n",
    "one_d_array[3]   # Get the item at index 3"
   ]
  },
  {
   "cell_type": "code",
   "execution_count": 13,
   "id": "129db2e6",
   "metadata": {
    "execution": {
     "iopub.execute_input": "2023-11-20T06:22:50.109734Z",
     "iopub.status.busy": "2023-11-20T06:22:50.109344Z",
     "iopub.status.idle": "2023-11-20T06:22:50.116054Z",
     "shell.execute_reply": "2023-11-20T06:22:50.114989Z"
    },
    "papermill": {
     "duration": 0.027946,
     "end_time": "2023-11-20T06:22:50.118439",
     "exception": false,
     "start_time": "2023-11-20T06:22:50.090493",
     "status": "completed"
    },
    "tags": []
   },
   "outputs": [
    {
     "data": {
      "text/plain": [
       "array([4, 5, 6])"
      ]
     },
     "execution_count": 13,
     "metadata": {},
     "output_type": "execute_result"
    }
   ],
   "source": [
    "one_d_array[3:]  "
   ]
  },
  {
   "cell_type": "code",
   "execution_count": 14,
   "id": "751626ac",
   "metadata": {
    "execution": {
     "iopub.execute_input": "2023-11-20T06:22:50.155463Z",
     "iopub.status.busy": "2023-11-20T06:22:50.155087Z",
     "iopub.status.idle": "2023-11-20T06:22:50.162090Z",
     "shell.execute_reply": "2023-11-20T06:22:50.161261Z"
    },
    "papermill": {
     "duration": 0.028373,
     "end_time": "2023-11-20T06:22:50.164549",
     "exception": false,
     "start_time": "2023-11-20T06:22:50.136176",
     "status": "completed"
    },
    "tags": []
   },
   "outputs": [
    {
     "data": {
      "text/plain": [
       "array([6, 5, 4, 3, 2, 1])"
      ]
     },
     "execution_count": 14,
     "metadata": {},
     "output_type": "execute_result"
    }
   ],
   "source": [
    "one_d_array[:: -1]"
   ]
  },
  {
   "cell_type": "code",
   "execution_count": 15,
   "id": "5d46a7c6",
   "metadata": {
    "execution": {
     "iopub.execute_input": "2023-11-20T06:22:50.202656Z",
     "iopub.status.busy": "2023-11-20T06:22:50.202284Z",
     "iopub.status.idle": "2023-11-20T06:22:50.209950Z",
     "shell.execute_reply": "2023-11-20T06:22:50.208946Z"
    },
    "papermill": {
     "duration": 0.030272,
     "end_time": "2023-11-20T06:22:50.212691",
     "exception": false,
     "start_time": "2023-11-20T06:22:50.182419",
     "status": "completed"
    },
    "tags": []
   },
   "outputs": [
    {
     "name": "stdout",
     "output_type": "stream",
     "text": [
      "[[ 1  2  3  4  5  6]\n",
      " [ 7  8  9 10 11 12]\n",
      " [13 14 15 16 17 18]]\n"
     ]
    }
   ],
   "source": [
    "two_d_array = np.array([one_d_array, one_d_array + 6, one_d_array + 12])\n",
    "print(two_d_array)"
   ]
  },
  {
   "cell_type": "code",
   "execution_count": 16,
   "id": "972413b1",
   "metadata": {
    "execution": {
     "iopub.execute_input": "2023-11-20T06:22:50.251269Z",
     "iopub.status.busy": "2023-11-20T06:22:50.250871Z",
     "iopub.status.idle": "2023-11-20T06:22:50.257898Z",
     "shell.execute_reply": "2023-11-20T06:22:50.256690Z"
    },
    "papermill": {
     "duration": 0.028907,
     "end_time": "2023-11-20T06:22:50.260216",
     "exception": false,
     "start_time": "2023-11-20T06:22:50.231309",
     "status": "completed"
    },
    "tags": []
   },
   "outputs": [
    {
     "data": {
      "text/plain": [
       "11"
      ]
     },
     "execution_count": 16,
     "metadata": {},
     "output_type": "execute_result"
    }
   ],
   "source": [
    "# Get the lement at row index 1, column index 4\n",
    "two_d_array[1,4]"
   ]
  },
  {
   "cell_type": "code",
   "execution_count": 17,
   "id": "3186cdf5",
   "metadata": {
    "execution": {
     "iopub.execute_input": "2023-11-20T06:22:50.297931Z",
     "iopub.status.busy": "2023-11-20T06:22:50.297495Z",
     "iopub.status.idle": "2023-11-20T06:22:50.305145Z",
     "shell.execute_reply": "2023-11-20T06:22:50.304004Z"
    },
    "papermill": {
     "duration": 0.029336,
     "end_time": "2023-11-20T06:22:50.307484",
     "exception": false,
     "start_time": "2023-11-20T06:22:50.278148",
     "status": "completed"
    },
    "tags": []
   },
   "outputs": [
    {
     "data": {
      "text/plain": [
       "array([[11, 12],\n",
       "       [17, 18]])"
      ]
     },
     "execution_count": 17,
     "metadata": {},
     "output_type": "execute_result"
    }
   ],
   "source": [
    "# Slice emements starting at row 2, and column 5\n",
    "two_d_array[1:, 4:]"
   ]
  },
  {
   "cell_type": "code",
   "execution_count": 18,
   "id": "6cec2de7",
   "metadata": {
    "execution": {
     "iopub.execute_input": "2023-11-20T06:22:50.345510Z",
     "iopub.status.busy": "2023-11-20T06:22:50.345116Z",
     "iopub.status.idle": "2023-11-20T06:22:50.352991Z",
     "shell.execute_reply": "2023-11-20T06:22:50.351790Z"
    },
    "papermill": {
     "duration": 0.029803,
     "end_time": "2023-11-20T06:22:50.355375",
     "exception": false,
     "start_time": "2023-11-20T06:22:50.325572",
     "status": "completed"
    },
    "tags": []
   },
   "outputs": [
    {
     "data": {
      "text/plain": [
       "array([[18, 17, 16, 15, 14, 13],\n",
       "       [12, 11, 10,  9,  8,  7],\n",
       "       [ 6,  5,  4,  3,  2,  1]])"
      ]
     },
     "execution_count": 18,
     "metadata": {},
     "output_type": "execute_result"
    }
   ],
   "source": [
    "# reverse both dimensions (180 degree rotation)\n",
    "two_d_array[::-1, ::-1]"
   ]
  },
  {
   "cell_type": "markdown",
   "id": "745783e1",
   "metadata": {
    "papermill": {
     "duration": 0.018119,
     "end_time": "2023-11-20T06:22:50.391855",
     "exception": false,
     "start_time": "2023-11-20T06:22:50.373736",
     "status": "completed"
    },
    "tags": []
   },
   "source": [
    "# **Reshaping Arrays**"
   ]
  },
  {
   "cell_type": "code",
   "execution_count": 19,
   "id": "2705b247",
   "metadata": {
    "execution": {
     "iopub.execute_input": "2023-11-20T06:22:50.430122Z",
     "iopub.status.busy": "2023-11-20T06:22:50.429687Z",
     "iopub.status.idle": "2023-11-20T06:22:50.437377Z",
     "shell.execute_reply": "2023-11-20T06:22:50.436229Z"
    },
    "papermill": {
     "duration": 0.029828,
     "end_time": "2023-11-20T06:22:50.439915",
     "exception": false,
     "start_time": "2023-11-20T06:22:50.410087",
     "status": "completed"
    },
    "tags": []
   },
   "outputs": [
    {
     "data": {
      "text/plain": [
       "array([[ 1,  2,  3],\n",
       "       [ 4,  5,  6],\n",
       "       [ 7,  8,  9],\n",
       "       [10, 11, 12],\n",
       "       [13, 14, 15],\n",
       "       [16, 17, 18]])"
      ]
     },
     "execution_count": 19,
     "metadata": {},
     "output_type": "execute_result"
    }
   ],
   "source": [
    "np.reshape(a=two_d_array,      # Array to reshape\n",
    "          newshape = (6,3))   # Dimensions of the new array"
   ]
  },
  {
   "cell_type": "code",
   "execution_count": 20,
   "id": "77f86117",
   "metadata": {
    "execution": {
     "iopub.execute_input": "2023-11-20T06:22:50.479227Z",
     "iopub.status.busy": "2023-11-20T06:22:50.478782Z",
     "iopub.status.idle": "2023-11-20T06:22:50.486638Z",
     "shell.execute_reply": "2023-11-20T06:22:50.485488Z"
    },
    "papermill": {
     "duration": 0.0303,
     "end_time": "2023-11-20T06:22:50.488998",
     "exception": false,
     "start_time": "2023-11-20T06:22:50.458698",
     "status": "completed"
    },
    "tags": []
   },
   "outputs": [
    {
     "data": {
      "text/plain": [
       "array([ 1,  2,  3,  4,  5,  6,  7,  8,  9, 10, 11, 12, 13, 14, 15, 16, 17,\n",
       "       18])"
      ]
     },
     "execution_count": 20,
     "metadata": {},
     "output_type": "execute_result"
    }
   ],
   "source": [
    "np.ravel(a=two_d_array,      # Use C-style unraveling (by rows)\n",
    "          order = 'C') "
   ]
  },
  {
   "cell_type": "code",
   "execution_count": 21,
   "id": "bcaafd34",
   "metadata": {
    "execution": {
     "iopub.execute_input": "2023-11-20T06:22:50.528487Z",
     "iopub.status.busy": "2023-11-20T06:22:50.527530Z",
     "iopub.status.idle": "2023-11-20T06:22:50.534848Z",
     "shell.execute_reply": "2023-11-20T06:22:50.534012Z"
    },
    "papermill": {
     "duration": 0.029355,
     "end_time": "2023-11-20T06:22:50.536950",
     "exception": false,
     "start_time": "2023-11-20T06:22:50.507595",
     "status": "completed"
    },
    "tags": []
   },
   "outputs": [
    {
     "data": {
      "text/plain": [
       "array([ 1,  7, 13,  2,  8, 14,  3,  9, 15,  4, 10, 16,  5, 11, 17,  6, 12,\n",
       "       18])"
      ]
     },
     "execution_count": 21,
     "metadata": {},
     "output_type": "execute_result"
    }
   ],
   "source": [
    "np.ravel(a=two_d_array,      # Use C-style unraveling (by columns)\n",
    "          order = 'F') "
   ]
  },
  {
   "cell_type": "code",
   "execution_count": 22,
   "id": "ab95c4dc",
   "metadata": {
    "execution": {
     "iopub.execute_input": "2023-11-20T06:22:50.576367Z",
     "iopub.status.busy": "2023-11-20T06:22:50.575956Z",
     "iopub.status.idle": "2023-11-20T06:22:50.583133Z",
     "shell.execute_reply": "2023-11-20T06:22:50.582009Z"
    },
    "papermill": {
     "duration": 0.02962,
     "end_time": "2023-11-20T06:22:50.585344",
     "exception": false,
     "start_time": "2023-11-20T06:22:50.555724",
     "status": "completed"
    },
    "tags": []
   },
   "outputs": [
    {
     "data": {
      "text/plain": [
       "array([ 1,  2,  3,  4,  5,  6,  7,  8,  9, 10, 11, 12, 13, 14, 15, 16, 17,\n",
       "       18])"
      ]
     },
     "execution_count": 22,
     "metadata": {},
     "output_type": "execute_result"
    }
   ],
   "source": [
    "two_d_array.flatten()"
   ]
  },
  {
   "cell_type": "code",
   "execution_count": 23,
   "id": "f934bd85",
   "metadata": {
    "execution": {
     "iopub.execute_input": "2023-11-20T06:22:50.625757Z",
     "iopub.status.busy": "2023-11-20T06:22:50.625348Z",
     "iopub.status.idle": "2023-11-20T06:22:50.632341Z",
     "shell.execute_reply": "2023-11-20T06:22:50.631265Z"
    },
    "papermill": {
     "duration": 0.030521,
     "end_time": "2023-11-20T06:22:50.634771",
     "exception": false,
     "start_time": "2023-11-20T06:22:50.604250",
     "status": "completed"
    },
    "tags": []
   },
   "outputs": [
    {
     "data": {
      "text/plain": [
       "array([[ 1,  7, 13],\n",
       "       [ 2,  8, 14],\n",
       "       [ 3,  9, 15],\n",
       "       [ 4, 10, 16],\n",
       "       [ 5, 11, 17],\n",
       "       [ 6, 12, 18]])"
      ]
     },
     "execution_count": 23,
     "metadata": {},
     "output_type": "execute_result"
    }
   ],
   "source": [
    "two_d_array.T"
   ]
  },
  {
   "cell_type": "code",
   "execution_count": 24,
   "id": "159abcf2",
   "metadata": {
    "execution": {
     "iopub.execute_input": "2023-11-20T06:22:50.675397Z",
     "iopub.status.busy": "2023-11-20T06:22:50.675038Z",
     "iopub.status.idle": "2023-11-20T06:22:50.681583Z",
     "shell.execute_reply": "2023-11-20T06:22:50.680528Z"
    },
    "papermill": {
     "duration": 0.029459,
     "end_time": "2023-11-20T06:22:50.683872",
     "exception": false,
     "start_time": "2023-11-20T06:22:50.654413",
     "status": "completed"
    },
    "tags": []
   },
   "outputs": [
    {
     "data": {
      "text/plain": [
       "array([[13, 14, 15, 16, 17, 18],\n",
       "       [ 7,  8,  9, 10, 11, 12],\n",
       "       [ 1,  2,  3,  4,  5,  6]])"
      ]
     },
     "execution_count": 24,
     "metadata": {},
     "output_type": "execute_result"
    }
   ],
   "source": [
    "np.flipud(two_d_array)"
   ]
  },
  {
   "cell_type": "code",
   "execution_count": 25,
   "id": "9a705096",
   "metadata": {
    "execution": {
     "iopub.execute_input": "2023-11-20T06:22:50.724505Z",
     "iopub.status.busy": "2023-11-20T06:22:50.723882Z",
     "iopub.status.idle": "2023-11-20T06:22:50.730955Z",
     "shell.execute_reply": "2023-11-20T06:22:50.729809Z"
    },
    "papermill": {
     "duration": 0.030205,
     "end_time": "2023-11-20T06:22:50.733093",
     "exception": false,
     "start_time": "2023-11-20T06:22:50.702888",
     "status": "completed"
    },
    "tags": []
   },
   "outputs": [
    {
     "data": {
      "text/plain": [
       "array([[ 6,  5,  4,  3,  2,  1],\n",
       "       [12, 11, 10,  9,  8,  7],\n",
       "       [18, 17, 16, 15, 14, 13]])"
      ]
     },
     "execution_count": 25,
     "metadata": {},
     "output_type": "execute_result"
    }
   ],
   "source": [
    "np.fliplr(two_d_array)"
   ]
  },
  {
   "cell_type": "code",
   "execution_count": 26,
   "id": "8970ecd3",
   "metadata": {
    "execution": {
     "iopub.execute_input": "2023-11-20T06:22:50.774382Z",
     "iopub.status.busy": "2023-11-20T06:22:50.773911Z",
     "iopub.status.idle": "2023-11-20T06:22:50.781598Z",
     "shell.execute_reply": "2023-11-20T06:22:50.780500Z"
    },
    "papermill": {
     "duration": 0.031733,
     "end_time": "2023-11-20T06:22:50.783940",
     "exception": false,
     "start_time": "2023-11-20T06:22:50.752207",
     "status": "completed"
    },
    "tags": []
   },
   "outputs": [
    {
     "data": {
      "text/plain": [
       "array([[ 6, 12, 18],\n",
       "       [ 5, 11, 17],\n",
       "       [ 4, 10, 16],\n",
       "       [ 3,  9, 15],\n",
       "       [ 2,  8, 14],\n",
       "       [ 1,  7, 13]])"
      ]
     },
     "execution_count": 26,
     "metadata": {},
     "output_type": "execute_result"
    }
   ],
   "source": [
    "np.rot90(two_d_array,\n",
    "        k=1)   # Number of 90 degree rotations"
   ]
  },
  {
   "cell_type": "code",
   "execution_count": 27,
   "id": "b4aa57fa",
   "metadata": {
    "execution": {
     "iopub.execute_input": "2023-11-20T06:22:50.825440Z",
     "iopub.status.busy": "2023-11-20T06:22:50.824756Z",
     "iopub.status.idle": "2023-11-20T06:22:50.832265Z",
     "shell.execute_reply": "2023-11-20T06:22:50.831052Z"
    },
    "papermill": {
     "duration": 0.031067,
     "end_time": "2023-11-20T06:22:50.834701",
     "exception": false,
     "start_time": "2023-11-20T06:22:50.803634",
     "status": "completed"
    },
    "tags": []
   },
   "outputs": [
    {
     "data": {
      "text/plain": [
       "array([[ 5,  6,  1,  2,  3,  4],\n",
       "       [11, 12,  7,  8,  9, 10],\n",
       "       [17, 18, 13, 14, 15, 16]])"
      ]
     },
     "execution_count": 27,
     "metadata": {},
     "output_type": "execute_result"
    }
   ],
   "source": [
    "np.roll(a = two_d_array,\n",
    "       shift = 2,  # Shift elements 2 positions\n",
    "       axis =1) #in each row"
   ]
  },
  {
   "cell_type": "code",
   "execution_count": 28,
   "id": "f4586275",
   "metadata": {
    "execution": {
     "iopub.execute_input": "2023-11-20T06:22:50.876789Z",
     "iopub.status.busy": "2023-11-20T06:22:50.876411Z",
     "iopub.status.idle": "2023-11-20T06:22:50.883494Z",
     "shell.execute_reply": "2023-11-20T06:22:50.882229Z"
    },
    "papermill": {
     "duration": 0.031106,
     "end_time": "2023-11-20T06:22:50.886126",
     "exception": false,
     "start_time": "2023-11-20T06:22:50.855020",
     "status": "completed"
    },
    "tags": []
   },
   "outputs": [
    {
     "data": {
      "text/plain": [
       "array([[17, 18,  1,  2,  3,  4],\n",
       "       [ 5,  6,  7,  8,  9, 10],\n",
       "       [11, 12, 13, 14, 15, 16]])"
      ]
     },
     "execution_count": 28,
     "metadata": {},
     "output_type": "execute_result"
    }
   ],
   "source": [
    "np.roll(a = two_d_array,\n",
    "       shift = 2)"
   ]
  },
  {
   "cell_type": "code",
   "execution_count": 29,
   "id": "e60017fe",
   "metadata": {
    "execution": {
     "iopub.execute_input": "2023-11-20T06:22:50.928839Z",
     "iopub.status.busy": "2023-11-20T06:22:50.928446Z",
     "iopub.status.idle": "2023-11-20T06:22:50.937776Z",
     "shell.execute_reply": "2023-11-20T06:22:50.936633Z"
    },
    "papermill": {
     "duration": 0.033261,
     "end_time": "2023-11-20T06:22:50.940229",
     "exception": false,
     "start_time": "2023-11-20T06:22:50.906968",
     "status": "completed"
    },
    "tags": []
   },
   "outputs": [
    {
     "data": {
      "text/plain": [
       "array([[ 1,  2,  3,  4,  5,  6, 10, 20, 30],\n",
       "       [ 7,  8,  9, 10, 11, 12, 40, 50, 60],\n",
       "       [13, 14, 15, 16, 17, 18, 70, 80, 90]])"
      ]
     },
     "execution_count": 29,
     "metadata": {},
     "output_type": "execute_result"
    }
   ],
   "source": [
    "array_to_join = np.array ([[10,20,30],[40,50,60],[70,80,90]])\n",
    "np.concatenate((two_d_array,array_to_join), # Arrays to join\n",
    "              axis=1)                        # Axis to join upon"
   ]
  },
  {
   "cell_type": "markdown",
   "id": "002aac33",
   "metadata": {
    "papermill": {
     "duration": 0.019905,
     "end_time": "2023-11-20T06:22:50.980448",
     "exception": false,
     "start_time": "2023-11-20T06:22:50.960543",
     "status": "completed"
    },
    "tags": []
   },
   "source": [
    "# **Array Math Operations**"
   ]
  },
  {
   "cell_type": "code",
   "execution_count": 30,
   "id": "6005b022",
   "metadata": {
    "execution": {
     "iopub.execute_input": "2023-11-20T06:22:51.024178Z",
     "iopub.status.busy": "2023-11-20T06:22:51.023777Z",
     "iopub.status.idle": "2023-11-20T06:22:51.031069Z",
     "shell.execute_reply": "2023-11-20T06:22:51.029947Z"
    },
    "papermill": {
     "duration": 0.032945,
     "end_time": "2023-11-20T06:22:51.033419",
     "exception": false,
     "start_time": "2023-11-20T06:22:51.000474",
     "status": "completed"
    },
    "tags": []
   },
   "outputs": [
    {
     "data": {
      "text/plain": [
       "array([[101, 102, 103, 104, 105, 106],\n",
       "       [107, 108, 109, 110, 111, 112],\n",
       "       [113, 114, 115, 116, 117, 118]])"
      ]
     },
     "execution_count": 30,
     "metadata": {},
     "output_type": "execute_result"
    }
   ],
   "source": [
    "two_d_array + 100  # Add 100 to each element"
   ]
  },
  {
   "cell_type": "code",
   "execution_count": 31,
   "id": "77a87eba",
   "metadata": {
    "execution": {
     "iopub.execute_input": "2023-11-20T06:22:51.076250Z",
     "iopub.status.busy": "2023-11-20T06:22:51.075603Z",
     "iopub.status.idle": "2023-11-20T06:22:51.082414Z",
     "shell.execute_reply": "2023-11-20T06:22:51.081335Z"
    },
    "papermill": {
     "duration": 0.030883,
     "end_time": "2023-11-20T06:22:51.084716",
     "exception": false,
     "start_time": "2023-11-20T06:22:51.053833",
     "status": "completed"
    },
    "tags": []
   },
   "outputs": [
    {
     "data": {
      "text/plain": [
       "array([[-99, -98, -97, -96, -95, -94],\n",
       "       [-93, -92, -91, -90, -89, -88],\n",
       "       [-87, -86, -85, -84, -83, -82]])"
      ]
     },
     "execution_count": 31,
     "metadata": {},
     "output_type": "execute_result"
    }
   ],
   "source": [
    "two_d_array -100"
   ]
  },
  {
   "cell_type": "code",
   "execution_count": 32,
   "id": "9acef769",
   "metadata": {
    "execution": {
     "iopub.execute_input": "2023-11-20T06:22:51.128127Z",
     "iopub.status.busy": "2023-11-20T06:22:51.127699Z",
     "iopub.status.idle": "2023-11-20T06:22:51.134716Z",
     "shell.execute_reply": "2023-11-20T06:22:51.133675Z"
    },
    "papermill": {
     "duration": 0.031199,
     "end_time": "2023-11-20T06:22:51.137108",
     "exception": false,
     "start_time": "2023-11-20T06:22:51.105909",
     "status": "completed"
    },
    "tags": []
   },
   "outputs": [
    {
     "data": {
      "text/plain": [
       "array([[ 2,  4,  6,  8, 10, 12],\n",
       "       [14, 16, 18, 20, 22, 24],\n",
       "       [26, 28, 30, 32, 34, 36]])"
      ]
     },
     "execution_count": 32,
     "metadata": {},
     "output_type": "execute_result"
    }
   ],
   "source": [
    "two_d_array * 2"
   ]
  },
  {
   "cell_type": "code",
   "execution_count": 33,
   "id": "b3477710",
   "metadata": {
    "execution": {
     "iopub.execute_input": "2023-11-20T06:22:51.180711Z",
     "iopub.status.busy": "2023-11-20T06:22:51.180314Z",
     "iopub.status.idle": "2023-11-20T06:22:51.187382Z",
     "shell.execute_reply": "2023-11-20T06:22:51.186291Z"
    },
    "papermill": {
     "duration": 0.031623,
     "end_time": "2023-11-20T06:22:51.189727",
     "exception": false,
     "start_time": "2023-11-20T06:22:51.158104",
     "status": "completed"
    },
    "tags": []
   },
   "outputs": [
    {
     "data": {
      "text/plain": [
       "array([[  1,   4,   9,  16,  25,  36],\n",
       "       [ 49,  64,  81, 100, 121, 144],\n",
       "       [169, 196, 225, 256, 289, 324]])"
      ]
     },
     "execution_count": 33,
     "metadata": {},
     "output_type": "execute_result"
    }
   ],
   "source": [
    "two_d_array ** 2"
   ]
  },
  {
   "cell_type": "code",
   "execution_count": 34,
   "id": "06e5d659",
   "metadata": {
    "execution": {
     "iopub.execute_input": "2023-11-20T06:22:51.233652Z",
     "iopub.status.busy": "2023-11-20T06:22:51.233239Z",
     "iopub.status.idle": "2023-11-20T06:22:51.240149Z",
     "shell.execute_reply": "2023-11-20T06:22:51.239119Z"
    },
    "papermill": {
     "duration": 0.031602,
     "end_time": "2023-11-20T06:22:51.242637",
     "exception": false,
     "start_time": "2023-11-20T06:22:51.211035",
     "status": "completed"
    },
    "tags": []
   },
   "outputs": [
    {
     "data": {
      "text/plain": [
       "array([[1, 0, 1, 0, 1, 0],\n",
       "       [1, 0, 1, 0, 1, 0],\n",
       "       [1, 0, 1, 0, 1, 0]])"
      ]
     },
     "execution_count": 34,
     "metadata": {},
     "output_type": "execute_result"
    }
   ],
   "source": [
    "two_d_array % 2"
   ]
  },
  {
   "cell_type": "code",
   "execution_count": 35,
   "id": "96ea9d70",
   "metadata": {
    "execution": {
     "iopub.execute_input": "2023-11-20T06:22:51.286068Z",
     "iopub.status.busy": "2023-11-20T06:22:51.285639Z",
     "iopub.status.idle": "2023-11-20T06:22:51.292116Z",
     "shell.execute_reply": "2023-11-20T06:22:51.291035Z"
    },
    "papermill": {
     "duration": 0.031303,
     "end_time": "2023-11-20T06:22:51.294666",
     "exception": false,
     "start_time": "2023-11-20T06:22:51.263363",
     "status": "completed"
    },
    "tags": []
   },
   "outputs": [
    {
     "data": {
      "text/plain": [
       "array([[ 1,  2,  3,  4,  5,  6],\n",
       "       [ 7,  8,  9, 10, 11, 12],\n",
       "       [13, 14, 15, 16, 17, 18]])"
      ]
     },
     "execution_count": 35,
     "metadata": {},
     "output_type": "execute_result"
    }
   ],
   "source": [
    "two_d_array"
   ]
  },
  {
   "cell_type": "code",
   "execution_count": 36,
   "id": "6c653739",
   "metadata": {
    "execution": {
     "iopub.execute_input": "2023-11-20T06:22:51.339307Z",
     "iopub.status.busy": "2023-11-20T06:22:51.338928Z",
     "iopub.status.idle": "2023-11-20T06:22:51.346021Z",
     "shell.execute_reply": "2023-11-20T06:22:51.344991Z"
    },
    "papermill": {
     "duration": 0.032228,
     "end_time": "2023-11-20T06:22:51.348548",
     "exception": false,
     "start_time": "2023-11-20T06:22:51.316320",
     "status": "completed"
    },
    "tags": []
   },
   "outputs": [
    {
     "data": {
      "text/plain": [
       "array([[2, 4],\n",
       "       [6, 8]])"
      ]
     },
     "execution_count": 36,
     "metadata": {},
     "output_type": "execute_result"
    }
   ],
   "source": [
    "small_array1 = np.array([[1,2],[3,4]])\n",
    "small_array1 + small_array1"
   ]
  },
  {
   "cell_type": "code",
   "execution_count": 37,
   "id": "0217d3b8",
   "metadata": {
    "execution": {
     "iopub.execute_input": "2023-11-20T06:22:51.393196Z",
     "iopub.status.busy": "2023-11-20T06:22:51.392770Z",
     "iopub.status.idle": "2023-11-20T06:22:51.399573Z",
     "shell.execute_reply": "2023-11-20T06:22:51.398509Z"
    },
    "papermill": {
     "duration": 0.032215,
     "end_time": "2023-11-20T06:22:51.402072",
     "exception": false,
     "start_time": "2023-11-20T06:22:51.369857",
     "status": "completed"
    },
    "tags": []
   },
   "outputs": [
    {
     "data": {
      "text/plain": [
       "array([[0, 0],\n",
       "       [0, 0]])"
      ]
     },
     "execution_count": 37,
     "metadata": {},
     "output_type": "execute_result"
    }
   ],
   "source": [
    "small_array1 - small_array1"
   ]
  },
  {
   "cell_type": "code",
   "execution_count": 38,
   "id": "18381860",
   "metadata": {
    "execution": {
     "iopub.execute_input": "2023-11-20T06:22:51.446479Z",
     "iopub.status.busy": "2023-11-20T06:22:51.446124Z",
     "iopub.status.idle": "2023-11-20T06:22:51.453298Z",
     "shell.execute_reply": "2023-11-20T06:22:51.452093Z"
    },
    "papermill": {
     "duration": 0.032147,
     "end_time": "2023-11-20T06:22:51.455551",
     "exception": false,
     "start_time": "2023-11-20T06:22:51.423404",
     "status": "completed"
    },
    "tags": []
   },
   "outputs": [
    {
     "data": {
      "text/plain": [
       "array([[ 1,  4],\n",
       "       [ 9, 16]])"
      ]
     },
     "execution_count": 38,
     "metadata": {},
     "output_type": "execute_result"
    }
   ],
   "source": [
    "small_array1 * small_array1"
   ]
  },
  {
   "cell_type": "code",
   "execution_count": 39,
   "id": "a0195def",
   "metadata": {
    "execution": {
     "iopub.execute_input": "2023-11-20T06:22:51.501138Z",
     "iopub.status.busy": "2023-11-20T06:22:51.500703Z",
     "iopub.status.idle": "2023-11-20T06:22:51.507557Z",
     "shell.execute_reply": "2023-11-20T06:22:51.506765Z"
    },
    "papermill": {
     "duration": 0.032011,
     "end_time": "2023-11-20T06:22:51.509722",
     "exception": false,
     "start_time": "2023-11-20T06:22:51.477711",
     "status": "completed"
    },
    "tags": []
   },
   "outputs": [
    {
     "data": {
      "text/plain": [
       "array([[  1,   4],\n",
       "       [ 27, 256]])"
      ]
     },
     "execution_count": 39,
     "metadata": {},
     "output_type": "execute_result"
    }
   ],
   "source": [
    "small_array1 ** small_array1"
   ]
  },
  {
   "cell_type": "code",
   "execution_count": 40,
   "id": "8cc72a88",
   "metadata": {
    "execution": {
     "iopub.execute_input": "2023-11-20T06:22:51.555888Z",
     "iopub.status.busy": "2023-11-20T06:22:51.555455Z",
     "iopub.status.idle": "2023-11-20T06:22:51.562260Z",
     "shell.execute_reply": "2023-11-20T06:22:51.561406Z"
    },
    "papermill": {
     "duration": 0.032249,
     "end_time": "2023-11-20T06:22:51.564495",
     "exception": false,
     "start_time": "2023-11-20T06:22:51.532246",
     "status": "completed"
    },
    "tags": []
   },
   "outputs": [
    {
     "data": {
      "text/plain": [
       "9.5"
      ]
     },
     "execution_count": 40,
     "metadata": {},
     "output_type": "execute_result"
    }
   ],
   "source": [
    "# Get the man of all the elements in an array with np.mean()\n",
    "np.mean(two_d_array)"
   ]
  },
  {
   "cell_type": "code",
   "execution_count": 41,
   "id": "0b562249",
   "metadata": {
    "execution": {
     "iopub.execute_input": "2023-11-20T06:22:51.611165Z",
     "iopub.status.busy": "2023-11-20T06:22:51.610377Z",
     "iopub.status.idle": "2023-11-20T06:22:51.618073Z",
     "shell.execute_reply": "2023-11-20T06:22:51.617219Z"
    },
    "papermill": {
     "duration": 0.03378,
     "end_time": "2023-11-20T06:22:51.620426",
     "exception": false,
     "start_time": "2023-11-20T06:22:51.586646",
     "status": "completed"
    },
    "tags": []
   },
   "outputs": [
    {
     "data": {
      "text/plain": [
       "array([ 3.5,  9.5, 15.5])"
      ]
     },
     "execution_count": 41,
     "metadata": {},
     "output_type": "execute_result"
    }
   ],
   "source": [
    "# Provide an axis argument to get means across a dimension\n",
    "\n",
    "np.mean(two_d_array,\n",
    "       axis = 1)   # get means of each row"
   ]
  },
  {
   "cell_type": "code",
   "execution_count": 42,
   "id": "b8376cde",
   "metadata": {
    "execution": {
     "iopub.execute_input": "2023-11-20T06:22:51.666667Z",
     "iopub.status.busy": "2023-11-20T06:22:51.666279Z",
     "iopub.status.idle": "2023-11-20T06:22:51.672988Z",
     "shell.execute_reply": "2023-11-20T06:22:51.671903Z"
    },
    "papermill": {
     "duration": 0.032331,
     "end_time": "2023-11-20T06:22:51.675245",
     "exception": false,
     "start_time": "2023-11-20T06:22:51.642914",
     "status": "completed"
    },
    "tags": []
   },
   "outputs": [
    {
     "data": {
      "text/plain": [
       "5.188127472091127"
      ]
     },
     "execution_count": 42,
     "metadata": {},
     "output_type": "execute_result"
    }
   ],
   "source": [
    "# Get the standard deviation all the elements in an array with np.std()\n",
    "np.std(two_d_array)"
   ]
  },
  {
   "cell_type": "code",
   "execution_count": 43,
   "id": "4559bb51",
   "metadata": {
    "execution": {
     "iopub.execute_input": "2023-11-20T06:22:51.721645Z",
     "iopub.status.busy": "2023-11-20T06:22:51.721265Z",
     "iopub.status.idle": "2023-11-20T06:22:51.728800Z",
     "shell.execute_reply": "2023-11-20T06:22:51.727695Z"
    },
    "papermill": {
     "duration": 0.033608,
     "end_time": "2023-11-20T06:22:51.731164",
     "exception": false,
     "start_time": "2023-11-20T06:22:51.697556",
     "status": "completed"
    },
    "tags": []
   },
   "outputs": [
    {
     "data": {
      "text/plain": [
       "array([1.70782513, 1.70782513, 1.70782513])"
      ]
     },
     "execution_count": 43,
     "metadata": {},
     "output_type": "execute_result"
    }
   ],
   "source": [
    "# Provide an axis argument to get standard deviation across a dimension\n",
    "\n",
    "np.std(two_d_array,\n",
    "      axis = 1)  # get stdev for each column"
   ]
  },
  {
   "cell_type": "code",
   "execution_count": 44,
   "id": "5dd0a66a",
   "metadata": {
    "execution": {
     "iopub.execute_input": "2023-11-20T06:22:51.778773Z",
     "iopub.status.busy": "2023-11-20T06:22:51.778373Z",
     "iopub.status.idle": "2023-11-20T06:22:51.785247Z",
     "shell.execute_reply": "2023-11-20T06:22:51.784174Z"
    },
    "papermill": {
     "duration": 0.034281,
     "end_time": "2023-11-20T06:22:51.787550",
     "exception": false,
     "start_time": "2023-11-20T06:22:51.753269",
     "status": "completed"
    },
    "tags": []
   },
   "outputs": [
    {
     "data": {
      "text/plain": [
       "array([21, 57, 93])"
      ]
     },
     "execution_count": 44,
     "metadata": {},
     "output_type": "execute_result"
    }
   ],
   "source": [
    "# Sum the elements of an array across an axis with np.sum()\n",
    "\n",
    "np.sum(two_d_array,\n",
    "      axis = 1)    # get the row sums"
   ]
  },
  {
   "cell_type": "code",
   "execution_count": 45,
   "id": "98fc29dd",
   "metadata": {
    "execution": {
     "iopub.execute_input": "2023-11-20T06:22:51.834519Z",
     "iopub.status.busy": "2023-11-20T06:22:51.833890Z",
     "iopub.status.idle": "2023-11-20T06:22:51.841599Z",
     "shell.execute_reply": "2023-11-20T06:22:51.840479Z"
    },
    "papermill": {
     "duration": 0.034068,
     "end_time": "2023-11-20T06:22:51.843899",
     "exception": false,
     "start_time": "2023-11-20T06:22:51.809831",
     "status": "completed"
    },
    "tags": []
   },
   "outputs": [
    {
     "data": {
      "text/plain": [
       "array([21, 24, 27, 30, 33, 36])"
      ]
     },
     "execution_count": 45,
     "metadata": {},
     "output_type": "execute_result"
    }
   ],
   "source": [
    "np.sum(two_d_array,\n",
    "      axis = 0)"
   ]
  },
  {
   "cell_type": "code",
   "execution_count": 46,
   "id": "51405de4",
   "metadata": {
    "execution": {
     "iopub.execute_input": "2023-11-20T06:22:51.890359Z",
     "iopub.status.busy": "2023-11-20T06:22:51.889945Z",
     "iopub.status.idle": "2023-11-20T06:22:51.897006Z",
     "shell.execute_reply": "2023-11-20T06:22:51.896203Z"
    },
    "papermill": {
     "duration": 0.032869,
     "end_time": "2023-11-20T06:22:51.899106",
     "exception": false,
     "start_time": "2023-11-20T06:22:51.866237",
     "status": "completed"
    },
    "tags": []
   },
   "outputs": [
    {
     "data": {
      "text/plain": [
       "array([[0.        , 0.69314718, 1.09861229, 1.38629436, 1.60943791,\n",
       "        1.79175947],\n",
       "       [1.94591015, 2.07944154, 2.19722458, 2.30258509, 2.39789527,\n",
       "        2.48490665],\n",
       "       [2.56494936, 2.63905733, 2.7080502 , 2.77258872, 2.83321334,\n",
       "        2.89037176]])"
      ]
     },
     "execution_count": 46,
     "metadata": {},
     "output_type": "execute_result"
    }
   ],
   "source": [
    "# Take the log of each element in an array with np.log()\n",
    "np.log(two_d_array)"
   ]
  },
  {
   "cell_type": "code",
   "execution_count": 47,
   "id": "4fc8b11d",
   "metadata": {
    "execution": {
     "iopub.execute_input": "2023-11-20T06:22:51.946749Z",
     "iopub.status.busy": "2023-11-20T06:22:51.946198Z",
     "iopub.status.idle": "2023-11-20T06:22:51.953402Z",
     "shell.execute_reply": "2023-11-20T06:22:51.952635Z"
    },
    "papermill": {
     "duration": 0.033249,
     "end_time": "2023-11-20T06:22:51.955467",
     "exception": false,
     "start_time": "2023-11-20T06:22:51.922218",
     "status": "completed"
    },
    "tags": []
   },
   "outputs": [
    {
     "data": {
      "text/plain": [
       "array([[1.        , 1.41421356, 1.73205081, 2.        , 2.23606798,\n",
       "        2.44948974],\n",
       "       [2.64575131, 2.82842712, 3.        , 3.16227766, 3.31662479,\n",
       "        3.46410162],\n",
       "       [3.60555128, 3.74165739, 3.87298335, 4.        , 4.12310563,\n",
       "        4.24264069]])"
      ]
     },
     "execution_count": 47,
     "metadata": {},
     "output_type": "execute_result"
    }
   ],
   "source": [
    "# Take the quare root of each element with np.sqrt()\n",
    "np.sqrt(two_d_array)"
   ]
  },
  {
   "cell_type": "code",
   "execution_count": 48,
   "id": "08f342ba",
   "metadata": {
    "execution": {
     "iopub.execute_input": "2023-11-20T06:22:52.003387Z",
     "iopub.status.busy": "2023-11-20T06:22:52.002952Z",
     "iopub.status.idle": "2023-11-20T06:22:52.010137Z",
     "shell.execute_reply": "2023-11-20T06:22:52.009142Z"
    },
    "papermill": {
     "duration": 0.034362,
     "end_time": "2023-11-20T06:22:52.012596",
     "exception": false,
     "start_time": "2023-11-20T06:22:51.978234",
     "status": "completed"
    },
    "tags": []
   },
   "outputs": [
    {
     "data": {
      "text/plain": [
       "217"
      ]
     },
     "execution_count": 48,
     "metadata": {},
     "output_type": "execute_result"
    }
   ],
   "source": [
    "# Take the vector dot product of row 0 and row 1\n",
    "np.dot(two_d_array[0,0:],  #Slice row 0\n",
    "      two_d_array[1,0:])    # Slice row 1"
   ]
  },
  {
   "cell_type": "code",
   "execution_count": 49,
   "id": "dd116a8a",
   "metadata": {
    "execution": {
     "iopub.execute_input": "2023-11-20T06:22:52.060837Z",
     "iopub.status.busy": "2023-11-20T06:22:52.060173Z",
     "iopub.status.idle": "2023-11-20T06:22:52.067050Z",
     "shell.execute_reply": "2023-11-20T06:22:52.066009Z"
    },
    "papermill": {
     "duration": 0.033213,
     "end_time": "2023-11-20T06:22:52.069199",
     "exception": false,
     "start_time": "2023-11-20T06:22:52.035986",
     "status": "completed"
    },
    "tags": []
   },
   "outputs": [
    {
     "data": {
      "text/plain": [
       "array([[ 7, 10],\n",
       "       [15, 22]])"
      ]
     },
     "execution_count": 49,
     "metadata": {},
     "output_type": "execute_result"
    }
   ],
   "source": [
    "# Do a matrix multiply\n",
    "\n",
    "np.dot(small_array1, small_array1)"
   ]
  }
 ],
 "metadata": {
  "kaggle": {
   "accelerator": "none",
   "dataSources": [],
   "dockerImageVersionId": 30587,
   "isGpuEnabled": false,
   "isInternetEnabled": false,
   "language": "python",
   "sourceType": "notebook"
  },
  "kernelspec": {
   "display_name": "Python 3",
   "language": "python",
   "name": "python3"
  },
  "language_info": {
   "codemirror_mode": {
    "name": "ipython",
    "version": 3
   },
   "file_extension": ".py",
   "mimetype": "text/x-python",
   "name": "python",
   "nbconvert_exporter": "python",
   "pygments_lexer": "ipython3",
   "version": "3.10.12"
  },
  "papermill": {
   "default_parameters": {},
   "duration": 7.135394,
   "end_time": "2023-11-20T06:22:52.612739",
   "environment_variables": {},
   "exception": null,
   "input_path": "__notebook__.ipynb",
   "output_path": "__notebook__.ipynb",
   "parameters": {},
   "start_time": "2023-11-20T06:22:45.477345",
   "version": "2.4.0"
  }
 },
 "nbformat": 4,
 "nbformat_minor": 5
}

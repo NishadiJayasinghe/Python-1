{
 "cells": [
  {
   "cell_type": "code",
   "execution_count": 1,
   "id": "e3df4e26",
   "metadata": {
    "_cell_guid": "b1076dfc-b9ad-4769-8c92-a6c4dae69d19",
    "_uuid": "8f2839f25d086af736a60e9eeb907d3b93b6e0e5",
    "execution": {
     "iopub.execute_input": "2023-11-15T00:29:07.812539Z",
     "iopub.status.busy": "2023-11-15T00:29:07.812033Z",
     "iopub.status.idle": "2023-11-15T00:29:08.279831Z",
     "shell.execute_reply": "2023-11-15T00:29:08.278379Z"
    },
    "papermill": {
     "duration": 0.476822,
     "end_time": "2023-11-15T00:29:08.282850",
     "exception": false,
     "start_time": "2023-11-15T00:29:07.806028",
     "status": "completed"
    },
    "tags": []
   },
   "outputs": [],
   "source": [
    "# This Python 3 environment comes with many helpful analytics libraries installed\n",
    "# It is defined by the kaggle/python Docker image: https://github.com/kaggle/docker-python\n",
    "# For example, here's several helpful packages to load\n",
    "\n",
    "import numpy as np # linear algebra\n",
    "import pandas as pd # data processing, CSV file I/O (e.g. pd.read_csv)\n",
    "\n",
    "# Input data files are available in the read-only \"../input/\" directory\n",
    "# For example, running this (by clicking run or pressing Shift+Enter) will list all files under the input directory\n",
    "\n",
    "import os\n",
    "for dirname, _, filenames in os.walk('/kaggle/input'):\n",
    "    for filename in filenames:\n",
    "        print(os.path.join(dirname, filename))\n",
    "\n",
    "# You can write up to 20GB to the current directory (/kaggle/working/) that gets preserved as output when you create a version using \"Save & Run All\" \n",
    "# You can also write temporary files to /kaggle/temp/, but they won't be saved outside of the current session"
   ]
  },
  {
   "cell_type": "markdown",
   "id": "e1779d11",
   "metadata": {
    "papermill": {
     "duration": 0.002823,
     "end_time": "2023-11-15T00:29:08.289239",
     "exception": false,
     "start_time": "2023-11-15T00:29:08.286416",
     "status": "completed"
    },
    "tags": []
   },
   "source": [
    "# **Variables**"
   ]
  },
  {
   "cell_type": "code",
   "execution_count": 2,
   "id": "ea60eff8",
   "metadata": {
    "execution": {
     "iopub.execute_input": "2023-11-15T00:29:08.297800Z",
     "iopub.status.busy": "2023-11-15T00:29:08.297144Z",
     "iopub.status.idle": "2023-11-15T00:29:08.303813Z",
     "shell.execute_reply": "2023-11-15T00:29:08.302559Z"
    },
    "papermill": {
     "duration": 0.014727,
     "end_time": "2023-11-15T00:29:08.306927",
     "exception": false,
     "start_time": "2023-11-15T00:29:08.292200",
     "status": "completed"
    },
    "tags": []
   },
   "outputs": [
    {
     "name": "stdout",
     "output_type": "stream",
     "text": [
      "10\n",
      "Python is fun\n",
      "False\n"
     ]
    }
   ],
   "source": [
    "x = 10\n",
    "y = \"Python is fun\"\n",
    "z = 144*0.5 == 12\n",
    "\n",
    "print(x)\n",
    "print(y)\n",
    "print(z)"
   ]
  },
  {
   "cell_type": "code",
   "execution_count": 3,
   "id": "dec2494d",
   "metadata": {
    "execution": {
     "iopub.execute_input": "2023-11-15T00:29:08.316125Z",
     "iopub.status.busy": "2023-11-15T00:29:08.315574Z",
     "iopub.status.idle": "2023-11-15T00:29:08.322337Z",
     "shell.execute_reply": "2023-11-15T00:29:08.320989Z"
    },
    "papermill": {
     "duration": 0.014215,
     "end_time": "2023-11-15T00:29:08.324479",
     "exception": false,
     "start_time": "2023-11-15T00:29:08.310264",
     "status": "completed"
    },
    "tags": []
   },
   "outputs": [
    {
     "name": "stdout",
     "output_type": "stream",
     "text": [
      "8\n",
      "10\n"
     ]
    }
   ],
   "source": [
    "p=8        #This works, ut it looks messy\n",
    "print(p)   \n",
    "\n",
    "p = 10   # Use spaces instead\n",
    "print(p)"
   ]
  },
  {
   "cell_type": "code",
   "execution_count": 4,
   "id": "d0fc7aba",
   "metadata": {
    "execution": {
     "iopub.execute_input": "2023-11-15T00:29:08.333242Z",
     "iopub.status.busy": "2023-11-15T00:29:08.332764Z",
     "iopub.status.idle": "2023-11-15T00:29:08.341546Z",
     "shell.execute_reply": "2023-11-15T00:29:08.340329Z"
    },
    "papermill": {
     "duration": 0.016003,
     "end_time": "2023-11-15T00:29:08.343800",
     "exception": false,
     "start_time": "2023-11-15T00:29:08.327797",
     "status": "completed"
    },
    "tags": []
   },
   "outputs": [
    {
     "data": {
      "text/plain": [
       "20"
      ]
     },
     "execution_count": 4,
     "metadata": {},
     "output_type": "execute_result"
    }
   ],
   "source": [
    "x + z + p"
   ]
  },
  {
   "cell_type": "code",
   "execution_count": 5,
   "id": "c9686d36",
   "metadata": {
    "execution": {
     "iopub.execute_input": "2023-11-15T00:29:08.352857Z",
     "iopub.status.busy": "2023-11-15T00:29:08.352380Z",
     "iopub.status.idle": "2023-11-15T00:29:08.358713Z",
     "shell.execute_reply": "2023-11-15T00:29:08.357199Z"
    },
    "papermill": {
     "duration": 0.013821,
     "end_time": "2023-11-15T00:29:08.360973",
     "exception": false,
     "start_time": "2023-11-15T00:29:08.347152",
     "status": "completed"
    },
    "tags": []
   },
   "outputs": [
    {
     "name": "stdout",
     "output_type": "stream",
     "text": [
      "4\n",
      "4\n"
     ]
    }
   ],
   "source": [
    "n = m = 4\n",
    "print(n)\n",
    "print(m)"
   ]
  },
  {
   "cell_type": "code",
   "execution_count": 6,
   "id": "6c7cf412",
   "metadata": {
    "execution": {
     "iopub.execute_input": "2023-11-15T00:29:08.370156Z",
     "iopub.status.busy": "2023-11-15T00:29:08.369373Z",
     "iopub.status.idle": "2023-11-15T00:29:08.375823Z",
     "shell.execute_reply": "2023-11-15T00:29:08.374656Z"
    },
    "papermill": {
     "duration": 0.01341,
     "end_time": "2023-11-15T00:29:08.377941",
     "exception": false,
     "start_time": "2023-11-15T00:29:08.364531",
     "status": "completed"
    },
    "tags": []
   },
   "outputs": [
    {
     "name": "stdout",
     "output_type": "stream",
     "text": [
      "10\n",
      "20\n",
      "30\n"
     ]
    }
   ],
   "source": [
    "# Assign 3 variables at the same time :\n",
    "x, y, z = (10, 20, 30)\n",
    "print(x)\n",
    "print(y)\n",
    "print(z)"
   ]
  },
  {
   "cell_type": "code",
   "execution_count": 7,
   "id": "fec36154",
   "metadata": {
    "execution": {
     "iopub.execute_input": "2023-11-15T00:29:08.387570Z",
     "iopub.status.busy": "2023-11-15T00:29:08.386724Z",
     "iopub.status.idle": "2023-11-15T00:29:08.393640Z",
     "shell.execute_reply": "2023-11-15T00:29:08.392199Z"
    },
    "papermill": {
     "duration": 0.014248,
     "end_time": "2023-11-15T00:29:08.395707",
     "exception": false,
     "start_time": "2023-11-15T00:29:08.381459",
     "status": "completed"
    },
    "tags": []
   },
   "outputs": [
    {
     "name": "stdout",
     "output_type": "stream",
     "text": [
      "20\n",
      "10\n"
     ]
    }
   ],
   "source": [
    "(x, y) = (y, x)\n",
    "\n",
    "print(x)\n",
    "print(y)"
   ]
  },
  {
   "cell_type": "code",
   "execution_count": 8,
   "id": "2f1afa3c",
   "metadata": {
    "execution": {
     "iopub.execute_input": "2023-11-15T00:29:08.405193Z",
     "iopub.status.busy": "2023-11-15T00:29:08.404066Z",
     "iopub.status.idle": "2023-11-15T00:29:08.410876Z",
     "shell.execute_reply": "2023-11-15T00:29:08.409549Z"
    },
    "papermill": {
     "duration": 0.013952,
     "end_time": "2023-11-15T00:29:08.413132",
     "exception": false,
     "start_time": "2023-11-15T00:29:08.399180",
     "status": "completed"
    },
    "tags": []
   },
   "outputs": [
    {
     "name": "stdout",
     "output_type": "stream",
     "text": [
      "Hello\n",
      "HELLO\n"
     ]
    }
   ],
   "source": [
    "x = \"Hello\" # Create a new string\n",
    "y = x   # Assign y the same object as x\n",
    "y = y.upper()  # Assign y the result of y.lower()\n",
    "print(x)\n",
    "print(y)"
   ]
  },
  {
   "cell_type": "code",
   "execution_count": 9,
   "id": "5fdb0db4",
   "metadata": {
    "execution": {
     "iopub.execute_input": "2023-11-15T00:29:08.422287Z",
     "iopub.status.busy": "2023-11-15T00:29:08.421759Z",
     "iopub.status.idle": "2023-11-15T00:29:08.428394Z",
     "shell.execute_reply": "2023-11-15T00:29:08.427304Z"
    },
    "papermill": {
     "duration": 0.014122,
     "end_time": "2023-11-15T00:29:08.430879",
     "exception": false,
     "start_time": "2023-11-15T00:29:08.416757",
     "status": "completed"
    },
    "tags": []
   },
   "outputs": [
    {
     "name": "stdout",
     "output_type": "stream",
     "text": [
      "[1, 2, 3, 4]\n",
      "[1, 2, 3, 4]\n"
     ]
    }
   ],
   "source": [
    "x = [1,2,3]   # create a new list\n",
    "y = x    # Assign y the same object as x\n",
    "y.append(4)   # add 4 to the end of list y\n",
    "print(x)\n",
    "print(y)"
   ]
  }
 ],
 "metadata": {
  "kaggle": {
   "accelerator": "none",
   "dataSources": [],
   "dockerImageVersionId": 30579,
   "isGpuEnabled": false,
   "isInternetEnabled": false,
   "language": "python",
   "sourceType": "notebook"
  },
  "kernelspec": {
   "display_name": "Python 3",
   "language": "python",
   "name": "python3"
  },
  "language_info": {
   "codemirror_mode": {
    "name": "ipython",
    "version": 3
   },
   "file_extension": ".py",
   "mimetype": "text/x-python",
   "name": "python",
   "nbconvert_exporter": "python",
   "pygments_lexer": "ipython3",
   "version": "3.10.12"
  },
  "papermill": {
   "default_parameters": {},
   "duration": 4.754489,
   "end_time": "2023-11-15T00:29:08.956088",
   "environment_variables": {},
   "exception": null,
   "input_path": "__notebook__.ipynb",
   "output_path": "__notebook__.ipynb",
   "parameters": {},
   "start_time": "2023-11-15T00:29:04.201599",
   "version": "2.4.0"
  }
 },
 "nbformat": 4,
 "nbformat_minor": 5
}

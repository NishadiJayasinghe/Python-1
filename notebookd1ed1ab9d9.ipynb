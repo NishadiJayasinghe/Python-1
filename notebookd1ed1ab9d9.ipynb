{
 "cells": [
  {
   "cell_type": "code",
   "execution_count": 1,
   "id": "b073549b",
   "metadata": {
    "_cell_guid": "b1076dfc-b9ad-4769-8c92-a6c4dae69d19",
    "_uuid": "8f2839f25d086af736a60e9eeb907d3b93b6e0e5",
    "execution": {
     "iopub.execute_input": "2023-11-12T00:58:25.388215Z",
     "iopub.status.busy": "2023-11-12T00:58:25.387869Z",
     "iopub.status.idle": "2023-11-12T00:58:25.709282Z",
     "shell.execute_reply": "2023-11-12T00:58:25.708151Z"
    },
    "papermill": {
     "duration": 0.33235,
     "end_time": "2023-11-12T00:58:25.711828",
     "exception": false,
     "start_time": "2023-11-12T00:58:25.379478",
     "status": "completed"
    },
    "tags": []
   },
   "outputs": [],
   "source": [
    "\n",
    "\n",
    "import numpy as np # linear algebra\n",
    "import pandas as pd # data processing, CSV file I/O (e.g. pd.read_csv)\n",
    "\n",
    "# Inut data files are available in the read-only \"../input/\" directory\n",
    "# For example, running this (by clicking run or pressing Shift+Enter) will list all files under the input directory\n",
    "\n",
    "import os\n",
    "for dirname, _, filenames in os.walk('/kaggle/input'):\n",
    "    for filename in filenames:\n",
    "        print(os.path.join(dirname, filename))\n",
    "\n",
    "# You can write up to 20GB to the current directory (/kaggle/working/) that gets preserved as output when you create a version using \"Save & Run All\" \n",
    "# You can also write temporary files to /kaggle/temp/, but they won't be saved outside of the current session"
   ]
  },
  {
   "cell_type": "markdown",
   "id": "7075cb3b",
   "metadata": {
    "papermill": {
     "duration": 0.005904,
     "end_time": "2023-11-12T00:58:25.724616",
     "exception": false,
     "start_time": "2023-11-12T00:58:25.718712",
     "status": "completed"
    },
    "tags": []
   },
   "source": [
    "# **Basic Math Operations**"
   ]
  },
  {
   "cell_type": "markdown",
   "id": "297e041d",
   "metadata": {
    "papermill": {
     "duration": 0.005767,
     "end_time": "2023-11-12T00:58:25.736415",
     "exception": false,
     "start_time": "2023-11-12T00:58:25.730648",
     "status": "completed"
    },
    "tags": []
   },
   "source": [
    "Use the + sign to perform addition"
   ]
  },
  {
   "cell_type": "code",
   "execution_count": 2,
   "id": "c0f55008",
   "metadata": {
    "execution": {
     "iopub.execute_input": "2023-11-12T00:58:25.750317Z",
     "iopub.status.busy": "2023-11-12T00:58:25.749850Z",
     "iopub.status.idle": "2023-11-12T00:58:25.757709Z",
     "shell.execute_reply": "2023-11-12T00:58:25.756606Z"
    },
    "papermill": {
     "duration": 0.017146,
     "end_time": "2023-11-12T00:58:25.759496",
     "exception": false,
     "start_time": "2023-11-12T00:58:25.742350",
     "status": "completed"
    },
    "tags": []
   },
   "outputs": [
    {
     "data": {
      "text/plain": [
       "15"
      ]
     },
     "execution_count": 2,
     "metadata": {},
     "output_type": "execute_result"
    }
   ],
   "source": [
    "10+5"
   ]
  },
  {
   "cell_type": "markdown",
   "id": "c41484d3",
   "metadata": {
    "papermill": {
     "duration": 0.005876,
     "end_time": "2023-11-12T00:58:25.771647",
     "exception": false,
     "start_time": "2023-11-12T00:58:25.765771",
     "status": "completed"
    },
    "tags": []
   },
   "source": [
    "Use the - sign to perform subtraction :\n",
    "\n",
    "**Note:**  putting a - sign in front of a number makes it negative"
   ]
  },
  {
   "cell_type": "code",
   "execution_count": 3,
   "id": "76b3dbe7",
   "metadata": {
    "execution": {
     "iopub.execute_input": "2023-11-12T00:58:25.785581Z",
     "iopub.status.busy": "2023-11-12T00:58:25.785127Z",
     "iopub.status.idle": "2023-11-12T00:58:25.790828Z",
     "shell.execute_reply": "2023-11-12T00:58:25.789973Z"
    },
    "papermill": {
     "duration": 0.014887,
     "end_time": "2023-11-12T00:58:25.792507",
     "exception": false,
     "start_time": "2023-11-12T00:58:25.777620",
     "status": "completed"
    },
    "tags": []
   },
   "outputs": [
    {
     "data": {
      "text/plain": [
       "5"
      ]
     },
     "execution_count": 3,
     "metadata": {},
     "output_type": "execute_result"
    }
   ],
   "source": [
    "10-5"
   ]
  },
  {
   "cell_type": "markdown",
   "id": "a3137da9",
   "metadata": {
    "papermill": {
     "duration": 0.005816,
     "end_time": "2023-11-12T00:58:25.804474",
     "exception": false,
     "start_time": "2023-11-12T00:58:25.798658",
     "status": "completed"
    },
    "tags": []
   },
   "source": [
    "Use * for multiplication :"
   ]
  },
  {
   "cell_type": "code",
   "execution_count": 4,
   "id": "25810fa2",
   "metadata": {
    "execution": {
     "iopub.execute_input": "2023-11-12T00:58:25.818751Z",
     "iopub.status.busy": "2023-11-12T00:58:25.818264Z",
     "iopub.status.idle": "2023-11-12T00:58:25.823390Z",
     "shell.execute_reply": "2023-11-12T00:58:25.822612Z"
    },
    "papermill": {
     "duration": 0.01464,
     "end_time": "2023-11-12T00:58:25.825134",
     "exception": false,
     "start_time": "2023-11-12T00:58:25.810494",
     "status": "completed"
    },
    "tags": []
   },
   "outputs": [
    {
     "data": {
      "text/plain": [
       "50"
      ]
     },
     "execution_count": 4,
     "metadata": {},
     "output_type": "execute_result"
    }
   ],
   "source": [
    "10*5"
   ]
  },
  {
   "cell_type": "markdown",
   "id": "fbd023af",
   "metadata": {
    "papermill": {
     "duration": 0.005966,
     "end_time": "2023-11-12T00:58:25.837568",
     "exception": false,
     "start_time": "2023-11-12T00:58:25.831602",
     "status": "completed"
    },
    "tags": []
   },
   "source": [
    "Use * for multiplication:"
   ]
  },
  {
   "cell_type": "code",
   "execution_count": 5,
   "id": "6574af7c",
   "metadata": {
    "execution": {
     "iopub.execute_input": "2023-11-12T00:58:25.851881Z",
     "iopub.status.busy": "2023-11-12T00:58:25.851371Z",
     "iopub.status.idle": "2023-11-12T00:58:25.856330Z",
     "shell.execute_reply": "2023-11-12T00:58:25.855684Z"
    },
    "papermill": {
     "duration": 0.013992,
     "end_time": "2023-11-12T00:58:25.857877",
     "exception": false,
     "start_time": "2023-11-12T00:58:25.843885",
     "status": "completed"
    },
    "tags": []
   },
   "outputs": [
    {
     "data": {
      "text/plain": [
       "2.0"
      ]
     },
     "execution_count": 5,
     "metadata": {},
     "output_type": "execute_result"
    }
   ],
   "source": [
    "10/5"
   ]
  },
  {
   "cell_type": "markdown",
   "id": "1c561ebf",
   "metadata": {
    "papermill": {
     "duration": 0.006046,
     "end_time": "2023-11-12T00:58:25.870250",
     "exception": false,
     "start_time": "2023-11-12T00:58:25.864204",
     "status": "completed"
    },
    "tags": []
   },
   "source": [
    "Use // for floor division (Round decimal remainders down):"
   ]
  },
  {
   "cell_type": "code",
   "execution_count": 6,
   "id": "8453833e",
   "metadata": {
    "execution": {
     "iopub.execute_input": "2023-11-12T00:58:25.884237Z",
     "iopub.status.busy": "2023-11-12T00:58:25.883919Z",
     "iopub.status.idle": "2023-11-12T00:58:25.888763Z",
     "shell.execute_reply": "2023-11-12T00:58:25.887961Z"
    },
    "papermill": {
     "duration": 0.014853,
     "end_time": "2023-11-12T00:58:25.891326",
     "exception": false,
     "start_time": "2023-11-12T00:58:25.876473",
     "status": "completed"
    },
    "tags": []
   },
   "outputs": [
    {
     "data": {
      "text/plain": [
       "2"
      ]
     },
     "execution_count": 6,
     "metadata": {},
     "output_type": "execute_result"
    }
   ],
   "source": [
    "10//5"
   ]
  },
  {
   "cell_type": "markdown",
   "id": "bfcbadc0",
   "metadata": {
    "papermill": {
     "duration": 0.00622,
     "end_time": "2023-11-12T00:58:25.904474",
     "exception": false,
     "start_time": "2023-11-12T00:58:25.898254",
     "status": "completed"
    },
    "tags": []
   },
   "source": [
    "Use ** for exponentiation:"
   ]
  },
  {
   "cell_type": "code",
   "execution_count": 7,
   "id": "3bbddfca",
   "metadata": {
    "execution": {
     "iopub.execute_input": "2023-11-12T00:58:25.919320Z",
     "iopub.status.busy": "2023-11-12T00:58:25.918975Z",
     "iopub.status.idle": "2023-11-12T00:58:25.925456Z",
     "shell.execute_reply": "2023-11-12T00:58:25.924178Z"
    },
    "papermill": {
     "duration": 0.017335,
     "end_time": "2023-11-12T00:58:25.928082",
     "exception": false,
     "start_time": "2023-11-12T00:58:25.910747",
     "status": "completed"
    },
    "tags": []
   },
   "outputs": [
    {
     "data": {
      "text/plain": [
       "100000"
      ]
     },
     "execution_count": 7,
     "metadata": {},
     "output_type": "execute_result"
    }
   ],
   "source": [
    "10**5"
   ]
  },
  {
   "cell_type": "markdown",
   "id": "37c22628",
   "metadata": {
    "papermill": {
     "duration": 0.00651,
     "end_time": "2023-11-12T00:58:25.941742",
     "exception": false,
     "start_time": "2023-11-12T00:58:25.935232",
     "status": "completed"
    },
    "tags": []
   },
   "source": [
    "Math expressions in Python follow the normal arithmetic order of operations so * and / are executed before + and - and ** is executed before multiplication and division\n",
    "\n",
    "**Note:** Lines within Python code that begins with # are text comments. Comments are typically used to make notes and describe what code does and do not affect code when it is run"
   ]
  },
  {
   "cell_type": "code",
   "execution_count": 8,
   "id": "e1111cc3",
   "metadata": {
    "execution": {
     "iopub.execute_input": "2023-11-12T00:58:25.956991Z",
     "iopub.status.busy": "2023-11-12T00:58:25.956382Z",
     "iopub.status.idle": "2023-11-12T00:58:25.963206Z",
     "shell.execute_reply": "2023-11-12T00:58:25.962132Z"
    },
    "papermill": {
     "duration": 0.016555,
     "end_time": "2023-11-12T00:58:25.965117",
     "exception": false,
     "start_time": "2023-11-12T00:58:25.948562",
     "status": "completed"
    },
    "tags": []
   },
   "outputs": [
    {
     "data": {
      "text/plain": [
       "77"
      ]
     },
     "execution_count": 8,
     "metadata": {},
     "output_type": "execute_result"
    }
   ],
   "source": [
    "# These operations are executed in reverse order of appearance due to the order of operations.\n",
    "2+3*5**2"
   ]
  },
  {
   "cell_type": "markdown",
   "id": "fdedf7dd",
   "metadata": {
    "papermill": {
     "duration": 0.00639,
     "end_time": "2023-11-12T00:58:25.978309",
     "exception": false,
     "start_time": "2023-11-12T00:58:25.971919",
     "status": "completed"
    },
    "tags": []
   },
   "source": [
    "We can use parentheses in your math expressions to ensure that operations are carried out on the correct order. operations within parentheses are carried out before operations that are external to the parentheses, just like you'd expect"
   ]
  },
  {
   "cell_type": "code",
   "execution_count": 9,
   "id": "122730f7",
   "metadata": {
    "execution": {
     "iopub.execute_input": "2023-11-12T00:58:25.993222Z",
     "iopub.status.busy": "2023-11-12T00:58:25.992673Z",
     "iopub.status.idle": "2023-11-12T00:58:25.998292Z",
     "shell.execute_reply": "2023-11-12T00:58:25.997478Z"
    },
    "papermill": {
     "duration": 0.015396,
     "end_time": "2023-11-12T00:58:26.000071",
     "exception": false,
     "start_time": "2023-11-12T00:58:25.984675",
     "status": "completed"
    },
    "tags": []
   },
   "outputs": [
    {
     "data": {
      "text/plain": [
       "625"
      ]
     },
     "execution_count": 9,
     "metadata": {},
     "output_type": "execute_result"
    }
   ],
   "source": [
    "# This time, the addition comes first and the exponentiation comes last\n",
    "((2+3)*5)**2\n"
   ]
  },
  {
   "cell_type": "markdown",
   "id": "f6b10f98",
   "metadata": {
    "papermill": {
     "duration": 0.006421,
     "end_time": "2023-11-12T00:58:26.013648",
     "exception": false,
     "start_time": "2023-11-12T00:58:26.007227",
     "status": "completed"
    },
    "tags": []
   },
   "source": [
    "**Modulus Operator**\n",
    "The modulus produces the remainder you'd get when dividing two numbers. Use the % sign to take the modulus in Python"
   ]
  },
  {
   "cell_type": "code",
   "execution_count": 10,
   "id": "82ba8101",
   "metadata": {
    "execution": {
     "iopub.execute_input": "2023-11-12T00:58:26.029274Z",
     "iopub.status.busy": "2023-11-12T00:58:26.028753Z",
     "iopub.status.idle": "2023-11-12T00:58:26.034088Z",
     "shell.execute_reply": "2023-11-12T00:58:26.033297Z"
    },
    "papermill": {
     "duration": 0.015065,
     "end_time": "2023-11-12T00:58:26.035720",
     "exception": false,
     "start_time": "2023-11-12T00:58:26.020655",
     "status": "completed"
    },
    "tags": []
   },
   "outputs": [
    {
     "data": {
      "text/plain": [
       "25"
      ]
     },
     "execution_count": 10,
     "metadata": {},
     "output_type": "execute_result"
    }
   ],
   "source": [
    "100%75"
   ]
  },
  {
   "cell_type": "markdown",
   "id": "009f046b",
   "metadata": {
    "papermill": {
     "duration": 0.006523,
     "end_time": "2023-11-12T00:58:26.049138",
     "exception": false,
     "start_time": "2023-11-12T00:58:26.042615",
     "status": "completed"
    },
    "tags": []
   },
   "source": [
    "> Beyond symbolic operators, Python contains a variety of named math operations available in the \"math\" module. \n",
    "> To load a library into Python, \"import\" followed by the name of the library"
   ]
  },
  {
   "cell_type": "code",
   "execution_count": 11,
   "id": "5e630c59",
   "metadata": {
    "execution": {
     "iopub.execute_input": "2023-11-12T00:58:26.065150Z",
     "iopub.status.busy": "2023-11-12T00:58:26.064566Z",
     "iopub.status.idle": "2023-11-12T00:58:26.069055Z",
     "shell.execute_reply": "2023-11-12T00:58:26.067937Z"
    },
    "papermill": {
     "duration": 0.014574,
     "end_time": "2023-11-12T00:58:26.070772",
     "exception": false,
     "start_time": "2023-11-12T00:58:26.056198",
     "status": "completed"
    },
    "tags": []
   },
   "outputs": [],
   "source": [
    "import math #load the math module"
   ]
  },
  {
   "cell_type": "code",
   "execution_count": 12,
   "id": "0f5a459c",
   "metadata": {
    "execution": {
     "iopub.execute_input": "2023-11-12T00:58:26.086612Z",
     "iopub.status.busy": "2023-11-12T00:58:26.086263Z",
     "iopub.status.idle": "2023-11-12T00:58:26.092253Z",
     "shell.execute_reply": "2023-11-12T00:58:26.091279Z"
    },
    "papermill": {
     "duration": 0.016605,
     "end_time": "2023-11-12T00:58:26.094561",
     "exception": false,
     "start_time": "2023-11-12T00:58:26.077956",
     "status": "completed"
    },
    "tags": []
   },
   "outputs": [
    {
     "data": {
      "text/plain": [
       "0.9999698965391098"
      ]
     },
     "execution_count": 12,
     "metadata": {},
     "output_type": "execute_result"
    }
   ],
   "source": [
    "# math.log() takes the natural logarithm of its argument\n",
    "math.log(2.7182)"
   ]
  },
  {
   "cell_type": "code",
   "execution_count": 13,
   "id": "b2cf71a3",
   "metadata": {
    "execution": {
     "iopub.execute_input": "2023-11-12T00:58:26.111629Z",
     "iopub.status.busy": "2023-11-12T00:58:26.111031Z",
     "iopub.status.idle": "2023-11-12T00:58:26.117728Z",
     "shell.execute_reply": "2023-11-12T00:58:26.116312Z"
    },
    "papermill": {
     "duration": 0.018652,
     "end_time": "2023-11-12T00:58:26.120752",
     "exception": false,
     "start_time": "2023-11-12T00:58:26.102100",
     "status": "completed"
    },
    "tags": []
   },
   "outputs": [
    {
     "data": {
      "text/plain": [
       "2.0"
      ]
     },
     "execution_count": 13,
     "metadata": {},
     "output_type": "execute_result"
    }
   ],
   "source": [
    "# Add a second argument to specify the log base :\n",
    "math.log(100, 10) #take the og base 10 0f 100"
   ]
  },
  {
   "cell_type": "code",
   "execution_count": 14,
   "id": "9c504539",
   "metadata": {
    "execution": {
     "iopub.execute_input": "2023-11-12T00:58:26.137089Z",
     "iopub.status.busy": "2023-11-12T00:58:26.136743Z",
     "iopub.status.idle": "2023-11-12T00:58:26.143129Z",
     "shell.execute_reply": "2023-11-12T00:58:26.142211Z"
    },
    "papermill": {
     "duration": 0.016633,
     "end_time": "2023-11-12T00:58:26.144947",
     "exception": false,
     "start_time": "2023-11-12T00:58:26.128314",
     "status": "completed"
    },
    "tags": []
   },
   "outputs": [
    {
     "data": {
      "text/plain": [
       "22026.465794806718"
      ]
     },
     "execution_count": 14,
     "metadata": {},
     "output_type": "execute_result"
    }
   ],
   "source": [
    "# math.exp()raises e to the power of its argument \n",
    "math.exp(10)"
   ]
  },
  {
   "cell_type": "code",
   "execution_count": 15,
   "id": "71229e22",
   "metadata": {
    "execution": {
     "iopub.execute_input": "2023-11-12T00:58:26.161384Z",
     "iopub.status.busy": "2023-11-12T00:58:26.161076Z",
     "iopub.status.idle": "2023-11-12T00:58:26.167475Z",
     "shell.execute_reply": "2023-11-12T00:58:26.166287Z"
    },
    "papermill": {
     "duration": 0.017529,
     "end_time": "2023-11-12T00:58:26.169895",
     "exception": false,
     "start_time": "2023-11-12T00:58:26.152366",
     "status": "completed"
    },
    "tags": []
   },
   "outputs": [
    {
     "data": {
      "text/plain": [
       "8.0"
      ]
     },
     "execution_count": 15,
     "metadata": {},
     "output_type": "execute_result"
    }
   ],
   "source": [
    "# Use math.sqrt() to take the square root of a number\n",
    "math.sqrt(64)"
   ]
  },
  {
   "cell_type": "code",
   "execution_count": 16,
   "id": "29fa5efd",
   "metadata": {
    "execution": {
     "iopub.execute_input": "2023-11-12T00:58:26.187352Z",
     "iopub.status.busy": "2023-11-12T00:58:26.186175Z",
     "iopub.status.idle": "2023-11-12T00:58:26.193145Z",
     "shell.execute_reply": "2023-11-12T00:58:26.192318Z"
    },
    "papermill": {
     "duration": 0.017067,
     "end_time": "2023-11-12T00:58:26.194746",
     "exception": false,
     "start_time": "2023-11-12T00:58:26.177679",
     "status": "completed"
    },
    "tags": []
   },
   "outputs": [
    {
     "data": {
      "text/plain": [
       "30"
      ]
     },
     "execution_count": 16,
     "metadata": {},
     "output_type": "execute_result"
    }
   ],
   "source": [
    "# Use abs() to get the absolute value of a number. Note abs() is a base Python function\n",
    "abs(-30)"
   ]
  },
  {
   "cell_type": "code",
   "execution_count": 17,
   "id": "5c6ccd95",
   "metadata": {
    "execution": {
     "iopub.execute_input": "2023-11-12T00:58:26.211028Z",
     "iopub.status.busy": "2023-11-12T00:58:26.210684Z",
     "iopub.status.idle": "2023-11-12T00:58:26.218321Z",
     "shell.execute_reply": "2023-11-12T00:58:26.216702Z"
    },
    "papermill": {
     "duration": 0.019,
     "end_time": "2023-11-12T00:58:26.221125",
     "exception": false,
     "start_time": "2023-11-12T00:58:26.202125",
     "status": "completed"
    },
    "tags": []
   },
   "outputs": [
    {
     "data": {
      "text/plain": [
       "3.141592653589793"
      ]
     },
     "execution_count": 17,
     "metadata": {},
     "output_type": "execute_result"
    }
   ],
   "source": [
    "# Get the constant pi\n",
    "math.pi"
   ]
  },
  {
   "cell_type": "code",
   "execution_count": 18,
   "id": "6609952f",
   "metadata": {
    "execution": {
     "iopub.execute_input": "2023-11-12T00:58:26.239142Z",
     "iopub.status.busy": "2023-11-12T00:58:26.238787Z",
     "iopub.status.idle": "2023-11-12T00:58:26.245477Z",
     "shell.execute_reply": "2023-11-12T00:58:26.244443Z"
    },
    "papermill": {
     "duration": 0.017987,
     "end_time": "2023-11-12T00:58:26.247677",
     "exception": false,
     "start_time": "2023-11-12T00:58:26.229690",
     "status": "completed"
    },
    "tags": []
   },
   "outputs": [
    {
     "data": {
      "text/plain": [
       "233"
      ]
     },
     "execution_count": 18,
     "metadata": {},
     "output_type": "execute_result"
    }
   ],
   "source": [
    "# Use round( to round a number to the nearest whole number)\n",
    "round(233.234)"
   ]
  },
  {
   "cell_type": "code",
   "execution_count": 19,
   "id": "25c1c012",
   "metadata": {
    "execution": {
     "iopub.execute_input": "2023-11-12T00:58:26.264895Z",
     "iopub.status.busy": "2023-11-12T00:58:26.264522Z",
     "iopub.status.idle": "2023-11-12T00:58:26.270916Z",
     "shell.execute_reply": "2023-11-12T00:58:26.269992Z"
    },
    "papermill": {
     "duration": 0.017296,
     "end_time": "2023-11-12T00:58:26.272766",
     "exception": false,
     "start_time": "2023-11-12T00:58:26.255470",
     "status": "completed"
    },
    "tags": []
   },
   "outputs": [
    {
     "data": {
      "text/plain": [
       "233.3"
      ]
     },
     "execution_count": 19,
     "metadata": {},
     "output_type": "execute_result"
    }
   ],
   "source": [
    "# Add a second argument to round to a specified decimal place\n",
    "round(233.345, 1)"
   ]
  },
  {
   "cell_type": "code",
   "execution_count": 20,
   "id": "76cd8e97",
   "metadata": {
    "execution": {
     "iopub.execute_input": "2023-11-12T00:58:26.345689Z",
     "iopub.status.busy": "2023-11-12T00:58:26.345351Z",
     "iopub.status.idle": "2023-11-12T00:58:26.351262Z",
     "shell.execute_reply": "2023-11-12T00:58:26.350130Z"
    },
    "papermill": {
     "duration": 0.072857,
     "end_time": "2023-11-12T00:58:26.354223",
     "exception": false,
     "start_time": "2023-11-12T00:58:26.281366",
     "status": "completed"
    },
    "tags": []
   },
   "outputs": [
    {
     "data": {
      "text/plain": [
       "2330.0"
      ]
     },
     "execution_count": 20,
     "metadata": {},
     "output_type": "execute_result"
    }
   ],
   "source": [
    "# Enter a negative  number to round to the left of the decimal\n",
    "round (2333.234, -1)"
   ]
  },
  {
   "cell_type": "code",
   "execution_count": 21,
   "id": "d6befe95",
   "metadata": {
    "execution": {
     "iopub.execute_input": "2023-11-12T00:58:26.372149Z",
     "iopub.status.busy": "2023-11-12T00:58:26.371790Z",
     "iopub.status.idle": "2023-11-12T00:58:26.378496Z",
     "shell.execute_reply": "2023-11-12T00:58:26.376825Z"
    },
    "papermill": {
     "duration": 0.018439,
     "end_time": "2023-11-12T00:58:26.381052",
     "exception": false,
     "start_time": "2023-11-12T00:58:26.362613",
     "status": "completed"
    },
    "tags": []
   },
   "outputs": [
    {
     "data": {
      "text/plain": [
       "2"
      ]
     },
     "execution_count": 21,
     "metadata": {},
     "output_type": "execute_result"
    }
   ],
   "source": [
    "# Round down to the nearest whole number with math.floor()\n",
    "math.floor(2.8)"
   ]
  },
  {
   "cell_type": "code",
   "execution_count": 22,
   "id": "81dfae07",
   "metadata": {
    "execution": {
     "iopub.execute_input": "2023-11-12T00:58:26.402430Z",
     "iopub.status.busy": "2023-11-12T00:58:26.402079Z",
     "iopub.status.idle": "2023-11-12T00:58:26.407506Z",
     "shell.execute_reply": "2023-11-12T00:58:26.406449Z"
    },
    "papermill": {
     "duration": 0.01648,
     "end_time": "2023-11-12T00:58:26.409304",
     "exception": false,
     "start_time": "2023-11-12T00:58:26.392824",
     "status": "completed"
    },
    "tags": []
   },
   "outputs": [
    {
     "data": {
      "text/plain": [
       "3"
      ]
     },
     "execution_count": 22,
     "metadata": {},
     "output_type": "execute_result"
    }
   ],
   "source": [
    "# Round up with math.ceil\n",
    "math.ceil(2.2)"
   ]
  }
 ],
 "metadata": {
  "kernelspec": {
   "display_name": "Python 3",
   "language": "python",
   "name": "python3"
  },
  "language_info": {
   "codemirror_mode": {
    "name": "ipython",
    "version": 3
   },
   "file_extension": ".py",
   "mimetype": "text/x-python",
   "name": "python",
   "nbconvert_exporter": "python",
   "pygments_lexer": "ipython3",
   "version": "3.10.12"
  },
  "papermill": {
   "default_parameters": {},
   "duration": 4.141431,
   "end_time": "2023-11-12T00:58:26.838327",
   "environment_variables": {},
   "exception": null,
   "input_path": "__notebook__.ipynb",
   "output_path": "__notebook__.ipynb",
   "parameters": {},
   "start_time": "2023-11-12T00:58:22.696896",
   "version": "2.4.0"
  }
 },
 "nbformat": 4,
 "nbformat_minor": 5
}
